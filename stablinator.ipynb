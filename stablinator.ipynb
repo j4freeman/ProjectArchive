{
 "cells": [
  {
   "cell_type": "code",
   "execution_count": 1,
   "metadata": {
    "ExecuteTime": {
     "end_time": "2019-08-21T11:48:26.808396Z",
     "start_time": "2019-08-21T11:48:25.829163Z"
    }
   },
   "outputs": [],
   "source": [
    "%matplotlib inline\n",
    "\n",
    "import numpy as np\n",
    "import pickle\n",
    "import matplotlib.pyplot as plt\n",
    "from tqdm import tqdm_notebook\n",
    "from sklearn import manifold\n",
    "import time\n",
    "import itertools\n",
    "import os\n",
    "import community as cm\n",
    "import networkx as nx\n",
    "from scipy.optimize import curve_fit\n",
    "from natsort import natsorted\n",
    "from sklearn import cluster"
   ]
  },
  {
   "cell_type": "code",
   "execution_count": 2,
   "metadata": {
    "ExecuteTime": {
     "end_time": "2019-08-21T11:48:26.817373Z",
     "start_time": "2019-08-21T11:48:26.809394Z"
    }
   },
   "outputs": [],
   "source": [
    "def relative_stability(Fs, Gs):\n",
    "    stabs = []\n",
    "    for i in range(len(Fs) - 1):\n",
    "        j1 = np.matrix(Fs[i])\n",
    "        j2 = np.matrix(Fs[i+1])\n",
    "                \n",
    "        j2 = j2[:j1.shape[0], :]\n",
    "                \n",
    "        a1 = nx.to_numpy_matrix(Gs[i])\n",
    "        a2 = nx.to_numpy_matrix(Gs[i+1])[:a1.shape[0], :a1.shape[0]]\n",
    "        \n",
    "        t1 = np.linalg.norm(j2 - j1, 'fro')\n",
    "        t1 /= np.linalg.norm(j1, 'fro')\n",
    "        t2 = np.linalg.norm(a2 - a1, 'fro')\n",
    "        t2 /= np.linalg.norm(a1, 'fro')\n",
    "        \n",
    "        stabs.append(t1 / t2)\n",
    "        \n",
    "    absolutes = [abs(x) for x in stabs]\n",
    "#     return stabs, max(absolutes) - min(absolutes)\n",
    "    return stabs, np.average(stabs)\n",
    "\n",
    "def relative_stability(Fs, Gs):\n",
    "    stabs = []\n",
    "    for i in range(len(Fs) - 1):\n",
    "        j1 = np.matrix(Fs[i])\n",
    "        j2 = np.matrix(Fs[i+1])\n",
    "                \n",
    "        j2 = j2[:j1.shape[0], :]\n",
    "                \n",
    "        a1 = nx.to_numpy_matrix(Gs[i])\n",
    "        a2 = nx.to_numpy_matrix(Gs[i+1])[:a1.shape[0], :a1.shape[0]]\n",
    "        \n",
    "        t1 = np.linalg.norm(j2 - j1, 'fro')\n",
    "#         t1 /= np.linalg.norm(j1, 'fro')\n",
    "        t2 = np.linalg.norm(a2 - a1, 'fro')\n",
    "#         t2 /= np.linalg.norm(a1, 'fro')\n",
    "        \n",
    "        stabs.append(t1 / t2)\n",
    "        \n",
    "    absolutes = [abs(x) for x in stabs]\n",
    "#     return stabs, max(absolutes) - min(absolutes)\n",
    "    return stabs, np.average(stabs)"
   ]
  },
  {
   "cell_type": "code",
   "execution_count": 20,
   "metadata": {
    "ExecuteTime": {
     "end_time": "2019-08-16T09:27:39.674007Z",
     "start_time": "2019-08-16T09:27:37.072362Z"
    }
   },
   "outputs": [],
   "source": [
    "nets = [nx.read_graphml('smallworld/time_graphs/0/' + str(2500 + i * 10) + '.graphml') for i in range(10)]"
   ]
  },
  {
   "cell_type": "code",
   "execution_count": 21,
   "metadata": {
    "ExecuteTime": {
     "end_time": "2019-08-16T09:27:42.276256Z",
     "start_time": "2019-08-16T09:27:39.674959Z"
    }
   },
   "outputs": [],
   "source": [
    "d1s = []\n",
    "\n",
    "for i in range(1, 26):\n",
    "\n",
    "    (t1, _, _) = pickle.load(open('walkruns/' + str(i) + '.pkl', 'rb'))\n",
    "    d1s.append(np.average([t1[t+1] - t1[t] for t in range(len(t1) - 1)]))\n",
    "\n",
    "d2s = []\n",
    "for f in natsorted(os.listdir('DynamicGEM-master/dynruns/')):\n",
    "\n",
    "    (t1, _) = pickle.load(open('DynamicGEM-master/dynruns/' + f, 'rb'))\n",
    "    d2s.append(np.average([t1[t+1] - t1[t] for t in range(len(t1) - 1)]))\n",
    "\n",
    "comps = []\n",
    "for d in d1s:\n",
    "    dists = [np.abs(a - d) for a in d2s]\n",
    "    closest = dists.index(min(dists))\n",
    "#     comps.append(closest)\n",
    "    comps.append(natsorted(os.listdir('DynamicGEM-master/dynruns/'))[closest])"
   ]
  },
  {
   "cell_type": "code",
   "execution_count": 22,
   "metadata": {
    "ExecuteTime": {
     "end_time": "2019-08-16T09:27:59.895807Z",
     "start_time": "2019-08-16T09:27:42.277747Z"
    }
   },
   "outputs": [
    {
     "data": {
      "application/vnd.jupyter.widget-view+json": {
       "model_id": "3cd3b032396a419682d51c5844b5f41b",
       "version_major": 2,
       "version_minor": 0
      },
      "text/plain": [
       "HBox(children=(IntProgress(value=0, max=25), HTML(value='')))"
      ]
     },
     "metadata": {},
     "output_type": "display_data"
    },
    {
     "name": "stdout",
     "output_type": "stream",
     "text": [
      "\n"
     ]
    }
   ],
   "source": [
    "files = natsorted(os.listdir('DynamicGEM-master/dynruns/'))\n",
    "dyns = []\n",
    "\n",
    "# for i in range(len(files) - 1):\n",
    "for i in tqdm_notebook(comps):\n",
    "    \n",
    "    (_, t) = pickle.load(open('DynamicGEM-master/dynruns/' + i, 'rb'))\n",
    "    \n",
    "    frobs = relative_stability(t, nets)\n",
    "        \n",
    "    dyns.append(frobs[1])\n",
    "\n"
   ]
  },
  {
   "cell_type": "code",
   "execution_count": 23,
   "metadata": {
    "ExecuteTime": {
     "end_time": "2019-08-16T09:28:17.876773Z",
     "start_time": "2019-08-16T09:27:59.896804Z"
    }
   },
   "outputs": [
    {
     "data": {
      "application/vnd.jupyter.widget-view+json": {
       "model_id": "ac2aedb5840149818fa781dca2ec0308",
       "version_major": 2,
       "version_minor": 0
      },
      "text/plain": [
       "HBox(children=(IntProgress(value=0, max=25), HTML(value='')))"
      ]
     },
     "metadata": {},
     "output_type": "display_data"
    },
    {
     "name": "stdout",
     "output_type": "stream",
     "text": [
      "\n"
     ]
    }
   ],
   "source": [
    "files = natsorted(os.listdir('walkruns/'))\n",
    "\n",
    "walks = []\n",
    "\n",
    "for i in tqdm_notebook(range(len(files))):\n",
    "    \n",
    "    (_, t, _) = pickle.load(open('walkruns/' + files[i], 'rb'))\n",
    "    \n",
    "    frobs = []\n",
    "    \n",
    "    frobs = relative_stability(t, nets)\n",
    "        \n",
    "    walks.append(frobs[1])\n",
    "\n"
   ]
  },
  {
   "cell_type": "code",
   "execution_count": 24,
   "metadata": {
    "ExecuteTime": {
     "end_time": "2019-08-16T09:28:17.907758Z",
     "start_time": "2019-08-16T09:28:17.878300Z"
    }
   },
   "outputs": [
    {
     "name": "stdout",
     "output_type": "stream",
     "text": [
      "001 001 2.85583 2.00429\n",
      "002 009 2.81684 6.66086\n",
      "003 018 2.80367 20.67973\n",
      "004 025 2.89664 27.94330\n",
      "005 035 3.00394 32.41145\n",
      "006 036 3.24783 33.32802\n",
      "007 046 2.69582 41.45247\n",
      "008 051 3.44661 48.37501\n",
      "009 060 3.65257 56.33287\n",
      "010 075 3.49583 60.40742\n",
      "011 085 3.89120 56.81872\n",
      "012 090 2.87088 57.16433\n",
      "013 100 4.05495 63.12670\n",
      "014 110 3.83878 58.16318\n",
      "015 115 4.35454 61.36024\n",
      "016 120 4.23255 57.91123\n",
      "017 150 3.66358 61.75410\n",
      "018 150 4.67756 61.75410\n",
      "019 150 5.14744 61.75410\n",
      "020 175 3.58570 61.34391\n",
      "021 175 3.86193 61.34391\n",
      "022 175 4.00495 61.34391\n",
      "023 175 3.79975 61.34391\n",
      "024 200 4.25090 62.58552\n",
      "025 200 4.42522 62.58552\n"
     ]
    }
   ],
   "source": [
    "for i in range(len(walks)):\n",
    "    print('{:03d} {:03d} {:.5f} {:.5f}'.format(i + 1, int(comps[i][:-4]), walks[i], dyns[i]))"
   ]
  },
  {
   "cell_type": "code",
   "execution_count": 19,
   "metadata": {
    "ExecuteTime": {
     "end_time": "2019-08-16T09:59:24.875085Z",
     "start_time": "2019-08-16T09:59:21.093984Z"
    }
   },
   "outputs": [
    {
     "data": {
      "text/plain": [
       "([0.7005948172205874,\n",
       "  0.5980503869518543,\n",
       "  0.5318534648408413,\n",
       "  0.5593390515145943,\n",
       "  0.5265829767849693,\n",
       "  0.5622079425771058,\n",
       "  0.5389078846546018,\n",
       "  0.5210415690077949,\n",
       "  0.49871611609338007],\n",
       " 0.5596993566273033)"
      ]
     },
     "execution_count": 19,
     "metadata": {},
     "output_type": "execute_result"
    }
   ],
   "source": [
    "relative_stability(pickle.load(open('walk_AS/15.pkl', 'rb'))[1], [nx.read_graphml(\"hepth/graphs/\" + str(5*m) + \".graphml\") for m in range(10)])"
   ]
  },
  {
   "cell_type": "code",
   "execution_count": 57,
   "metadata": {
    "ExecuteTime": {
     "end_time": "2019-08-16T15:13:32.901398Z",
     "start_time": "2019-08-16T15:13:29.966285Z"
    },
    "scrolled": true
   },
   "outputs": [
    {
     "data": {
      "text/plain": [
       "([5.528404553124908,\n",
       "  3.786490351138618,\n",
       "  4.708454879395332,\n",
       "  4.798611657737502,\n",
       "  4.2227385117419995,\n",
       "  3.8746821984103192,\n",
       "  4.125266366147289,\n",
       "  4.285680961572408,\n",
       "  3.860557508101947],\n",
       " 4.354542998596703)"
      ]
     },
     "execution_count": 57,
     "metadata": {},
     "output_type": "execute_result"
    }
   ],
   "source": [
    "relative_stability(pickle.load(open('walkruns/15.pkl', 'rb'))[1], [nx.read_graphml('smallworld/time_graphs/0/' + str(2500 + i * 10) + '.graphml') for i in range(10)])"
   ]
  },
  {
   "cell_type": "code",
   "execution_count": 21,
   "metadata": {
    "ExecuteTime": {
     "end_time": "2019-08-16T09:59:31.999138Z",
     "start_time": "2019-08-16T09:59:28.154204Z"
    }
   },
   "outputs": [
    {
     "data": {
      "text/plain": [
       "([3.1758387871033746,\n",
       "  3.1184947513661765,\n",
       "  2.484513416304579,\n",
       "  2.7156379150618544,\n",
       "  2.682019721998298,\n",
       "  1.7417028919089208,\n",
       "  3.0368925180734108,\n",
       "  2.938043428828487,\n",
       "  2.247810946716104],\n",
       " 2.6823282641512454)"
      ]
     },
     "execution_count": 21,
     "metadata": {},
     "output_type": "execute_result"
    }
   ],
   "source": [
    "relative_stability(pickle.load(open('DynamicGEM-master/dynAS/100.pkl', 'rb'))[1], [nx.read_graphml(\"hepth/graphs/\" + str(5*m) + \".graphml\") for m in range(10)])"
   ]
  },
  {
   "cell_type": "code",
   "execution_count": 22,
   "metadata": {
    "ExecuteTime": {
     "end_time": "2019-08-16T09:59:36.038833Z",
     "start_time": "2019-08-16T09:59:32.001564Z"
    }
   },
   "outputs": [
    {
     "data": {
      "text/plain": [
       "([61.30401537407677,\n",
       "  48.14854821223269,\n",
       "  66.51416881436664,\n",
       "  61.4249718954782,\n",
       "  56.22299189975795,\n",
       "  55.670611478807125,\n",
       "  56.96258070855326,\n",
       "  61.64232818981958,\n",
       "  58.87245938243705],\n",
       " 58.52918621728102)"
      ]
     },
     "execution_count": 22,
     "metadata": {},
     "output_type": "execute_result"
    }
   ],
   "source": [
    "relative_stability(pickle.load(open('DynamicGEM-master/dynruns/100.pkl', 'rb'))[1], [nx.read_graphml('smallworld/time_graphs/0/' + str(2500 + i * 10) + '.graphml') for i in range(10)])"
   ]
  },
  {
   "cell_type": "code",
   "execution_count": 23,
   "metadata": {
    "ExecuteTime": {
     "end_time": "2019-08-16T09:59:39.793032Z",
     "start_time": "2019-08-16T09:59:36.040909Z"
    }
   },
   "outputs": [
    {
     "data": {
      "text/plain": [
       "([4.068832600341087,\n",
       "  4.218527151271345,\n",
       "  3.9173330989850794,\n",
       "  3.9994623424769906,\n",
       "  3.957556108773782,\n",
       "  4.165228036376949,\n",
       "  4.027961378811749,\n",
       "  3.9717920598969925,\n",
       "  3.783626472976652],\n",
       " 4.012257694434514)"
      ]
     },
     "execution_count": 23,
     "metadata": {},
     "output_type": "execute_result"
    }
   ],
   "source": [
    "relative_stability(pickle.load(open('hepth/AS_node2vec.pkl', 'rb')), [nx.read_graphml(\"hepth/graphs/\" + str(5*m) + \".graphml\") for m in range(10)])"
   ]
  },
  {
   "cell_type": "code",
   "execution_count": 24,
   "metadata": {
    "ExecuteTime": {
     "end_time": "2019-08-16T09:59:43.478826Z",
     "start_time": "2019-08-16T09:59:39.795016Z"
    }
   },
   "outputs": [
    {
     "data": {
      "text/plain": [
       "([21.92909329297634,\n",
       "  18.42953536092099,\n",
       "  22.645881547326837,\n",
       "  21.65560388219202,\n",
       "  19.36709170489797,\n",
       "  19.460462767474073,\n",
       "  20.08918844037449,\n",
       "  21.855877889950246,\n",
       "  19.252553809347177],\n",
       " 20.520587632828903)"
      ]
     },
     "execution_count": 24,
     "metadata": {},
     "output_type": "execute_result"
    }
   ],
   "source": [
    "relative_stability(pickle.load(open('hepth/runs_node2vec.pkl', 'rb')), [nx.read_graphml('smallworld/time_graphs/0/' + str(2500 + i * 10) + '.graphml') for i in range(10)])"
   ]
  },
  {
   "cell_type": "code",
   "execution_count": 3,
   "metadata": {
    "ExecuteTime": {
     "end_time": "2019-08-19T15:08:19.006318Z",
     "start_time": "2019-08-19T15:08:19.002899Z"
    }
   },
   "outputs": [],
   "source": [
    "def relative_stability2(Fs, Gs):\n",
    "    stabs = []\n",
    "    for i in range(len(Fs) - 1):\n",
    "        j1 = np.matrix(Fs[i])\n",
    "        j2 = np.matrix(Fs[i+1])\n",
    "                \n",
    "        j2 = j2[:j1.shape[0], :]\n",
    "                \n",
    "        a1 = nx.to_numpy_matrix(Gs[i])\n",
    "        a2 = nx.to_numpy_matrix(Gs[i+1])[:a1.shape[0], :a1.shape[0]]\n",
    "        \n",
    "        t1 = np.linalg.norm(j2 - j1, 'fro')\n",
    "#         t1 /= np.linalg.norm(j1, 'fro')\n",
    "        t2 = np.linalg.norm(a2 - a1, 'fro')\n",
    "#         t2 /= np.linalg.norm(a1, 'fro')\n",
    "        \n",
    "        stabs.append((t1, t2))\n",
    "        \n",
    "    return stabs"
   ]
  },
  {
   "cell_type": "code",
   "execution_count": 57,
   "metadata": {
    "ExecuteTime": {
     "end_time": "2019-08-19T14:29:53.396564Z",
     "start_time": "2019-08-19T14:29:53.388598Z"
    }
   },
   "outputs": [
    {
     "name": "stdout",
     "output_type": "stream",
     "text": [
      "99\n",
      "[1000, 1001, 1002, 1003, 1018, 1051, 1052, 1053, 1054, 1066, 1067, 1068, 1069, 1070, 1071, 1072, 1073, 1074, 1075, 1079, 1080, 1081, 1082, 1083, 1084, 1085, 1086, 1102, 1103, 1104, 1105, 1106, 1107, 1108, 1109, 1110, 1111, 1153, 1156, 1157, 1158, 1160, 1161, 1162, 1163, 1164, 1171, 1235, 1236, 1237, 1269, 1270, 1278, 1279, 1295, 1296, 1300, 1301, 1302, 1303, 1304, 1305, 1306, 1314, 1315, 1318, 1319, 1320, 1322, 1327, 1328, 1329, 1330, 1346, 1347, 1348, 1349, 1354, 1355, 1356, 1358, 1396, 1397, 1398, 1402, 1403, 1405, 1406, 1419, 1420, 1421, 1440, 1441, 1442, 1443, 1444, 1447, 1449, 1450]\n"
     ]
    }
   ],
   "source": [
    "cur = 1000\n",
    "\n",
    "evals = [cur]\n",
    "\n",
    "while evals[-1] < 1450:\n",
    "#     rand = np.random.rand()\n",
    "#     if rand < 0.025:\n",
    "#         cur += 100\n",
    "#     elif rand < 0.1:\n",
    "#         cur += 25\n",
    "#     else:\n",
    "#         cur += 1\n",
    "    rand = int(np.random.beta(0.1, 3) * 100) + 1\n",
    "    cur = cur + rand\n",
    "    evals.append(cur)\n",
    "    \n",
    "print(len(evals))\n",
    "\n",
    "print(evals)"
   ]
  },
  {
   "cell_type": "code",
   "execution_count": 4,
   "metadata": {
    "ExecuteTime": {
     "end_time": "2019-08-19T15:09:15.600900Z",
     "start_time": "2019-08-19T15:08:23.805109Z"
    }
   },
   "outputs": [
    {
     "name": "stdout",
     "output_type": "stream",
     "text": [
      "[0.12503727]\n"
     ]
    },
    {
     "data": {
      "image/png": "[encoded data removed]",
      "text/plain": [
       "<Figure size 432x288 with 1 Axes>"
      ]
     },
     "metadata": {
      "needs_background": "light"
     },
     "output_type": "display_data"
    },
    {
     "data": {
      "text/plain": [
       "<Figure size 432x288 with 0 Axes>"
      ]
     },
     "metadata": {},
     "output_type": "display_data"
    }
   ],
   "source": [
    "all_1s = []\n",
    "all_2s = []\n",
    "\n",
    "evals = [1000, 1001, 1002, 1003, 1018, 1051, 1052, 1053, 1054, 1066, 1067, 1068, 1069, 1070, 1071, 1072, 1073, 1074, 1075, 1079, 1080, 1081, 1082, 1083, 1084, 1085, 1086, 1102, 1103, 1104, 1105, 1106, 1107, 1108, 1109, 1110, 1111, 1153, 1156, 1157, 1158, 1160, 1161, 1162, 1163, 1164, 1171, 1235, 1236, 1237, 1269, 1270, 1278, 1279, 1295, 1296, 1300, 1301, 1302, 1303, 1304, 1305, 1306, 1314, 1315, 1318, 1319, 1320, 1322, 1327, 1328, 1329, 1330, 1346, 1347, 1348, 1349, 1354, 1355, 1356, 1358, 1396, 1397, 1398, 1402, 1403, 1405, 1406, 1419, 1420, 1421, 1440, 1441, 1442, 1443, 1444, 1447, 1449, 1450]\n",
    "\n",
    "bleghs = relative_stability2(pickle.load(open('anom10.pkl', 'rb'))[1], [nx.read_graphml('runs/graphs/m' + str(i)  + '.graphml') for i in evals])\n",
    "\n",
    "ones = [b[0] for b in bleghs][1:]\n",
    "ones = [np.abs(ones[i] - ones[i+1]) for i in range(len(ones) - 1)]\n",
    "\n",
    "twos = [b[1] for b in bleghs][1:]\n",
    "twos = [np.abs(twos[i] - twos[i+1]) for i in range(len(twos) - 1)]\n",
    "\n",
    "all_1s += ones\n",
    "all_2s += twos\n",
    "\n",
    "plt.xlabel('$\\Delta A$')\n",
    "plt.ylabel('$\\Delta E$')\n",
    "\n",
    "plt.plot(twos, ones, 'x')\n",
    "\n",
    "evals = [1000, 1001, 1002, 1006, 1007, 1011, 1012, 1013, 1045, 1046, 1047, 1060, 1072, 1073, 1077, 1079, 1080, 1081, 1082, 1083, 1093, 1097, 1100, 1101, 1102, 1115, 1116, 1117, 1119, 1120, 1122, 1139, 1145, 1147, 1148, 1209, 1215, 1216, 1217, 1231, 1275, 1276, 1277, 1278, 1279, 1280, 1283, 1284, 1287, 1288, 1289, 1290, 1291, 1292, 1293, 1294, 1295, 1296, 1320, 1321, 1335, 1336, 1337, 1338, 1339, 1340, 1393, 1394, 1395, 1396, 1397, 1398, 1399, 1408, 1409, 1410, 1417, 1418, 1419, 1420, 1421, 1424, 1452]\n",
    "\n",
    "bleghs = relative_stability2(pickle.load(open('anom102.pkl', 'rb'))[1], [nx.read_graphml('runs/graphs/m' + str(i)  + '.graphml') for i in evals])\n",
    "\n",
    "ones = [b[0] for b in bleghs][1:]\n",
    "ones = [np.abs(ones[i] - ones[i+1]) for i in range(len(ones) - 1)]\n",
    "\n",
    "twos = [b[1] for b in bleghs][1:]\n",
    "twos = [np.abs(twos[i] - twos[i+1]) for i in range(len(twos) - 1)]\n",
    "\n",
    "all_1s += ones\n",
    "all_2s += twos\n",
    "\n",
    "plt.plot(twos, ones, 'x')\n",
    "\n",
    "evals = [1000, 1001, 1002, 1003, 1004, 1005, 1006, 1007, 1008, 1009, 1010, 1011, 1012, 1013, 1014, 1036, 1037, 1038, 1039, 1040, 1041, 1042, 1063, 1068, 1069, 1070, 1071, 1072, 1073, 1074, 1075, 1076, 1104, 1105, 1106, 1107, 1112, 1113, 1114, 1116, 1133, 1134, 1135, 1136, 1137, 1138, 1139, 1140, 1141, 1142, 1143, 1182, 1194, 1195, 1197, 1198, 1199, 1200, 1212, 1235, 1236, 1237, 1238, 1239, 1240, 1241, 1242, 1243, 1245, 1249, 1250, 1251, 1254, 1255, 1256, 1257, 1258, 1259, 1260, 1266, 1267, 1268, 1269, 1274, 1275, 1276, 1277, 1278, 1279, 1280, 1281, 1282, 1323, 1330, 1331, 1332, 1334, 1335, 1336, 1337, 1338, 1339, 1341, 1342, 1343, 1344, 1345, 1346, 1347, 1348, 1349, 1350, 1351, 1364, 1427, 1428, 1429, 1430, 1431, 1432, 1433, 1434, 1439, 1461]\n",
    "\n",
    "bleghs = relative_stability2(pickle.load(open('anom103.pkl', 'rb'))[1], [nx.read_graphml('runs/graphs/m' + str(i)  + '.graphml') for i in evals])\n",
    "\n",
    "ones = [b[0] for b in bleghs][1:]\n",
    "ones = [np.abs(ones[i] - ones[i+1]) for i in range(len(ones) - 1)]\n",
    "\n",
    "twos = [b[1] for b in bleghs][1:]\n",
    "twos = [np.abs(twos[i] - twos[i+1]) for i in range(len(twos) - 1)]\n",
    "\n",
    "all_1s += ones\n",
    "all_2s += twos\n",
    "\n",
    "plt.plot(twos, ones, 'x')\n",
    "\n",
    "def hausdorff(lb, db):\n",
    "    return db*lb\n",
    "\n",
    "popt = curve_fit(hausdorff, all_2s, all_1s)[0]\n",
    "print(popt)\n",
    "db = popt[0]\n",
    "xx = np.linspace(min(all_2s), max(all_2s) + 1, 100)\n",
    "yy = [hausdorff(x, *popt) for x in xx]\n",
    "plt.plot(xx, yy, lw=5)\n",
    "\n",
    "plt.show()\n",
    "plt.cla()\n",
    "plt.clf()"
   ]
  },
  {
   "cell_type": "code",
   "execution_count": 61,
   "metadata": {
    "ExecuteTime": {
     "end_time": "2019-08-19T15:03:19.907517Z",
     "start_time": "2019-08-19T15:03:19.799011Z"
    }
   },
   "outputs": [
    {
     "name": "stdout",
     "output_type": "stream",
     "text": [
      "[0.12503727]\n"
     ]
    },
    {
     "data": {
      "text/plain": [
       "0.0177982653641916"
      ]
     },
     "execution_count": 61,
     "metadata": {},
     "output_type": "execute_result"
    },
    {
     "data": {
      "image/png": "[encoded data removed]",
      "text/plain": [
       "<Figure size 432x288 with 1 Axes>"
      ]
     },
     "metadata": {
      "needs_background": "light"
     },
     "output_type": "display_data"
    }
   ],
   "source": [
    "def hausdorff(lb, db):\n",
    "    return db*lb\n",
    "\n",
    "popt = curve_fit(hausdorff, all_2s, all_1s)[0]\n",
    "print(popt)\n",
    "db = popt[0]\n",
    "plt.plot(all_2s, all_1s, 'x')\n",
    "xx = np.linspace(min(all_2s), max(all_2s) + 1, 100)\n",
    "yy = [hausdorff(x, *popt) for x in xx]\n",
    "plt.plot(xx, yy, lw=5)"
   ]
  },
  {
   "cell_type": "code",
   "execution_count": null,
   "metadata": {},
   "outputs": [],
   "source": []
  }
 ],
 "metadata": {
  "kernelspec": {
   "display_name": "Python 3",
   "language": "python",
   "name": "python3"
  },
  "language_info": {
   "codemirror_mode": {
    "name": "ipython",
    "version": 3
   },
   "file_extension": ".py",
   "mimetype": "text/x-python",
   "name": "python",
   "nbconvert_exporter": "python",
   "pygments_lexer": "ipython3",
   "version": "3.7.0"
  }
 },
 "nbformat": 4,
 "nbformat_minor": 2
}

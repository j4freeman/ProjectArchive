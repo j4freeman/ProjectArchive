{
 "cells": [
  {
   "cell_type": "code",
   "execution_count": 1,
   "metadata": {
    "ExecuteTime": {
     "end_time": "2019-08-21T11:46:56.393916Z",
     "start_time": "2019-08-21T11:46:55.292690Z"
    }
   },
   "outputs": [],
   "source": [
    "%matplotlib inline\n",
    "\n",
    "import numpy as np\n",
    "import pickle\n",
    "import matplotlib.pyplot as plt\n",
    "from tqdm import tqdm_notebook\n",
    "from sklearn import manifold\n",
    "import time\n",
    "import os\n",
    "import community as cm\n",
    "import networkx as nx\n",
    "from natsort import natsorted\n",
    "from sklearn import cluster"
   ]
  },
  {
   "cell_type": "code",
   "execution_count": 2,
   "metadata": {
    "ExecuteTime": {
     "end_time": "2019-08-21T11:46:56.842471Z",
     "start_time": "2019-08-21T11:46:56.395912Z"
    }
   },
   "outputs": [],
   "source": [
    "nets = [nx.read_graphml('hepth/irvine/' + str(i) + '.graphml') for i in range(10)]"
   ]
  },
  {
   "cell_type": "code",
   "execution_count": 3,
   "metadata": {
    "ExecuteTime": {
     "end_time": "2019-08-21T11:46:57.257754Z",
     "start_time": "2019-08-21T11:46:57.252733Z"
    }
   },
   "outputs": [],
   "source": [
    "def relative_stability(Fs, Gs):\n",
    "    stabs = []\n",
    "    for i in range(len(Fs) - 1):\n",
    "        j1 = np.matrix(Fs[i])\n",
    "        j2 = np.matrix(Fs[i+1])\n",
    "                \n",
    "        j2 = j2[:j1.shape[0], :]\n",
    "                \n",
    "        a1 = nx.to_numpy_matrix(Gs[i])\n",
    "        a2 = nx.to_numpy_matrix(Gs[i+1])[:a1.shape[0], :a1.shape[0]]\n",
    "        \n",
    "        t1 = np.linalg.norm(j2 - j1, 'fro')\n",
    "#         t1 /= np.linalg.norm(j1, 'fro')\n",
    "        t2 = np.linalg.norm(a2 - a1, 'fro')\n",
    "#         t2 /= np.linalg.norm(a1, 'fro')\n",
    "        \n",
    "        stabs.append(t1 / t2)\n",
    "        \n",
    "    absolutes = [abs(x) for x in stabs]\n",
    "#     return stabs, max(absolutes) - min(absolutes)\n",
    "    return stabs, np.average(stabs)"
   ]
  },
  {
   "cell_type": "code",
   "execution_count": 4,
   "metadata": {
    "ExecuteTime": {
     "end_time": "2019-08-21T11:46:58.158279Z",
     "start_time": "2019-08-21T11:46:58.153288Z"
    }
   },
   "outputs": [],
   "source": [
    "def get_k_means_performance(network, embedding):\n",
    "    opt = cm.best_partition(network)\n",
    "    mods = []\n",
    "    opt = len(set(opt.values()))\n",
    "    for i in range(2, 1+opt):\n",
    "        pers = []\n",
    "        for _ in range(5):\n",
    "            clusters = cluster.KMeans(int(i)).fit_predict(embedding)\n",
    "            cluster_dict = dict([(list(network.nodes)[j], clusters[j]) for j in range(len(clusters))])\n",
    "            pers.append(cm.modularity(cluster_dict,network))\n",
    "        mods.append(sum(pers) / len(pers))\n",
    "    \n",
    "    print(mods.index(max(mods)) + 1, max(mods))\n",
    "    return max(mods)"
   ]
  },
  {
   "cell_type": "code",
   "execution_count": 18,
   "metadata": {
    "ExecuteTime": {
     "end_time": "2019-08-19T09:43:47.827976Z",
     "start_time": "2019-08-19T09:43:43.309013Z"
    }
   },
   "outputs": [
    {
     "name": "stdout",
     "output_type": "stream",
     "text": [
      "Louvain\n"
     ]
    },
    {
     "data": {
      "application/vnd.jupyter.widget-view+json": {
       "model_id": "3a8a3deeb76c41429caaa6ace8d5058f",
       "version_major": 2,
       "version_minor": 0
      },
      "text/plain": [
       "HBox(children=(IntProgress(value=0, max=10), HTML(value='')))"
      ]
     },
     "metadata": {},
     "output_type": "display_data"
    },
    {
     "name": "stdout",
     "output_type": "stream",
     "text": [
      "0.3578411500979892\n",
      "0.3538049888886369\n",
      "0.3458559602676937\n",
      "0.3436892141208862\n",
      "0.3449352082206598\n",
      "0.3323037863298524\n",
      "0.332593918745295\n",
      "0.3335187145557656\n",
      "0.33949155571441336\n",
      "0.3429593154387838\n",
      "\n",
      "0.3426993812379976\n"
     ]
    }
   ],
   "source": [
    "mods = []\n",
    "print('Louvain')\n",
    "for i in tqdm_notebook(range(10)):\n",
    "    opt = cm.best_partition(nets[i])\n",
    "    mods.append(cm.modularity(opt, nets[i]))\n",
    "    print(mods[-1])\n",
    "print(np.average(mods))"
   ]
  },
  {
   "cell_type": "code",
   "execution_count": 19,
   "metadata": {
    "ExecuteTime": {
     "end_time": "2019-08-19T09:44:21.000285Z",
     "start_time": "2019-08-19T09:43:47.829866Z"
    }
   },
   "outputs": [
    {
     "name": "stdout",
     "output_type": "stream",
     "text": [
      "Node2Vec\n",
      "5 0.3352425300008054\n",
      "6 0.3305599051667265\n",
      "6 0.33021512427552235\n",
      "4 0.3239840668919719\n",
      "4 0.32754029204975665\n",
      "5 0.3233156443137621\n",
      "5 0.32219539631543703\n",
      "6 0.32572287334593575\n",
      "6 0.3228142538214752\n",
      "6 0.32001330899950065\n",
      "0.3261603395180893 [0.3352425300008054, 0.3305599051667265, 0.33021512427552235, 0.3239840668919719, 0.32754029204975665, 0.3233156443137621, 0.32219539631543703, 0.32572287334593575, 0.3228142538214752, 0.32001330899950065]\n"
     ]
    }
   ],
   "source": [
    "embs = pickle.load(open('hepth/irvine_node2vec.pkl', 'rb'))\n",
    "mods = []\n",
    "print('Node2Vec')\n",
    "for i in range(len(nets)):\n",
    "    mods.append(get_k_means_performance(nets[i], embs[i]))\n",
    "                \n",
    "print(np.average(mods), mods)"
   ]
  },
  {
   "cell_type": "code",
   "execution_count": 6,
   "metadata": {
    "ExecuteTime": {
     "end_time": "2019-08-21T11:50:00.074500Z",
     "start_time": "2019-08-21T11:49:23.967449Z"
    }
   },
   "outputs": [
    {
     "name": "stdout",
     "output_type": "stream",
     "text": [
      "WalkEncoder\n",
      "2 0.2634280920293163\n",
      "2 0.28769096421047907\n",
      "3 0.2970201493287292\n",
      "3 0.30040688102639906\n",
      "2 0.29170254191454836\n",
      "5 0.28747250702621346\n",
      "2 0.27499345536721165\n",
      "2 0.28376941398865785\n",
      "2 0.23865274803197276\n",
      "3 0.20423451731202974\n",
      "0.27293712702355577 [11.247549533843994, 21.269246339797974, 30.95884680747986, 40.604427337646484, 51.5280876159668, 61.421557664871216, 71.30028080940247, 81.51390719413757, 91.77668523788452, 102.51626801490784]\n"
     ]
    }
   ],
   "source": [
    "(times, embs, total_losses) = pickle.load(open('walk_irvine/' + str(20) + '.pkl', 'rb'))\n",
    "(times, embs, total_losses) = pickle.load(open('walk_irvine/' + '_a20' + '.pkl', 'rb'))\n",
    "mods = []\n",
    "print('WalkEncoder')\n",
    "for i in range(len(nets)):\n",
    "    mods.append(get_k_means_performance(nets[i], embs[i]))\n",
    "                \n",
    "print(np.average(mods), times)"
   ]
  },
  {
   "cell_type": "code",
   "execution_count": 26,
   "metadata": {
    "ExecuteTime": {
     "end_time": "2019-08-19T10:35:47.872591Z",
     "start_time": "2019-08-19T10:35:18.876502Z"
    }
   },
   "outputs": [
    {
     "name": "stdout",
     "output_type": "stream",
     "text": [
      "DynGEM\n",
      "10 -0.02879500120808613\n",
      "1 -0.011206818129117103\n",
      "1 -0.013975257442758182\n",
      "1 -0.013444293363273824\n",
      "10 -0.0346745700378583\n",
      "1 -0.04466567628136825\n",
      "10 -0.042145426060114996\n",
      "1 -0.012163327032136174\n",
      "1 -0.0063288904390336465\n",
      "1 -0.005392469137928069\n",
      "-0.021279172913167468 [13.642547845840454, 25.5270938873291, 37.65000295639038, 49.52720928192139, 61.379589796066284, 75.25614643096924, 90.74853110313416, 105.92093181610107, 123.17936539649963, 137.63871335983276]\n"
     ]
    }
   ],
   "source": [
    "(times, embs) = pickle.load(open('DynamicGEM-master/dynIrvine/150.pkl', 'rb'))\n",
    "mods = []\n",
    "print('DynGEM')\n",
    "for i in range(len(nets)):\n",
    "    mods.append(get_k_means_performance(nets[i], embs[i]))\n",
    "                \n",
    "print(np.average(mods), times)"
   ]
  },
  {
   "cell_type": "code",
   "execution_count": 25,
   "metadata": {
    "ExecuteTime": {
     "end_time": "2019-08-19T10:31:40.502532Z",
     "start_time": "2019-08-19T10:31:40.411472Z"
    }
   },
   "outputs": [
    {
     "data": {
      "text/plain": [
       "([9.567799147082185,\n",
       "  11.164295447169211,\n",
       "  10.790299115510303,\n",
       "  8.252979360463293,\n",
       "  13.027527834794235,\n",
       "  12.243971824645996,\n",
       "  6.408114069563698,\n",
       "  2.7185853816217156,\n",
       "  7.495505615274653],\n",
       " 9.074341977347252)"
      ]
     },
     "execution_count": 25,
     "metadata": {},
     "output_type": "execute_result"
    }
   ],
   "source": [
    "relative_stability(pickle.load(open('hepth/irvine_node2vec.pkl', 'rb')), nets)"
   ]
  },
  {
   "cell_type": "code",
   "execution_count": 23,
   "metadata": {
    "ExecuteTime": {
     "end_time": "2019-08-19T10:31:05.900618Z",
     "start_time": "2019-08-19T10:31:05.795644Z"
    }
   },
   "outputs": [
    {
     "data": {
      "text/plain": [
       "([4.203692999454086,\n",
       "  3.688900660953094,\n",
       "  3.258531709054922,\n",
       "  2.933542736618872,\n",
       "  3.574260353457497,\n",
       "  3.752866268157959,\n",
       "  1.6798242477262322,\n",
       "  0.6709656949771104,\n",
       "  2.05633685643073],\n",
       " 2.8687690585367225)"
      ]
     },
     "execution_count": 23,
     "metadata": {},
     "output_type": "execute_result"
    }
   ],
   "source": [
    "relative_stability(pickle.load(open('walk_irvine/20.pkl', 'rb'))[1], nets)"
   ]
  },
  {
   "cell_type": "code",
   "execution_count": 24,
   "metadata": {
    "ExecuteTime": {
     "end_time": "2019-08-19T10:31:23.711046Z",
     "start_time": "2019-08-19T10:31:23.611749Z"
    }
   },
   "outputs": [
    {
     "data": {
      "text/plain": [
       "([28.34937489024831,\n",
       "  26.550328867766115,\n",
       "  26.717454170470717,\n",
       "  23.615665622990992,\n",
       "  29.19827042247263,\n",
       "  33.31911087036133,\n",
       "  16.095826966399557,\n",
       "  5.269090047454109,\n",
       "  17.696227626013933],\n",
       " 22.9790388315753)"
      ]
     },
     "execution_count": 24,
     "metadata": {},
     "output_type": "execute_result"
    }
   ],
   "source": [
    "relative_stability(pickle.load(open('DynamicGEM-master/dynIrvine/150.pkl', 'rb'))[1], nets)"
   ]
  },
  {
   "cell_type": "code",
   "execution_count": null,
   "metadata": {},
   "outputs": [],
   "source": []
  }
 ],
 "metadata": {
  "kernelspec": {
   "display_name": "Python 3",
   "language": "python",
   "name": "python3"
  },
  "language_info": {
   "codemirror_mode": {
    "name": "ipython",
    "version": 3
   },
   "file_extension": ".py",
   "mimetype": "text/x-python",
   "name": "python",
   "nbconvert_exporter": "python",
   "pygments_lexer": "ipython3",
   "version": "3.7.0"
  }
 },
 "nbformat": 4,
 "nbformat_minor": 2
}

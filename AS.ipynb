{
 "cells": [
  {
   "cell_type": "code",
   "execution_count": 20,
   "metadata": {
    "ExecuteTime": {
     "end_time": "2019-08-15T22:13:13.058901Z",
     "start_time": "2019-08-15T22:13:13.054895Z"
    }
   },
   "outputs": [],
   "source": [
    "import networkx as nx\n",
    "import numpy as np\n",
    "import datetime\n",
    "from dateutil import parser\n",
    "import matplotlib.pyplot as plt\n",
    "import pandas as pd\n",
    "from tqdm import tqdm_notebook\n",
    "import os\n",
    "from natsort import natsorted"
   ]
  },
  {
   "cell_type": "code",
   "execution_count": 21,
   "metadata": {
    "ExecuteTime": {
     "end_time": "2019-08-15T22:13:13.573642Z",
     "start_time": "2019-08-15T22:13:13.564633Z"
    }
   },
   "outputs": [],
   "source": [
    "files = natsorted(os.listdir(\"hepth/AS\"))[:100]"
   ]
  },
  {
   "cell_type": "code",
   "execution_count": 14,
   "metadata": {
    "ExecuteTime": {
     "end_time": "2019-08-15T22:11:21.938499Z",
     "start_time": "2019-08-15T22:11:21.167370Z"
    }
   },
   "outputs": [
    {
     "data": {
      "application/vnd.jupyter.widget-view+json": {
       "model_id": "7f94da038fa7415ab965c9121cae607b",
       "version_major": 2,
       "version_minor": 0
      },
      "text/plain": [
       "HBox(children=(IntProgress(value=0), HTML(value='')))"
      ]
     },
     "metadata": {},
     "output_type": "display_data"
    },
    {
     "name": "stdout",
     "output_type": "stream",
     "text": [
      "\n",
      "10695\n",
      "12655\n"
     ]
    }
   ],
   "source": [
    "all_edges = []\n",
    "\n",
    "for file in tqdm_notebook(files):\n",
    "    with open(\"hepth/AS/\" + file) as f:\n",
    "        edges = []\n",
    "        for line in f:\n",
    "            if '#' not in line:\n",
    "                edges.append((line.split()[0], line.split()[1]))\n",
    "    all_edges.append(edges)\n",
    "    f.close()\n",
    "    \n",
    "print(len(all_edges[0]))\n",
    "print(len(all_edges[-1]))"
   ]
  },
  {
   "cell_type": "code",
   "execution_count": 15,
   "metadata": {
    "ExecuteTime": {
     "end_time": "2019-08-15T22:11:23.837517Z",
     "start_time": "2019-08-15T22:11:21.939363Z"
    }
   },
   "outputs": [
    {
     "data": {
      "application/vnd.jupyter.widget-view+json": {
       "model_id": "1c4618594d8d4397ae0218cb360eab29",
       "version_major": 2,
       "version_minor": 0
      },
      "text/plain": [
       "HBox(children=(IntProgress(value=0), HTML(value='')))"
      ]
     },
     "metadata": {},
     "output_type": "display_data"
    },
    {
     "name": "stdout",
     "output_type": "stream",
     "text": [
      "\n"
     ]
    }
   ],
   "source": [
    "graphs = []\n",
    "\n",
    "for edges in tqdm_notebook(all_edges):\n",
    "    g = nx.Graph()\n",
    "    g.add_edges_from(edges)\n",
    "#     if graphs:\n",
    "#         g.add_nodes_from(list(graphs[-1].nodes()))\n",
    "    \n",
    "#     g = max(nx.connected_component_subgraphs(nx.Graph(g)), key=len)\n",
    "#     g = max(nx.strongly_connected_component_subgraphs(g), key=len)\n",
    "    \n",
    "    graphs.append(g)\n",
    "\n",
    "#     print(graphs[-1].number_of_nodes())\n",
    "#     print(graphs[-1].number_of_edges())\n",
    "#     print(\"============\")\n"
   ]
  },
  {
   "cell_type": "code",
   "execution_count": 16,
   "metadata": {
    "ExecuteTime": {
     "end_time": "2019-08-15T22:11:24.010113Z",
     "start_time": "2019-08-15T22:11:23.838512Z"
    }
   },
   "outputs": [
    {
     "name": "stdout",
     "output_type": "stream",
     "text": [
      "3015\n",
      "24\n",
      "51\n",
      "==================\n",
      "3042\n",
      "30\n",
      "88\n",
      "==================\n",
      "3100\n",
      "25\n",
      "66\n",
      "==================\n",
      "3141\n",
      "29\n",
      "66\n",
      "==================\n",
      "3178\n",
      "26\n",
      "55\n",
      "==================\n",
      "3207\n",
      "15\n",
      "45\n",
      "==================\n",
      "3237\n",
      "39\n",
      "57\n",
      "==================\n",
      "3255\n",
      "29\n",
      "74\n",
      "==================\n",
      "3300\n",
      "32\n",
      "65\n",
      "==================\n",
      "*********************\n",
      "11\n",
      "8\n",
      "8\n",
      "7\n",
      "5\n",
      "8\n",
      "10\n",
      "7\n",
      "8\n",
      "9\n"
     ]
    }
   ],
   "source": [
    "test_set = [graphs[i*10] for i in range(10)]\n",
    "all_rems = []\n",
    "count = 0\n",
    "for i in range(len(test_set) - 1):\n",
    "    print(len(test_set[i].nodes))\n",
    "    rem_nodes = [n for n in test_set[i].nodes if not n in test_set[i+1]]\n",
    "    print(len(rem_nodes))\n",
    "    new_nodes = [n for n in test_set[i+1].nodes if not n in test_set[i]]\n",
    "    print(len(new_nodes))\n",
    "    print('==================')\n",
    "    all_rems.append(rem_nodes)\n",
    "    \n",
    "all_rems = [x for y in all_rems for x in y]\n",
    "\n",
    "for i in range(len(test_set)):\n",
    "    test_set[i].remove_nodes_from(set(all_rems).intersection(set(test_set[i].nodes)))\n",
    "    \n",
    "print('*********************')\n",
    "    \n",
    "for t in test_set:\n",
    "    print(len(list(nx.connected_components(t))))\n",
    "\n",
    "# shared_nodes = [set(g.nodes) for g in test_set]\n",
    "# inters = set.intersection(*shared_nodes)\n",
    "\n",
    "# for i in range(len(test_set)):\n",
    "#     test_set[i].remove_nodes_from(shared_nodes[i] - inters)\n",
    "\n",
    "# len(shared_nodes)"
   ]
  },
  {
   "cell_type": "code",
   "execution_count": 6,
   "metadata": {
    "ExecuteTime": {
     "end_time": "2019-08-15T22:02:59.164905Z",
     "start_time": "2019-08-15T22:02:58.838207Z"
    }
   },
   "outputs": [
    {
     "name": "stdout",
     "output_type": "stream",
     "text": [
      "new nodes:  2861\n",
      "new nodes:  37\n",
      "new nodes:  60\n",
      "new nodes:  41\n",
      "new nodes:  42\n",
      "new nodes:  36\n",
      "new nodes:  34\n",
      "new nodes:  40\n",
      "new nodes:  54\n",
      "new nodes:  47\n"
     ]
    }
   ],
   "source": [
    "graphs = test_set\n",
    "\n",
    "node_dict = {}\n",
    "cur = 0\n",
    "\n",
    "for g in graphs:\n",
    "    old_cur = cur\n",
    "    for node in g.nodes:\n",
    "        if not node in node_dict:\n",
    "            node_dict[node] = cur\n",
    "            cur += 1\n",
    "            \n",
    "    print(\"new nodes: \", cur - old_cur)\n",
    "            \n",
    "for i in range(len(graphs)):\n",
    "    graphs[i] = nx.relabel_nodes(graphs[i], node_dict)"
   ]
  },
  {
   "cell_type": "code",
   "execution_count": 7,
   "metadata": {
    "ExecuteTime": {
     "end_time": "2019-08-15T22:03:04.094911Z",
     "start_time": "2019-08-15T22:03:03.511651Z"
    }
   },
   "outputs": [],
   "source": [
    "for i in range(len(graphs)):\n",
    "    nx.write_graphml(graphs[i], 'hepth/AS_test/' + str(i) + '.graphml')"
   ]
  },
  {
   "cell_type": "code",
   "execution_count": 8,
   "metadata": {
    "ExecuteTime": {
     "end_time": "2019-08-15T22:03:04.917756Z",
     "start_time": "2019-08-15T22:03:04.752178Z"
    }
   },
   "outputs": [
    {
     "name": "stdout",
     "output_type": "stream",
     "text": [
      "0.18646013072523476\n",
      "0.19055231727095032\n"
     ]
    }
   ],
   "source": [
    "print(nx.algorithms.cluster.average_clustering(graphs[0]))\n",
    "print(nx.algorithms.cluster.average_clustering(graphs[-1]))"
   ]
  },
  {
   "cell_type": "code",
   "execution_count": null,
   "metadata": {},
   "outputs": [],
   "source": []
  }
 ],
 "metadata": {
  "kernelspec": {
   "display_name": "Python 3",
   "language": "python",
   "name": "python3"
  },
  "language_info": {
   "codemirror_mode": {
    "name": "ipython",
    "version": 3
   },
   "file_extension": ".py",
   "mimetype": "text/x-python",
   "name": "python",
   "nbconvert_exporter": "python",
   "pygments_lexer": "ipython3",
   "version": "3.7.0"
  }
 },
 "nbformat": 4,
 "nbformat_minor": 2
}

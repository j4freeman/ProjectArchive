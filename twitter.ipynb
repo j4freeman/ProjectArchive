{
 "cells": [
  {
   "cell_type": "code",
   "execution_count": 1,
   "metadata": {
    "ExecuteTime": {
     "end_time": "2019-07-16T12:18:22.122335Z",
     "start_time": "2019-07-16T12:18:21.442372Z"
    }
   },
   "outputs": [],
   "source": [
    "%matplotlib inline\n",
    "\n",
    "import tweepy\n",
    "import time\n",
    "import networkx as nx\n",
    "import pickle\n",
    "\n",
    "import matplotlib.pyplot as plt"
   ]
  },
  {
   "cell_type": "code",
   "execution_count": 2,
   "metadata": {
    "ExecuteTime": {
     "end_time": "2019-07-16T12:18:22.323677Z",
     "start_time": "2019-07-16T12:18:22.123287Z"
    }
   },
   "outputs": [
    {
     "name": "stdout",
     "output_type": "stream",
     "text": [
      "User(_api=<tweepy.api.API object at 0x00000188F5AADF28>, _json={'id': 1706216851, 'id_str': '1706216851', 'name': 'John', 'screen_name': 'j4frm', 'location': '', 'description': '', 'url': None, 'entities': {'description': {'urls': []}}, 'protected': False, 'followers_count': 2, 'friends_count': 134, 'listed_count': 0, 'created_at': 'Wed Aug 28 03:08:46 +0000 2013', 'favourites_count': 3, 'utc_offset': None, 'time_zone': None, 'geo_enabled': False, 'verified': False, 'statuses_count': 0, 'lang': None, 'contributors_enabled': False, 'is_translator': False, 'is_translation_enabled': False, 'profile_background_color': 'C0DEED', 'profile_background_image_url': 'http://abs.twimg.com/images/themes/theme1/bg.png', 'profile_background_image_url_https': 'https://abs.twimg.com/images/themes/theme1/bg.png', 'profile_background_tile': False, 'profile_image_url': 'http://abs.twimg.com/sticky/default_profile_images/default_profile_normal.png', 'profile_image_url_https': 'https://abs.twimg.com/sticky/default_profile_images/default_profile_normal.png', 'profile_link_color': '1DA1F2', 'profile_sidebar_border_color': 'C0DEED', 'profile_sidebar_fill_color': 'DDEEF6', 'profile_text_color': '333333', 'profile_use_background_image': True, 'has_extended_profile': False, 'default_profile': True, 'default_profile_image': True, 'following': False, 'follow_request_sent': False, 'notifications': False, 'translator_type': 'none', 'suspended': False, 'needs_phone_verification': False}, id=1706216851, id_str='1706216851', name='John', screen_name='j4frm', location='', description='', url=None, entities={'description': {'urls': []}}, protected=False, followers_count=2, friends_count=134, listed_count=0, created_at=datetime.datetime(2013, 8, 28, 3, 8, 46), favourites_count=3, utc_offset=None, time_zone=None, geo_enabled=False, verified=False, statuses_count=0, lang=None, contributors_enabled=False, is_translator=False, is_translation_enabled=False, profile_background_color='C0DEED', profile_background_image_url='http://abs.twimg.com/images/themes/theme1/bg.png', profile_background_image_url_https='https://abs.twimg.com/images/themes/theme1/bg.png', profile_background_tile=False, profile_image_url='http://abs.twimg.com/sticky/default_profile_images/default_profile_normal.png', profile_image_url_https='https://abs.twimg.com/sticky/default_profile_images/default_profile_normal.png', profile_link_color='1DA1F2', profile_sidebar_border_color='C0DEED', profile_sidebar_fill_color='DDEEF6', profile_text_color='333333', profile_use_background_image=True, has_extended_profile=False, default_profile=True, default_profile_image=True, following=False, follow_request_sent=False, notifications=False, translator_type='none', suspended=False, needs_phone_verification=False)\n"
     ]
    }
   ],
   "source": [
    "consumer_key='WKfMG4XKEVcWMkFTfX4fKIEXB'\n",
    "consumer_secret='YGNIhq41Fs8BU6fZ6eDK4XOr3M4dzhyticGfUCYSIfrlk50nOp'\n",
    "access_token_key='1706216851-aVt0Jj6KgqG3dj0wMxEBWgHN2mlUvAfTqiQ8pAX'\n",
    "access_token_secret='SkHY38H5IjsKo2Um6UTu8YOWMQofZcBDdhKHAbGhqQlch'\n",
    "\n",
    "auth = tweepy.OAuthHandler(consumer_key, consumer_secret)\n",
    "auth.set_access_token(access_token_key, access_token_secret)\n",
    "\n",
    "api = tweepy.API(auth, wait_on_rate_limit=True, wait_on_rate_limit_notify=True)\n",
    "\n",
    "print(api.verify_credentials())"
   ]
  },
  {
   "cell_type": "code",
   "execution_count": 3,
   "metadata": {
    "ExecuteTime": {
     "end_time": "2019-07-16T12:21:25.630739Z",
     "start_time": "2019-07-16T12:18:22.325636Z"
    }
   },
   "outputs": [
    {
     "name": "stdout",
     "output_type": "stream",
     "text": [
      "MichaelBennet\n"
     ]
    },
    {
     "name": "stderr",
     "output_type": "stream",
     "text": [
      "Rate limit reached. Sleeping for: 176\n"
     ]
    },
    {
     "name": "stdout",
     "output_type": "stream",
     "text": [
      "TimRyan\n"
     ]
    }
   ],
   "source": [
    "# mb = api.followers_ids(screen_name='MichaelBennet')\n",
    "# print(\"mb done\")\n",
    "# jd = api.followers_ids(screen_name='JohnDelaney')\n",
    "# print(\"jd done\")\n",
    "# tr = api.followers_ids(screen_name='TimRyan')\n",
    "# print(\"tr done\\\")\n",
    "\n",
    "# users = ['MichaelBennet', 'JohnDelaney', 'TimRyan']\n",
    "users = ['MichaelBennet', 'TimRyan']\n",
    "followers = [[] for _ in range(len(users))]\n",
    "\n",
    "for i, u in enumerate(users):\n",
    "    print(u)\n",
    "    for follower in tweepy.Cursor(api.followers_ids, screen_name=u).pages():\n",
    "        followers[i] += follower\n",
    "\n"
   ]
  },
  {
   "cell_type": "code",
   "execution_count": 4,
   "metadata": {
    "ExecuteTime": {
     "end_time": "2019-07-16T12:21:25.649718Z",
     "start_time": "2019-07-16T12:21:25.632763Z"
    }
   },
   "outputs": [
    {
     "name": "stdout",
     "output_type": "stream",
     "text": [
      "[26313, 26058]\n"
     ]
    }
   ],
   "source": [
    "pickle.dump(followers, open(\"followers.pkl\", \"wb\"))\n",
    "\n",
    "print([len(x) for x in followers])"
   ]
  },
  {
   "cell_type": "code",
   "execution_count": 5,
   "metadata": {
    "ExecuteTime": {
     "end_time": "2019-07-16T12:21:26.101621Z",
     "start_time": "2019-07-16T12:21:25.650716Z"
    }
   },
   "outputs": [],
   "source": [
    "users = [api.get_user(u).id for u in users]"
   ]
  },
  {
   "cell_type": "code",
   "execution_count": 6,
   "metadata": {
    "ExecuteTime": {
     "end_time": "2019-07-16T12:21:26.145459Z",
     "start_time": "2019-07-16T12:21:26.103600Z"
    }
   },
   "outputs": [],
   "source": [
    "edges = []\n",
    "\n",
    "for i, u in enumerate(users):\n",
    "    edges += [(x, u) for x in followers[i]]"
   ]
  },
  {
   "cell_type": "code",
   "execution_count": 7,
   "metadata": {
    "ExecuteTime": {
     "end_time": "2019-07-16T12:21:26.292098Z",
     "start_time": "2019-07-16T12:21:26.146490Z"
    }
   },
   "outputs": [
    {
     "data": {
      "text/plain": [
       "49507"
      ]
     },
     "execution_count": 7,
     "metadata": {},
     "output_type": "execute_result"
    }
   ],
   "source": [
    "g = nx.DiGraph()\n",
    "g.add_edges_from(edges)\n",
    "\n",
    "g.number_of_nodes()"
   ]
  },
  {
   "cell_type": "code",
   "execution_count": 8,
   "metadata": {
    "ExecuteTime": {
     "end_time": "2019-07-16T12:24:44.697128Z",
     "start_time": "2019-07-16T12:21:26.293104Z"
    }
   },
   "outputs": [
    {
     "name": "stdout",
     "output_type": "stream",
     "text": [
      "0.0\n"
     ]
    }
   ],
   "source": [
    "print(nx.algorithms.cluster.average_clustering(nx.Graph(g)))"
   ]
  },
  {
   "cell_type": "code",
   "execution_count": 9,
   "metadata": {
    "ExecuteTime": {
     "end_time": "2019-07-16T12:24:46.373831Z",
     "start_time": "2019-07-16T12:24:44.698121Z"
    }
   },
   "outputs": [],
   "source": [
    "nx.write_graphml(g, 'followers_2.graphml')\n",
    "nx.write_graphml(nx.Graph(g), 'followers_undir_2.graphml')"
   ]
  },
  {
   "cell_type": "code",
   "execution_count": null,
   "metadata": {},
   "outputs": [],
   "source": []
  }
 ],
 "metadata": {
  "kernelspec": {
   "display_name": "Python 3",
   "language": "python",
   "name": "python3"
  },
  "language_info": {
   "codemirror_mode": {
    "name": "ipython",
    "version": 3
   },
   "file_extension": ".py",
   "mimetype": "text/x-python",
   "name": "python",
   "nbconvert_exporter": "python",
   "pygments_lexer": "ipython3",
   "version": "3.7.0"
  }
 },
 "nbformat": 4,
 "nbformat_minor": 2
}

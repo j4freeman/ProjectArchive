{
 "cells": [
  {
   "cell_type": "code",
   "execution_count": 5,
   "metadata": {
    "ExecuteTime": {
     "end_time": "2019-08-19T09:42:10.987966Z",
     "start_time": "2019-08-19T09:42:10.983985Z"
    }
   },
   "outputs": [],
   "source": [
    "import networkx as nx\n",
    "import numpy as np\n",
    "import datetime\n",
    "from dateutil import parser\n",
    "import matplotlib.pyplot as plt\n",
    "import community as cm\n",
    "import pandas as pd\n",
    "from tqdm import tqdm_notebook"
   ]
  },
  {
   "cell_type": "code",
   "execution_count": 6,
   "metadata": {
    "ExecuteTime": {
     "end_time": "2019-08-19T09:42:11.281289Z",
     "start_time": "2019-08-19T09:42:11.215914Z"
    }
   },
   "outputs": [
    {
     "name": "stdout",
     "output_type": "stream",
     "text": [
      "59835\n"
     ]
    },
    {
     "data": {
      "text/plain": [
       "[(('1', '2'), 1082040961),\n",
       " (('3', '4'), 1082155839),\n",
       " (('5', '2'), 1082414391),\n",
       " (('6', '7'), 1082439619),\n",
       " (('8', '7'), 1082439756)]"
      ]
     },
     "execution_count": 6,
     "metadata": {},
     "output_type": "execute_result"
    }
   ],
   "source": [
    "edges = []\n",
    "\n",
    "with open(\"hepth/CollegeMsg.txt\") as f:\n",
    "    for line in f:\n",
    "        vals = line.split()\n",
    "        edges.append(((vals[0], vals[1]), int(vals[2])))\n",
    "    \n",
    "print(len(edges))\n",
    "    \n",
    "edges.sort(key=lambda x: x[1])\n",
    "edges[:5]"
   ]
  },
  {
   "cell_type": "code",
   "execution_count": 7,
   "metadata": {
    "ExecuteTime": {
     "end_time": "2019-08-19T09:42:11.546361Z",
     "start_time": "2019-08-19T09:42:11.529874Z"
    }
   },
   "outputs": [
    {
     "name": "stdout",
     "output_type": "stream",
     "text": [
      "[1.08348536e+09 1.08349816e+09 1.08355739e+09 1.08357430e+09\n",
      " 1.08357777e+09 1.08358026e+09 1.08358457e+09 1.08362577e+09\n",
      " 1.08364345e+09 1.08365001e+09]\n"
     ]
    }
   ],
   "source": [
    "timestamps = [x[1] for x in edges]\n",
    "\n",
    "cut_pts = np.percentile(timestamps, np.linspace(10, 100, 250))[:10]\n",
    "\n",
    "print(cut_pts)"
   ]
  },
  {
   "cell_type": "code",
   "execution_count": 8,
   "metadata": {
    "ExecuteTime": {
     "end_time": "2019-08-19T09:42:12.400904Z",
     "start_time": "2019-08-19T09:42:11.961958Z"
    }
   },
   "outputs": [
    {
     "data": {
      "application/vnd.jupyter.widget-view+json": {
       "model_id": "eda673e604f94e48842f369e60b1d816",
       "version_major": 2,
       "version_minor": 0
      },
      "text/plain": [
       "HBox(children=(IntProgress(value=1, bar_style='info', max=1), HTML(value='')))"
      ]
     },
     "metadata": {},
     "output_type": "display_data"
    },
    {
     "name": "stdout",
     "output_type": "stream",
     "text": [
      "1083485364.6\n",
      "558\n",
      "1930\n",
      "1\n",
      "============\n",
      "1083498162.0216868\n",
      "564\n",
      "1981\n",
      "1\n",
      "============\n",
      "1083557389.959036\n",
      "574\n",
      "2037\n",
      "1\n",
      "============\n",
      "1083574302.1686747\n",
      "583\n",
      "2105\n",
      "1\n",
      "============\n",
      "1083577773.0\n",
      "589\n",
      "2150\n",
      "1\n",
      "============\n",
      "1083580262.1614459\n",
      "592\n",
      "2192\n",
      "1\n",
      "============\n",
      "1083584573.0289156\n",
      "597\n",
      "2231\n",
      "1\n",
      "============\n",
      "1083625768.619277\n",
      "611\n",
      "2300\n",
      "1\n",
      "============\n",
      "1083643454.079518\n",
      "624\n",
      "2356\n",
      "1\n",
      "============\n",
      "1083650006.5180724\n",
      "636\n",
      "2410\n",
      "1\n",
      "============\n",
      "\n"
     ]
    }
   ],
   "source": [
    "graphs = []\n",
    "\n",
    "for i, cut in tqdm_notebook(enumerate(cut_pts)):\n",
    "    g = nx.Graph()\n",
    "    adds = [x[0] for x in edges if x[1] < cut]\n",
    "    if i == 0:\n",
    "        g.add_edges_from(adds)\n",
    "        g = max(nx.connected_component_subgraphs(nx.Graph(g)), key=len)\n",
    "    else:\n",
    "        adds = [x for x in adds if x[0] in graphs[-1].nodes or x[1] in graphs[-1].nodes]\n",
    "        g.add_edges_from(adds)\n",
    "    \n",
    "    graphs.append(g)\n",
    "    print(cut)\n",
    "    print(graphs[-1].number_of_nodes())\n",
    "    print(graphs[-1].number_of_edges())\n",
    "    print(len(list(nx.connected_components(graphs[-1]))))\n",
    "#     print(nx.number_strongly_connected_components(graphs[-1]))\n",
    "    print(\"============\")\n"
   ]
  },
  {
   "cell_type": "code",
   "execution_count": 9,
   "metadata": {
    "ExecuteTime": {
     "end_time": "2019-08-19T09:42:21.181197Z",
     "start_time": "2019-08-19T09:42:21.080458Z"
    }
   },
   "outputs": [
    {
     "name": "stdout",
     "output_type": "stream",
     "text": [
      "new nodes:  558\n",
      "new nodes:  6\n",
      "new nodes:  10\n",
      "new nodes:  9\n",
      "new nodes:  6\n",
      "new nodes:  3\n",
      "new nodes:  5\n",
      "new nodes:  14\n",
      "new nodes:  13\n",
      "new nodes:  12\n"
     ]
    }
   ],
   "source": [
    "node_dict = {}\n",
    "cur = 0\n",
    "\n",
    "for g in graphs:\n",
    "    old_cur = cur\n",
    "    for node in g.nodes:\n",
    "        if not node in node_dict:\n",
    "            node_dict[node] = cur\n",
    "            cur += 1\n",
    "            \n",
    "    print(\"new nodes: \", cur - old_cur)\n",
    "            \n",
    "for i in range(len(graphs)):\n",
    "    graphs[i] = nx.relabel_nodes(graphs[i], node_dict)"
   ]
  },
  {
   "cell_type": "code",
   "execution_count": 10,
   "metadata": {
    "ExecuteTime": {
     "end_time": "2019-08-19T09:42:24.291594Z",
     "start_time": "2019-08-19T09:42:24.070435Z"
    }
   },
   "outputs": [],
   "source": [
    "for i in range(len(graphs)):\n",
    "    nx.write_graphml(graphs[i], 'hepth/irvine/' + str(i) + '.graphml')"
   ]
  },
  {
   "cell_type": "code",
   "execution_count": 11,
   "metadata": {
    "ExecuteTime": {
     "end_time": "2019-08-19T09:42:26.005083Z",
     "start_time": "2019-08-19T09:42:25.180655Z"
    }
   },
   "outputs": [
    {
     "name": "stdout",
     "output_type": "stream",
     "text": [
      "0.0685787712067597\n",
      "0.07585112753495392\n",
      "0.3543881714945368\n",
      "0.33502565382827426\n"
     ]
    }
   ],
   "source": [
    "print(nx.algorithms.cluster.average_clustering(graphs[0]))\n",
    "print(nx.algorithms.cluster.average_clustering(graphs[-1]))\n",
    "\n",
    "print(cm.modularity(cm.best_partition(graphs[0]), graphs[0]))\n",
    "print(cm.modularity(cm.best_partition(graphs[-1]), graphs[-1]))"
   ]
  },
  {
   "cell_type": "code",
   "execution_count": null,
   "metadata": {},
   "outputs": [],
   "source": []
  }
 ],
 "metadata": {
  "kernelspec": {
   "display_name": "Python 3",
   "language": "python",
   "name": "python3"
  },
  "language_info": {
   "codemirror_mode": {
    "name": "ipython",
    "version": 3
   },
   "file_extension": ".py",
   "mimetype": "text/x-python",
   "name": "python",
   "nbconvert_exporter": "python",
   "pygments_lexer": "ipython3",
   "version": "3.7.0"
  }
 },
 "nbformat": 4,
 "nbformat_minor": 2
}

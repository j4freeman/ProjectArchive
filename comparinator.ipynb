{
 "cells": [
  {
   "cell_type": "code",
   "execution_count": 2,
   "metadata": {
    "ExecuteTime": {
     "end_time": "2019-08-19T09:06:11.074350Z",
     "start_time": "2019-08-19T09:06:10.248526Z"
    }
   },
   "outputs": [],
   "source": [
    "%matplotlib inline\n",
    "\n",
    "import numpy as np\n",
    "import pickle\n",
    "import matplotlib.pyplot as plt\n",
    "from tqdm import tqdm_notebook\n",
    "from sklearn import manifold\n",
    "import time\n",
    "import os\n",
    "import community as cm\n",
    "import networkx as nx\n",
    "from natsort import natsorted\n",
    "from sklearn import cluster"
   ]
  },
  {
   "cell_type": "code",
   "execution_count": 3,
   "metadata": {
    "ExecuteTime": {
     "end_time": "2019-08-19T09:06:12.180184Z",
     "start_time": "2019-08-19T09:06:11.076306Z"
    }
   },
   "outputs": [],
   "source": [
    "nets = [nx.read_graphml('smallworld/time_graphs/0/' + str(2500 + i * 10) + '.graphml') for i in range(10)]"
   ]
  },
  {
   "cell_type": "code",
   "execution_count": 4,
   "metadata": {
    "ExecuteTime": {
     "end_time": "2019-08-19T09:06:12.186195Z",
     "start_time": "2019-08-19T09:06:12.181220Z"
    }
   },
   "outputs": [],
   "source": [
    "def get_k_means_performance(network, embedding):\n",
    "    opt = cm.best_partition(network)\n",
    "    mods = []\n",
    "    opt = len(set(opt.values()))\n",
    "    for i in range(1, 1+opt):\n",
    "        pers = []\n",
    "        for _ in range(5):\n",
    "            clusters = cluster.KMeans(int(i)).fit_predict(embedding)\n",
    "            cluster_dict = dict([(list(network.nodes)[j], clusters[j]) for j in range(len(clusters))])\n",
    "            pers.append(cm.modularity(cluster_dict,network))\n",
    "        mods.append(sum(pers) / len(pers))\n",
    "    \n",
    "    print(mods.index(max(mods)) + 1, max(mods))\n",
    "    return max(mods)"
   ]
  },
  {
   "cell_type": "code",
   "execution_count": 4,
   "metadata": {
    "ExecuteTime": {
     "end_time": "2019-08-18T16:59:25.290309Z",
     "start_time": "2019-08-18T16:59:25.191521Z"
    }
   },
   "outputs": [
    {
     "data": {
      "application/vnd.jupyter.widget-view+json": {
       "model_id": "866a796719894775827a0c07f78084d9",
       "version_major": 2,
       "version_minor": 0
      },
      "text/plain": [
       "HBox(children=(IntProgress(value=0, max=25), HTML(value='')))"
      ]
     },
     "metadata": {},
     "output_type": "display_data"
    },
    {
     "name": "stdout",
     "output_type": "stream",
     "text": [
      "\n",
      "0 2.4583886199527316\n",
      "1 3.9783065583970814\n",
      "2 5.559880495071411\n",
      "3 6.355814615885417\n",
      "4 7.725650204552545\n",
      "5 9.010645495520698\n",
      "6 10.284816318088108\n",
      "7 11.787532647450766\n",
      "8 13.118368360731337\n",
      "9 14.293821016947428\n",
      "10 15.654305299123129\n",
      "11 16.915407551659477\n",
      "12 18.64605866538154\n",
      "13 19.54142101605733\n",
      "14 22.036121977700127\n",
      "15 22.924127181371052\n",
      "16 26.19438780678643\n",
      "17 24.034520890977646\n",
      "18 25.828500668207806\n",
      "19 27.174390898810493\n",
      "20 28.307263480292427\n",
      "21 28.904269138971966\n",
      "22 30.780626111560398\n",
      "23 31.980484856499565\n",
      "24 33.97110388014052\n"
     ]
    }
   ],
   "source": [
    "d1s = []\n",
    "\n",
    "for i in tqdm_notebook(range(1, 26)):\n",
    "\n",
    "    (t1, _, _) = pickle.load(open('walkruns/' + str(i) + '.pkl', 'rb'))\n",
    "    d1s.append(np.average([t1[t+1] - t1[t] for t in range(len(t1) - 1)]))\n",
    "    \n",
    "for i, j in enumerate(d1s):\n",
    "    print(i, j)"
   ]
  },
  {
   "cell_type": "code",
   "execution_count": 5,
   "metadata": {
    "ExecuteTime": {
     "end_time": "2019-08-18T16:59:25.499395Z",
     "start_time": "2019-08-18T16:59:25.293252Z"
    }
   },
   "outputs": [
    {
     "name": "stdout",
     "output_type": "stream",
     "text": [
      "0 2.5302544699774847\n",
      "1 3.255141258239746\n",
      "2 3.027993361155192\n",
      "3 2.9672957261403403\n",
      "4 3.2157981395721436\n",
      "5 3.396519581476847\n",
      "6 4.138271729151408\n",
      "7 4.09453288714091\n",
      "8 3.8764903280470104\n",
      "9 4.174983607398139\n",
      "10 4.513772434658474\n",
      "11 4.415762662887573\n",
      "12 5.358465883466932\n",
      "13 4.8273411591847735\n",
      "14 4.550663524203831\n",
      "15 4.685672018263075\n",
      "16 4.745168341530694\n",
      "17 5.700754642486572\n",
      "18 5.332456986109416\n",
      "19 5.945505963431464\n",
      "20 6.1362504959106445\n",
      "21 7.273103316624959\n",
      "22 6.6153375837537975\n",
      "23 7.4271425935957165\n",
      "24 9.081350829866198\n",
      "25 8.639280080795288\n",
      "26 9.275001287460327\n",
      "27 10.25032795800103\n",
      "28 10.068936612870958\n",
      "29 10.58851793077257\n",
      "30 13.830397764841715\n",
      "31 13.053046623865763\n",
      "32 13.609991020626492\n",
      "33 13.049286365509033\n",
      "34 14.364685508939955\n",
      "35 15.419933372073704\n",
      "36 15.7350238694085\n",
      "37 16.205069330003525\n",
      "38 18.09133900536431\n",
      "39 18.071093850665623\n",
      "40 20.629869010713364\n",
      "41 19.04894389046563\n",
      "42 21.72025267283122\n",
      "43 22.67983733283149\n",
      "44 20.451374663247\n",
      "45 25.10561164220174\n",
      "46 29.23788497183058\n",
      "47 33.54641999138726\n",
      "48 39.4767787721422\n"
     ]
    }
   ],
   "source": [
    "d2s = []\n",
    "for f in natsorted(os.listdir('DynamicGEM-master/dynruns/')):\n",
    "\n",
    "    (t1, _) = pickle.load(open('DynamicGEM-master/dynruns/' + f, 'rb'))\n",
    "    d2s.append(np.average([t1[t+1] - t1[t] for t in range(len(t1) - 1)]))\n",
    "    \n",
    "for i, j in enumerate(d2s):\n",
    "    print(i, j)"
   ]
  },
  {
   "cell_type": "code",
   "execution_count": 6,
   "metadata": {
    "ExecuteTime": {
     "end_time": "2019-08-18T16:59:25.596153Z",
     "start_time": "2019-08-18T16:59:25.500392Z"
    }
   },
   "outputs": [
    {
     "name": "stdout",
     "output_type": "stream",
     "text": [
      "0 1.pkl\n",
      "1 9.pkl\n",
      "2 18.pkl\n",
      "3 25.pkl\n",
      "4 35.pkl\n",
      "5 36.pkl\n",
      "6 46.pkl\n",
      "7 51.pkl\n",
      "8 60.pkl\n",
      "9 75.pkl\n",
      "10 85.pkl\n",
      "11 90.pkl\n",
      "12 110.pkl\n",
      "13 110.pkl\n",
      "14 115.pkl\n",
      "15 120.pkl\n",
      "16 150.pkl\n",
      "17 150.pkl\n",
      "18 150.pkl\n",
      "19 175.pkl\n",
      "20 175.pkl\n",
      "21 175.pkl\n",
      "22 175.pkl\n",
      "23 200.pkl\n",
      "24 200.pkl\n"
     ]
    }
   ],
   "source": [
    "comps = []\n",
    "for d in d1s:\n",
    "    dists = [np.abs(a - d) for a in d2s]\n",
    "    closest = dists.index(min(dists))\n",
    "#     comps.append(closest)\n",
    "    comps.append(natsorted(os.listdir('DynamicGEM-master/dynruns/'))[closest])\n",
    "    \n",
    "for i, j in enumerate(comps):\n",
    "    print(i, j)"
   ]
  },
  {
   "cell_type": "code",
   "execution_count": 7,
   "metadata": {
    "ExecuteTime": {
     "end_time": "2019-08-14T13:35:07.114310Z",
     "start_time": "2019-08-14T13:35:07.110312Z"
    }
   },
   "outputs": [],
   "source": [
    "# train_times_dyngem = []\n",
    "# perf_by_network_dyngem = []\n",
    "\n",
    "# # for i in tqdm_notebook(range(1, 3)):\n",
    "# for i in tqdm_notebook(range(10,11)):\n",
    "#     t1 = []\n",
    "#     t2 = []\n",
    "#     (times, all_embeds) = pickle.load(open('DynamicGEM-master/dynruns/' + str(i) + '.pkl', 'rb'))\n",
    "#     for j in tqdm_notebook(range(10)):\n",
    "#         t1.append(times[j])\n",
    "#         t2.append(get_k_means_performance(nets[j], all_embeds[j]))\n",
    "#     train_times_dyngem.append(t1)\n",
    "#     perf_by_network_dyngem.append(t2)"
   ]
  },
  {
   "cell_type": "code",
   "execution_count": 8,
   "metadata": {
    "ExecuteTime": {
     "end_time": "2019-08-14T13:35:07.155211Z",
     "start_time": "2019-08-14T13:35:07.116297Z"
    }
   },
   "outputs": [],
   "source": [
    "# train_times_walk = []\n",
    "# perf_by_network_walk = []\n",
    "\n",
    "# for i in tqdm_notebook(range(2, 3)):\n",
    "#     t1 = []\n",
    "#     t2 = []\n",
    "#     (times, all_embeds, total_losses) = pickle.load(open('walkruns/' + str(i) + '.pkl', 'rb'))\n",
    "#     for j in tqdm_notebook(range(10)):\n",
    "#         t1.append(times[j])\n",
    "#         t2.append(get_k_means_performance(nets[j], all_embeds[j]))\n",
    "#     train_times_walk.append(t1)\n",
    "#     perf_by_network_walk.append(t2)"
   ]
  },
  {
   "cell_type": "code",
   "execution_count": null,
   "metadata": {
    "ExecuteTime": {
     "start_time": "2019-08-18T15:56:02.433Z"
    }
   },
   "outputs": [
    {
     "data": {
      "application/vnd.jupyter.widget-view+json": {
       "model_id": "ef2cbf635dae43ba878d0f308e24311d",
       "version_major": 2,
       "version_minor": 0
      },
      "text/plain": [
       "HBox(children=(IntProgress(value=0, max=23), HTML(value='')))"
      ]
     },
     "metadata": {},
     "output_type": "display_data"
    },
    {
     "data": {
      "application/vnd.jupyter.widget-view+json": {
       "model_id": "5e39e715f01b44998c74654b7aab7fbd",
       "version_major": 2,
       "version_minor": 0
      },
      "text/plain": [
       "HBox(children=(IntProgress(value=0, max=10), HTML(value='')))"
      ]
     },
     "metadata": {},
     "output_type": "display_data"
    },
    {
     "name": "stdout",
     "output_type": "stream",
     "text": [
      "6 0.12670536197172216\n",
      "5 0.4750046029195153\n",
      "4 0.5615893230251254\n",
      "10 0.6326123755759279\n",
      "9 0.6537218276529517\n",
      "12 0.6781274136589157\n",
      "7 0.6788889693505278\n",
      "10 0.690527192905367\n",
      "8 0.6950249901852011\n",
      "9 0.6947923560617529\n"
     ]
    },
    {
     "data": {
      "application/vnd.jupyter.widget-view+json": {
       "model_id": "ae4888acbafd4ba8bc08bbf3f869ae45",
       "version_major": 2,
       "version_minor": 0
      },
      "text/plain": [
       "HBox(children=(IntProgress(value=0, max=10), HTML(value='')))"
      ]
     },
     "metadata": {},
     "output_type": "display_data"
    },
    {
     "name": "stdout",
     "output_type": "stream",
     "text": [
      "6 0.18403001139612143\n",
      "10 0.24996274905400018\n",
      "7 0.22767814521005034\n",
      "8 0.21870226664445905\n",
      "5 0.21270123878143052\n",
      "7 0.24194841301463907\n",
      "8 0.21848786487825347\n",
      "8 0.269669287176518\n",
      "7 0.19803069225271192\n",
      "9 0.2469721408123216\n"
     ]
    },
    {
     "data": {
      "image/png": "[encoded data removed]",
      "text/plain": [
       "<Figure size 432x288 with 1 Axes>"
      ]
     },
     "metadata": {
      "needs_background": "light"
     },
     "output_type": "display_data"
    },
    {
     "data": {
      "application/vnd.jupyter.widget-view+json": {
       "model_id": "4a08f3bb83fd4f319e7e799ee9c78597",
       "version_major": 2,
       "version_minor": 0
      },
      "text/plain": [
       "HBox(children=(IntProgress(value=0, max=10), HTML(value='')))"
      ]
     },
     "metadata": {},
     "output_type": "display_data"
    },
    {
     "name": "stdout",
     "output_type": "stream",
     "text": [
      "4 0.3610288124579199\n",
      "8 0.6280976485293304\n",
      "9 0.6594543426852035\n",
      "8 0.6792331535983898\n",
      "9 0.6938951034724787\n",
      "12 0.691962376434403\n",
      "13 0.6997724896506298\n",
      "12 0.7017653960877162\n",
      "11 0.7088523898330474\n",
      "11 0.7119079606431846\n"
     ]
    },
    {
     "data": {
      "application/vnd.jupyter.widget-view+json": {
       "model_id": "209dd29be696449896edd1876f344496",
       "version_major": 2,
       "version_minor": 0
      },
      "text/plain": [
       "HBox(children=(IntProgress(value=0, max=10), HTML(value='')))"
      ]
     },
     "metadata": {},
     "output_type": "display_data"
    },
    {
     "name": "stdout",
     "output_type": "stream",
     "text": [
      "8 0.5561127760731118\n",
      "6 0.5619316280364867\n",
      "6 0.5650706578782547\n",
      "7 0.5851902272620588\n",
      "9 0.591638869926268\n",
      "7 0.5511924703670854\n",
      "9 0.533839644241642\n",
      "10 0.5463659611149596\n",
      "7 0.5219337051986086\n",
      "8 0.5697331232644484\n"
     ]
    },
    {
     "data": {
      "image/png": "[encoded data removed]",
      "text/plain": [
       "<Figure size 432x288 with 1 Axes>"
      ]
     },
     "metadata": {
      "needs_background": "light"
     },
     "output_type": "display_data"
    },
    {
     "data": {
      "application/vnd.jupyter.widget-view+json": {
       "model_id": "788de110a27b4042af30330b8c203938",
       "version_major": 2,
       "version_minor": 0
      },
      "text/plain": [
       "HBox(children=(IntProgress(value=0, max=10), HTML(value='')))"
      ]
     },
     "metadata": {},
     "output_type": "display_data"
    },
    {
     "name": "stdout",
     "output_type": "stream",
     "text": [
      "13 0.5736874675776205\n",
      "14 0.6397133232216878\n",
      "7 0.6746327268279763\n",
      "15 0.6784031598725883\n",
      "7 0.6927966101723138\n",
      "8 0.7079520648396243\n",
      "7 0.7011840103363204\n",
      "8 0.7039436310366932\n",
      "8 0.7035234173309919\n",
      "8 0.7045935212011257\n"
     ]
    },
    {
     "data": {
      "application/vnd.jupyter.widget-view+json": {
       "model_id": "0d3b0e892c4a478ea56b2be3aa3887c5",
       "version_major": 2,
       "version_minor": 0
      },
      "text/plain": [
       "HBox(children=(IntProgress(value=0, max=10), HTML(value='')))"
      ]
     },
     "metadata": {},
     "output_type": "display_data"
    },
    {
     "name": "stdout",
     "output_type": "stream",
     "text": [
      "12 0.6441388643613205\n",
      "13 0.6624603008453965\n",
      "11 0.6509122344779137\n",
      "11 0.6548957400492491\n",
      "13 0.5947534685033489\n",
      "12 0.6611695177522698\n",
      "12 0.6567986270878284\n",
      "9 0.6427358284395323\n",
      "11 0.66595245805218\n",
      "12 0.6660223554480454\n"
     ]
    },
    {
     "data": {
      "image/png": "[encoded data removed]",
      "text/plain": [
       "<Figure size 432x288 with 1 Axes>"
      ]
     },
     "metadata": {
      "needs_background": "light"
     },
     "output_type": "display_data"
    },
    {
     "data": {
      "application/vnd.jupyter.widget-view+json": {
       "model_id": "e1b85f7c30bb476ea936685e2aa812ef",
       "version_major": 2,
       "version_minor": 0
      },
      "text/plain": [
       "HBox(children=(IntProgress(value=0, max=10), HTML(value='')))"
      ]
     },
     "metadata": {},
     "output_type": "display_data"
    },
    {
     "name": "stdout",
     "output_type": "stream",
     "text": [
      "13 0.6820229909162151\n",
      "14 0.7163915259211826\n",
      "12 0.7190722564286671\n",
      "12 0.7220554993673977\n",
      "11 0.7176749196789958\n",
      "14 0.7106845823659321\n",
      "11 0.7216559919040559\n",
      "12 0.7200736041035556\n",
      "12 0.7169869760514807\n",
      "15 0.7163412251262957\n"
     ]
    },
    {
     "data": {
      "application/vnd.jupyter.widget-view+json": {
       "model_id": "199019d16d22407d87d54531a8c91120",
       "version_major": 2,
       "version_minor": 0
      },
      "text/plain": [
       "HBox(children=(IntProgress(value=0, max=10), HTML(value='')))"
      ]
     },
     "metadata": {},
     "output_type": "display_data"
    },
    {
     "name": "stdout",
     "output_type": "stream",
     "text": [
      "14 0.6641126339665125\n",
      "13 0.6638309761158556\n",
      "12 0.6633558296935324\n",
      "19 0.6643304127291135\n",
      "18 0.6636001773565194\n",
      "11 0.683031517418083\n",
      "17 0.6607587554763672\n",
      "12 0.6521657848347308\n",
      "15 0.6646940375493854\n",
      "13 0.651823495894608\n"
     ]
    },
    {
     "data": {
      "image/png": "[encoded data removed]",
      "text/plain": [
       "<Figure size 432x288 with 1 Axes>"
      ]
     },
     "metadata": {
      "needs_background": "light"
     },
     "output_type": "display_data"
    },
    {
     "data": {
      "application/vnd.jupyter.widget-view+json": {
       "model_id": "ede876e2b3f14918832b3d220d268ce0",
       "version_major": 2,
       "version_minor": 0
      },
      "text/plain": [
       "HBox(children=(IntProgress(value=0, max=10), HTML(value='')))"
      ]
     },
     "metadata": {},
     "output_type": "display_data"
    },
    {
     "name": "stdout",
     "output_type": "stream",
     "text": [
      "12 0.6977212620445691\n",
      "11 0.7283378397885721\n",
      "10 0.7248874746131657\n",
      "14 0.7228116750095553\n",
      "9 0.7250865027323325\n",
      "11 0.7246148331454898\n",
      "14 0.7272175494011094\n",
      "8 0.7220722807094633\n",
      "16 0.7270462061457404\n",
      "11 0.7225618269525712\n"
     ]
    },
    {
     "data": {
      "application/vnd.jupyter.widget-view+json": {
       "model_id": "61363e8bf97c43d69a9a8a28b1fd8086",
       "version_major": 2,
       "version_minor": 0
      },
      "text/plain": [
       "HBox(children=(IntProgress(value=0, max=10), HTML(value='')))"
      ]
     },
     "metadata": {},
     "output_type": "display_data"
    },
    {
     "name": "stdout",
     "output_type": "stream",
     "text": [
      "15 0.6382698528437876\n",
      "18 0.6557598320016474\n",
      "15 0.6427454027162068\n",
      "12 0.6664794459073073\n",
      "11 0.6566774723577472\n",
      "15 0.6561579123728991\n",
      "11 0.6611637585797615\n",
      "15 0.6473960230973625\n",
      "10 0.6490096652571703\n",
      "11 0.6763207251502564\n"
     ]
    },
    {
     "data": {
      "image/png": "[encoded data removed]",
      "text/plain": [
       "<Figure size 432x288 with 1 Axes>"
      ]
     },
     "metadata": {
      "needs_background": "light"
     },
     "output_type": "display_data"
    },
    {
     "data": {
      "application/vnd.jupyter.widget-view+json": {
       "model_id": "8b3224dc3c6c4a5b89318516fb7b56f9",
       "version_major": 2,
       "version_minor": 0
      },
      "text/plain": [
       "HBox(children=(IntProgress(value=0, max=10), HTML(value='')))"
      ]
     },
     "metadata": {},
     "output_type": "display_data"
    },
    {
     "name": "stdout",
     "output_type": "stream",
     "text": [
      "10 0.713277224451165\n",
      "10 0.715049352765754\n",
      "10 0.722270349860229\n",
      "9 0.7159264851774371\n",
      "9 0.7140155697091961\n",
      "9 0.7198857976029025\n",
      "9 0.7312508867692902\n",
      "11 0.7159827919996692\n",
      "9 0.7278863736960723\n",
      "9 0.7240332199168987\n"
     ]
    },
    {
     "data": {
      "application/vnd.jupyter.widget-view+json": {
       "model_id": "e0b48dbf1e9343abb494dacea379be2c",
       "version_major": 2,
       "version_minor": 0
      },
      "text/plain": [
       "HBox(children=(IntProgress(value=0, max=10), HTML(value='')))"
      ]
     },
     "metadata": {},
     "output_type": "display_data"
    },
    {
     "name": "stdout",
     "output_type": "stream",
     "text": [
      "12 0.6469711903014315\n",
      "15 0.6242410142842385\n",
      "19 0.6376277429062118\n",
      "13 0.6565769565815722\n",
      "16 0.6537771468269149\n",
      "14 0.6403979859330848\n",
      "10 0.6492649940410999\n",
      "9 0.6498687209861354\n",
      "12 0.6652850568520112\n",
      "9 0.654212358585414\n"
     ]
    },
    {
     "data": {
      "image/png": "[encoded data removed]",
      "text/plain": [
       "<Figure size 432x288 with 1 Axes>"
      ]
     },
     "metadata": {
      "needs_background": "light"
     },
     "output_type": "display_data"
    },
    {
     "data": {
      "application/vnd.jupyter.widget-view+json": {
       "model_id": "6d822dd799454c57b5e9cc2d7eb2c4f8",
       "version_major": 2,
       "version_minor": 0
      },
      "text/plain": [
       "HBox(children=(IntProgress(value=0, max=10), HTML(value='')))"
      ]
     },
     "metadata": {},
     "output_type": "display_data"
    },
    {
     "name": "stdout",
     "output_type": "stream",
     "text": [
      "9 0.7148506197503339\n",
      "10 0.7203227619432694\n",
      "9 0.7311248274601262\n",
      "9 0.7292634854089083\n",
      "8 0.728839363246961\n",
      "10 0.7258699569192929\n",
      "8 0.7306995291085535\n",
      "8 0.7286684826718085\n",
      "12 0.7284667521828123\n",
      "8 0.7305883700248781\n"
     ]
    },
    {
     "data": {
      "application/vnd.jupyter.widget-view+json": {
       "model_id": "f06afe10505c435081b7423602abbfd5",
       "version_major": 2,
       "version_minor": 0
      },
      "text/plain": [
       "HBox(children=(IntProgress(value=0, max=10), HTML(value='')))"
      ]
     },
     "metadata": {},
     "output_type": "display_data"
    },
    {
     "name": "stdout",
     "output_type": "stream",
     "text": [
      "9 0.622267283887595\n"
     ]
    }
   ],
   "source": [
    "train_times_walk = []\n",
    "perf_by_network_walk = []\n",
    "\n",
    "train_times_dyngem = []\n",
    "perf_by_network_dyngem = []\n",
    "\n",
    "for i in tqdm_notebook(range(1, 24)):\n",
    "    t1 = []\n",
    "    t2 = []\n",
    "    (times, all_embeds, total_losses) = pickle.load(open('walkruns/' + str(i) + '.pkl', 'rb'))\n",
    "    for j in tqdm_notebook(range(10)):\n",
    "        t1.append(times[j])\n",
    "        t2.append(get_k_means_performance(nets[j], all_embeds[j]))\n",
    "    train_times_walk.append(t1)\n",
    "    perf_by_network_walk.append(t2)\n",
    "    \n",
    "    t1 = []\n",
    "    t2 = []\n",
    "#     (times, all_embeds) = pickle.load(open('DynamicGEM-master/dynruns/' + str(comps[i]) + '.pkl', 'rb'))\n",
    "    (times, all_embeds) = pickle.load(open('DynamicGEM-master/dynruns/' + comps[i], 'rb'))\n",
    "    for j in tqdm_notebook(range(10)):\n",
    "        t1.append(times[j])\n",
    "        t2.append(get_k_means_performance(nets[j], all_embeds[j]))\n",
    "    train_times_dyngem.append(t1)\n",
    "    perf_by_network_dyngem.append(t2)\n",
    "    \n",
    "    plt.plot(train_times_walk[-1], perf_by_network_walk[-1])\n",
    "    plt.plot(train_times_dyngem[-1], perf_by_network_dyngem[-1])\n",
    "    plt.show()"
   ]
  },
  {
   "cell_type": "code",
   "execution_count": 11,
   "metadata": {
    "ExecuteTime": {
     "end_time": "2019-08-14T18:04:16.939262Z",
     "start_time": "2019-08-14T18:04:16.687767Z"
    }
   },
   "outputs": [
    {
     "data": {
      "image/png": "[encoded data removed]",
      "text/plain": [
       "<Figure size 432x288 with 1 Axes>"
      ]
     },
     "metadata": {
      "needs_background": "light"
     },
     "output_type": "display_data"
    }
   ],
   "source": [
    "plt.plot(train_times_walk[0], perf_by_network_walk[0])\n",
    "plt.plot(train_times_dyngem[0], perf_by_network_dyngem[0])\n",
    "plt.show()"
   ]
  },
  {
   "cell_type": "code",
   "execution_count": null,
   "metadata": {
    "ExecuteTime": {
     "end_time": "2019-08-14T17:08:35.497090Z",
     "start_time": "2019-08-14T14:25:05.479Z"
    }
   },
   "outputs": [],
   "source": [
    "for i in tqdm_notebook(range(10)):\n",
    "    opt = cm.best_partition(nets[i])\n",
    "    print(cm.modularity(opt, nets[i]))"
   ]
  },
  {
   "cell_type": "code",
   "execution_count": 10,
   "metadata": {
    "ExecuteTime": {
     "end_time": "2019-08-14T18:04:12.502087Z",
     "start_time": "2019-08-14T18:04:12.416941Z"
    }
   },
   "outputs": [],
   "source": [
    "pickle.dump([train_times_walk,\n",
    "perf_by_network_walk,\n",
    "train_times_dyngem,\n",
    "perf_by_network_dyngem], open('cluster_perfs.pkl', 'wb'))"
   ]
  },
  {
   "cell_type": "code",
   "execution_count": 7,
   "metadata": {
    "ExecuteTime": {
     "end_time": "2019-08-15T20:11:45.754578Z",
     "start_time": "2019-08-15T20:06:28.422330Z"
    }
   },
   "outputs": [
    {
     "name": "stdout",
     "output_type": "stream",
     "text": [
      "13 0.6846571188507853\n",
      "10 0.6851083068056573\n",
      "12 0.6772409533034353\n",
      "13 0.6735818420274226\n",
      "14 0.6810616898708158\n",
      "9 0.6789158095160992\n",
      "15 0.6751205050303198\n",
      "13 0.6796989620919965\n",
      "15 0.6755148104264797\n",
      "10 0.6780570074465239\n",
      "0.6788957005369536 [0.6846571188507853, 0.6851083068056573, 0.6772409533034353, 0.6735818420274226, 0.6810616898708158, 0.6789158095160992, 0.6751205050303198, 0.6796989620919965, 0.6755148104264797, 0.6780570074465239]\n"
     ]
    }
   ],
   "source": [
    "embs = pickle.load(open('hepth/runs_node2vec.pkl', 'rb'))\n",
    "mods = []\n",
    "for i in range(len(nets)):\n",
    "    mods.append(get_k_means_performance(nets[i], embs[i]))\n",
    "                \n",
    "print(np.average(mods), mods)"
   ]
  },
  {
   "cell_type": "code",
   "execution_count": 10,
   "metadata": {
    "ExecuteTime": {
     "end_time": "2019-08-18T17:10:41.786675Z",
     "start_time": "2019-08-18T17:10:41.780690Z"
    }
   },
   "outputs": [
    {
     "data": {
      "text/plain": [
       "[10.207536697387695,\n",
       " 20.707631587982178,\n",
       " 31.25481343269348,\n",
       " 41.461472511291504,\n",
       " 51.59044885635376,\n",
       " 61.57936477661133,\n",
       " 71.72499060630798,\n",
       " 82.06740498542786,\n",
       " 92.35958170890808,\n",
       " 102.77088356018066]"
      ]
     },
     "execution_count": 10,
     "metadata": {},
     "output_type": "execute_result"
    }
   ],
   "source": [
    "(times, embs, total_losses) = pickle.load(open('walkruns/' + str(7) + '.pkl', 'rb'))\n",
    "times\n",
    "# mods = []\n",
    "# for i in range(len(nets)):\n",
    "#     mods.append(get_k_means_performance(nets[i], embs[i]))\n",
    "                \n",
    "# print(np.average(mods), mods)"
   ]
  },
  {
   "cell_type": "code",
   "execution_count": null,
   "metadata": {
    "ExecuteTime": {
     "start_time": "2019-08-18T17:17:45.891Z"
    }
   },
   "outputs": [
    {
     "name": "stdout",
     "output_type": "stream",
     "text": [
      "17 0.6607804280581892\n",
      "8 0.6597485682580535\n",
      "11 0.664967389548583\n",
      "12 0.6636353917864617\n",
      "16 0.6589279451274078\n",
      "11 0.6765866161120281\n",
      "18 0.6557506230662368\n",
      "12 0.6559537497027532\n"
     ]
    }
   ],
   "source": [
    "(times, embs) = pickle.load(open('DynamicGEM-master/dynruns/35.pkl', 'rb'))\n",
    "mods = []\n",
    "for i in range(len(nets)):\n",
    "    mods.append(get_k_means_performance(nets[i], embs[i]))\n",
    "                \n",
    "print(np.average(mods), mods)\n",
    "\n",
    "print('--------------')\n",
    "print(times)"
   ]
  },
  {
   "cell_type": "code",
   "execution_count": 16,
   "metadata": {
    "ExecuteTime": {
     "end_time": "2019-08-15T18:14:23.705130Z",
     "start_time": "2019-08-15T18:14:13.814966Z"
    }
   },
   "outputs": [
    {
     "name": "stdout",
     "output_type": "stream",
     "text": [
      "0.7557033285118251 [0.7498792783744112, 0.7568937921475342, 0.7548671246835827, 0.7595030778309527, 0.7539805523936635, 0.7597478858620202, 0.7574610701786219, 0.7494169020946847, 0.7583876415456006, 0.7568959600071801]\n"
     ]
    }
   ],
   "source": [
    "\n",
    "mods = []\n",
    "for i in range(len(nets)):\n",
    "    mods.append(cm.modularity(cm.best_partition(nets[i]), nets[i]))\n",
    "#     mods.append(get_k_means_performance(nets[i], embs[i]) / nx.average_clustering(nets[i]))\n",
    "                \n",
    "print(np.average(mods), mods)"
   ]
  },
  {
   "cell_type": "code",
   "execution_count": 9,
   "metadata": {
    "ExecuteTime": {
     "end_time": "2019-08-15T22:15:49.773077Z",
     "start_time": "2019-08-15T22:15:48.418275Z"
    }
   },
   "outputs": [],
   "source": [
    "# nets = [nx.read_graphml(\"hepth/graphs/\" + str(5*m) + \".graphml\") for m in range(10)]\n",
    "nets = [nx.read_graphml(\"hepth/graphs/\" + str(5*m) + \".graphml\") for m in range(10)]\n",
    "singletons = [list(nx.isolates(n)) for n in nets]\n",
    "for i in range(len(nets)):\n",
    "    nets[i].remove_nodes_from(singletons[i])"
   ]
  },
  {
   "cell_type": "code",
   "execution_count": 10,
   "metadata": {
    "ExecuteTime": {
     "end_time": "2019-08-15T22:16:15.721027Z",
     "start_time": "2019-08-15T22:15:59.751757Z"
    }
   },
   "outputs": [
    {
     "name": "stdout",
     "output_type": "stream",
     "text": [
      "0.6501152427216359 [0.6531019632945606, 0.6487581959364102, 0.6538479544234768, 0.6556780734401738, 0.6570004638991213, 0.6571158234906984, 0.645644810401375, 0.643548808831448, 0.644521522492502, 0.6419348110065939]\n"
     ]
    }
   ],
   "source": [
    "mods = []\n",
    "for i in range(len(nets)):\n",
    "    mods.append(cm.modularity(cm.best_partition(nets[i]), nets[i]))\n",
    "#     mods.append(get_k_means_performance(nets[i], embs[i]) / nx.average_clustering(nets[i]))\n",
    "                \n",
    "print(np.average(mods), mods)"
   ]
  },
  {
   "cell_type": "code",
   "execution_count": 11,
   "metadata": {
    "ExecuteTime": {
     "end_time": "2019-08-15T22:35:06.329416Z",
     "start_time": "2019-08-15T22:21:51.518077Z"
    }
   },
   "outputs": [
    {
     "name": "stdout",
     "output_type": "stream",
     "text": [
      "26 0.4902197228006656\n",
      "7 0.27410545212142934\n",
      "7 0.276225513638794\n",
      "8 0.2892483766482567\n",
      "9 0.28996064310453395\n",
      "5 0.2941698951704293\n",
      "4 0.23578226115965012\n",
      "4 0.23528394126566213\n",
      "5 0.24143876682193097\n",
      "5 0.23590512689069673\n",
      "0.28623396996220485 [0.4902197228006656, 0.27410545212142934, 0.276225513638794, 0.2892483766482567, 0.28996064310453395, 0.2941698951704293, 0.23578226115965012, 0.23528394126566213, 0.24143876682193097, 0.23590512689069673]\n"
     ]
    }
   ],
   "source": [
    "embs = pickle.load(open('hepth/AS_node2vec.pkl', 'rb'))\n",
    "mods = []\n",
    "for i in range(len(nets)):\n",
    "    singles = [int(x) for x in singletons[i]]\n",
    "    keeps = [x for x in range(embs[i].shape[0]) if x not in singles]\n",
    "    embs[i] = embs[i][keeps]\n",
    "    mods.append(get_k_means_performance(nets[i], embs[i]))\n",
    "                \n",
    "print(np.average(mods), mods)"
   ]
  },
  {
   "cell_type": "code",
   "execution_count": 12,
   "metadata": {
    "ExecuteTime": {
     "end_time": "2019-08-15T22:47:56.556705Z",
     "start_time": "2019-08-15T22:35:06.336151Z"
    }
   },
   "outputs": [
    {
     "name": "stdout",
     "output_type": "stream",
     "text": [
      "8 0.2844712708757456\n",
      "2 0.20601452068824075\n",
      "8 0.20570300708626776\n",
      "9 0.12179293284766765\n",
      "6 0.2088171491559186\n",
      "4 0.19277464667735905\n",
      "5 0.11674610415452084\n",
      "2 0.13277123017215994\n",
      "2 0.13448898181184699\n",
      "5 0.12072388251644481\n",
      "0.1724303725986172 [0.2844712708757456, 0.20601452068824075, 0.20570300708626776, 0.12179293284766765, 0.2088171491559186, 0.19277464667735905, 0.11674610415452084, 0.13277123017215994, 0.13448898181184699, 0.12072388251644481]\n"
     ]
    }
   ],
   "source": [
    "(times, embs, total_losses) = pickle.load(open('walk_AS/' + str(15) + '.pkl', 'rb'))\n",
    "mods = []\n",
    "for i in range(len(nets)):\n",
    "    singles = [int(x) for x in singletons[i]]\n",
    "    keeps = [x for x in range(embs[i].shape[0]) if x not in singles]\n",
    "    embs[i] = embs[i][keeps]\n",
    "    mods.append(get_k_means_performance(nets[i], embs[i]))\n",
    "                \n",
    "print(np.average(mods), mods)"
   ]
  },
  {
   "cell_type": "code",
   "execution_count": 11,
   "metadata": {
    "ExecuteTime": {
     "end_time": "2019-08-18T17:12:27.306813Z",
     "start_time": "2019-08-18T17:12:27.301827Z"
    }
   },
   "outputs": [
    {
     "data": {
      "text/plain": [
       "6.631703621034708"
      ]
     },
     "execution_count": 11,
     "metadata": {},
     "output_type": "execute_result"
    }
   ],
   "source": [
    "0.6641126339665125+ 0.6638309761158556+ 0.6633558296935324+ 0.6643304127291135+ 0.6636001773565194+ 0.683031517418083+ 0.6607587554763672+ 0.6521657848347308+ 0.6646940375493854+ 0.651823495894608\n"
   ]
  },
  {
   "cell_type": "code",
   "execution_count": null,
   "metadata": {},
   "outputs": [],
   "source": []
  }
 ],
 "metadata": {
  "kernelspec": {
   "display_name": "Python 3",
   "language": "python",
   "name": "python3"
  },
  "language_info": {
   "codemirror_mode": {
    "name": "ipython",
    "version": 3
   },
   "file_extension": ".py",
   "mimetype": "text/x-python",
   "name": "python",
   "nbconvert_exporter": "python",
   "pygments_lexer": "ipython3",
   "version": "3.7.0"
  }
 },
 "nbformat": 4,
 "nbformat_minor": 2
}

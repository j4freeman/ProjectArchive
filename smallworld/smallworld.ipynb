{
 "cells": [
  {
   "cell_type": "code",
   "execution_count": 1,
   "metadata": {
    "ExecuteTime": {
     "end_time": "2019-08-12T17:30:50.692117Z",
     "start_time": "2019-08-12T17:30:50.102558Z"
    }
   },
   "outputs": [],
   "source": [
    "%matplotlib inline\n",
    "\n",
    "import networkx as nx\n",
    "import matplotlib.pyplot as plt\n",
    "from tqdm import tqdm_notebook\n",
    "import os\n",
    "from natsort import natsorted\n",
    "import collections\n",
    "import numpy as np\n",
    "import community as cm\n",
    "from scipy.optimize import curve_fit\n",
    "from functools import reduce\n",
    "from math import floor\n",
    "import pickle"
   ]
  },
  {
   "cell_type": "code",
   "execution_count": 12,
   "metadata": {
    "ExecuteTime": {
     "end_time": "2019-08-12T17:45:12.610945Z",
     "start_time": "2019-08-12T17:45:12.604962Z"
    }
   },
   "outputs": [],
   "source": [
    "def fractal_model(generation,m,x,e):\n",
    "\t\"\"\"\n",
    "\tReturns the fractal model introduced by\n",
    "\tSong, Havlin, Makse in Nature Physics 2, 275.\n",
    "\tgeneration = number of generations\n",
    "\tm = number of offspring per node\n",
    "\tx = number of connections between offsprings\n",
    "\te = probability that hubs stay connected\n",
    "\t1-e = probability that x offsprings connect.\n",
    "\tIf e=1 we are in MODE 1 (pure small-world).\n",
    "\tIf e=0 we are in MODE 2 (pure fractal).\n",
    "\t\"\"\"\n",
    "\tG=nx.Graph()\n",
    "\tG.add_edge(0,1) #This is the seed for the network (generation 0)\n",
    "\tnode_index = 2\n",
    "\tfor n in range(1,generation+1):\n",
    "\t\tall_links = list(G.edges())\n",
    "\t\twhile all_links:\n",
    "\t\t\tlink = all_links.pop()\n",
    "\t\t\tnew_nodes_a = range(node_index,node_index + m)\n",
    "\t\t\t#random.shuffle(new_nodes_a)\n",
    "\t\t\tnode_index += m\n",
    "\t\t\tnew_nodes_b = range(node_index,node_index + m)\n",
    "\t\t\t#random.shuffle(new_nodes_b)\n",
    "\t\t\tnode_index += m\n",
    "\t\t\tG.add_edges_from([(link[0],node) for node in new_nodes_a])\n",
    "\t\t\tG.add_edges_from([(link[1],node) for node in new_nodes_b])\n",
    "\t\t\trepulsive_links = list(zip(new_nodes_a,new_nodes_b))\n",
    "\t\t\tG.add_edges_from([repulsive_links.pop() for i in range(x-1)])\n",
    "\t\t\tif np.random.random() > e:\n",
    "\t\t\t\tG.remove_edge(link[0], link[1])\n",
    "\t\t\t\tnew_edge = repulsive_links.pop()\n",
    "\t\t\t\tG.add_edge(new_edge[0], new_edge[1])\n",
    "\treturn G"
   ]
  },
  {
   "cell_type": "code",
   "execution_count": 8,
   "metadata": {
    "ExecuteTime": {
     "end_time": "2019-08-11T09:30:04.618979Z",
     "start_time": "2019-08-11T09:30:00.098077Z"
    }
   },
   "outputs": [
    {
     "data": {
      "application/vnd.jupyter.widget-view+json": {
       "model_id": "d82d60e3f29549208ab42d044fd9825c",
       "version_major": 2,
       "version_minor": 0
      },
      "text/plain": [
       "HBox(children=(IntProgress(value=0, max=10), HTML(value='')))"
      ]
     },
     "metadata": {},
     "output_type": "display_data"
    },
    {
     "name": "stdout",
     "output_type": "stream",
     "text": [
      "\n"
     ]
    },
    {
     "data": {
      "text/plain": [
       "10"
      ]
     },
     "execution_count": 8,
     "metadata": {},
     "output_type": "execute_result"
    }
   ],
   "source": [
    "refs = []\n",
    "for f in tqdm_notebook(natsorted(os.listdir('time_graphs2/'))):\n",
    "    refs.append(nx.read_graphml('time_graphs2/' + f + '/2495.graphml'))\n",
    "    \n",
    "len(refs)"
   ]
  },
  {
   "cell_type": "code",
   "execution_count": 3,
   "metadata": {
    "ExecuteTime": {
     "end_time": "2019-07-24T13:46:47.430622Z",
     "start_time": "2019-07-24T11:55:37.777174Z"
    }
   },
   "outputs": [
    {
     "data": {
      "application/vnd.jupyter.widget-view+json": {
       "model_id": "a4ff92156331459998759d22b1665d1a",
       "version_major": 2,
       "version_minor": 0
      },
      "text/plain": [
       "HBox(children=(IntProgress(value=0), HTML(value='')))"
      ]
     },
     "metadata": {},
     "output_type": "display_data"
    },
    {
     "name": "stdout",
     "output_type": "stream",
     "text": [
      "\n",
      "[4.148023852936254, 4.219277785329165, 4.327945004675613, 4.137659305379901, 4.113465740232575]\n",
      "[0.2817407728680952, 0.2973902143934266, 0.28411878999151047, 0.29706132037749766, 0.28604746200963604]\n"
     ]
    },
    {
     "data": {
      "application/vnd.jupyter.widget-view+json": {
       "model_id": "52b0376010734da7bc591d18ec3ca3d2",
       "version_major": 2,
       "version_minor": 0
      },
      "text/plain": [
       "HBox(children=(IntProgress(value=0), HTML(value='')))"
      ]
     },
     "metadata": {},
     "output_type": "display_data"
    },
    {
     "name": "stdout",
     "output_type": "stream",
     "text": [
      "1.0105242621012662 46.38396582855988\n",
      "1.0067275978015806 56.91291811738465\n",
      "1.0251854530346285 55.10634945090349\n",
      "0.9978647880775205 52.149798133625566\n",
      "0.9893348377134459 51.66143278993813\n",
      "1.0318836404663008 45.398068382088546\n",
      "0.9962834505344778 49.64074362444728\n",
      "1.0094267562256451 50.55162265389754\n",
      "1.0114051694407031 51.954324336930895\n",
      "1.0313463432138532 58.427923471703075\n",
      "1.014858653909215 57.33669314396059\n",
      "1.0119807510928276 50.44443367294479\n",
      "1.0293909467955713 50.005949390398484\n",
      "1.0195312138617258 53.418959582240745\n",
      "0.9917311834239348 50.895008929409876\n",
      "1.0008804170712735 55.95092245039407\n",
      "0.9775728388061068 49.74508474030382\n",
      "0.9885651850725579 53.1997103120914\n",
      "0.9949537744412298 60.446007285417494\n",
      "0.9939677757757632 51.50230582724532\n",
      "0.9938508080917823 47.30598023179903\n",
      "0.988058908773853 46.06617799942547\n",
      "0.9515107586825622 44.05718375566458\n",
      "1.0131379260762516 58.75002425389177\n",
      "1.002526090270371 53.76498807240356\n",
      "1.0021230478222996 50.69627779299733\n",
      "1.0096683053920779 60.182749261868615\n",
      "1.0127811153115787 63.185384261299745\n",
      "0.9915102930760418 48.3283362843459\n",
      "0.9875292221487624 47.187317536417396\n",
      "1.0178806138467191 57.43563896351168\n",
      "1.0024542107365362 47.06022365481255\n",
      "1.0081688926546415 64.16841920334338\n",
      "0.9918617720232022 63.65325132045081\n",
      "1.0280468304174946 59.09943833853699\n",
      "0.9973710260274776 55.4331930888841\n",
      "1.0205126339770332 49.47428014868561\n",
      "1.0479105680388736 50.578943343633185\n",
      "1.0101635825704518 54.35114816788207\n",
      "0.9870567429797165 51.4183129822679\n",
      "0.9873018762207527 46.100568493864614\n",
      "1.0043390587799053 44.85997002586686\n",
      "0.9839261131571005 57.11025328065109\n",
      "1.0170234704271495 61.9748749401121\n",
      "1.0122392208936848 54.893400869369955\n",
      "1.018334274323135 65.9876083719265\n",
      "1.0036883336055358 51.250077181985475\n",
      "1.0349033148600746 55.8271314865491\n",
      "0.9851270112005612 58.90783140561122\n",
      "1.0019933816221778 56.1392460223377\n",
      "1.0374754248847966 56.46293837669451\n",
      "0.9959137013383741 52.722944860300544\n",
      "0.9851271463064343 53.4516446680893\n",
      "1.0314862227378998 52.64338910330335\n",
      "1.006097886637366 55.48576645140851\n",
      "1.0006571245646587 49.47172064869294\n",
      "0.9977968171878395 51.45705808300431\n",
      "0.9993888969707445 47.51904149648681\n",
      "0.9834722653916083 44.5319271030065\n",
      "1.0021255724729712 58.03917611910064\n",
      "1.0079133602510415 55.19748643495921\n",
      "0.9970564611161502 63.50541683075805\n",
      "1.0047163068674312 50.671435855743226\n",
      "1.0420685110624062 49.13579274590626\n",
      "0.9929847026070947 48.33442086266888\n",
      "0.990679952292288 51.96057824283047\n",
      "1.02854715904622 45.268041889098\n",
      "0.9857834962236917 49.44262675383587\n",
      "1.0014682890211022 51.49467482326982\n",
      "1.010667963422075 48.6483516599827\n",
      "1.0170744753079048 62.422971145878215\n",
      "1.0112068767889577 48.80405523680281\n",
      "0.9741882775035621 49.8579357706145\n",
      "0.9870780446878957 53.57406778996082\n",
      "0.9925562093878453 46.25613700949619\n",
      "1.0152067251369823 61.431825839624445\n",
      "1.0056470399044217 51.33586591259466\n",
      "0.9905213065399111 47.06872530515631\n",
      "0.9910056136187896 50.88625043213992\n",
      "1.015606636925732 53.769341551705395\n",
      "1.0100099437498933 43.98662265463229\n",
      "1.0035888943534288 50.11380241945967\n",
      "0.9992141761852188 49.04936084206234\n",
      "1.0139670555228575 58.003458405568395\n",
      "0.9878286714327492 52.42037795075803\n",
      "1.0187366731471714 51.928095821194\n",
      "0.9983808958707502 49.65028170823331\n",
      "1.0018603363658751 55.21370112329331\n",
      "1.0062479421798658 62.172980684674\n",
      "0.9730978805931416 48.45831304103984\n",
      "1.0025074238609204 50.36145335422021\n",
      "1.0079507622785193 49.94665631785375\n",
      "1.004162401427081 51.85962713147204\n",
      "1.034533260272318 59.2664427508891\n",
      "0.9980772782920946 51.01788067370645\n",
      "1.0093508740329087 55.392025686635975\n",
      "1.0111075454992589 55.336077686952365\n",
      "0.9895074069900274 54.67871320661633\n",
      "1.0153526622791051 49.23953131420167\n",
      "1.0174446272566866 54.506045888222054\n",
      "\n",
      "==========\n",
      "4.2059749915038385 0.282637846593417\n",
      "4.142209758191635 0.00541146383096019\n",
      "1.0153940135904758 52.229462382504146\n"
     ]
    }
   ],
   "source": [
    "true_lens = []\n",
    "true_clusts = []\n",
    "\n",
    "for r in tqdm_notebook(refs):\n",
    "    true_lens.append(nx.average_shortest_path_length(r))\n",
    "    true_clusts.append(nx.average_clustering(r))\n",
    "\n",
    "print(true_lens[:5])\n",
    "print(true_clusts[:5])\n",
    "    \n",
    "true_len = sum(true_lens) / len(true_lens)\n",
    "true_clus = sum(true_clusts) / len(true_clusts)\n",
    "    \n",
    "lens = []\n",
    "clusts = []\n",
    "\n",
    "for i in tqdm_notebook(range(len(refs))):\n",
    "    ref = refs[i]\n",
    "    temp_lens = []\n",
    "    temp_clusts = []\n",
    "    for _ in range(10):\n",
    "        rand = nx.erdos_renyi_graph(ref.number_of_nodes(), ref.number_of_edges() / ref.number_of_nodes()**2)\n",
    "    #     rand = nx.random_reference(ref)\n",
    "        while not nx.is_connected(rand):\n",
    "            rand = nx.erdos_renyi_graph(ref.number_of_nodes(), ref.number_of_edges() / ref.number_of_nodes()**2)\n",
    "    #         rand = nx.random_reference(ref)\n",
    "        cur_len = nx.average_shortest_path_length(rand)\n",
    "        cur_clust = nx.average_clustering(rand)\n",
    "        lens.append(cur_len)\n",
    "        clusts.append(cur_clust)\n",
    "        temp_lens.append(cur_len)\n",
    "        temp_clusts.append(cur_clust)\n",
    "        \n",
    "    ref_len = sum(temp_lens) / len(temp_lens)\n",
    "    ref_clus = sum(temp_clusts) / len(temp_clusts)\n",
    "    true_len = true_lens[i]\n",
    "    true_clus = true_clusts[i]\n",
    "    print(true_len / ref_len, true_clus / ref_clus)\n",
    "        \n",
    "    \n",
    "print(\"==========\")\n",
    "ref_len = sum(lens) / len(lens)\n",
    "ref_clus = sum(clusts) / len(clusts)\n",
    "\n",
    "print(true_len, true_clus)\n",
    "print(ref_len, ref_clus)\n",
    "print(true_len / ref_len, true_clus / ref_clus)"
   ]
  },
  {
   "cell_type": "code",
   "execution_count": 214,
   "metadata": {
    "ExecuteTime": {
     "end_time": "2019-08-11T15:30:55.023720Z",
     "start_time": "2019-08-11T15:30:51.551959Z"
    }
   },
   "outputs": [
    {
     "name": "stdout",
     "output_type": "stream",
     "text": [
      "(array([87.44230476]), array([[5.70267201]]))\n",
      "0.9310067117697917\n",
      "(array([85.08632065]), array([[3.11247002]]))\n",
      "0.9578436889071638\n",
      "(array([87.05117235]), array([[3.8232854]]))\n",
      "0.953004553766293\n",
      "(array([91.45365965]), array([[6.10660003]]))\n",
      "0.9329432649013116\n",
      "(array([87.20336433]), array([[3.91332244]]))\n",
      "0.9508852478810319\n",
      "0.9451366934451183\n"
     ]
    },
    {
     "data": {
      "text/plain": [
       "<Figure size 432x288 with 0 Axes>"
      ]
     },
     "metadata": {},
     "output_type": "display_data"
    }
   ],
   "source": [
    "def scale(lb, a):\n",
    "    return  a * lb**-2.8\n",
    "\n",
    "r2s = []\n",
    "# G = nx.read_edgelist('real_graphs/facebook_combined.txt')\n",
    "# G = nx.read_graphml('0.graphml')\n",
    "# G = nx.read_graphml('time_graphs/' + str(0) + '/4990.graphml')\n",
    "Gs = [nx.read_graphml('time_graphs/' + str(i) + '/4990.graphml') for i in range(5)]\n",
    "for idx, G in enumerate(Gs):\n",
    "    degree_sequence = [d for (n, d) in G.degree()]\n",
    "    degreeCount = collections.Counter(degree_sequence)\n",
    "    deg, cnt = zip(*degreeCount.items())\n",
    "\n",
    "    tot = sum(cnt)\n",
    "    per = [c / tot for c in cnt]\n",
    "\n",
    "    vals = sorted([(deg[i], per[i]) for i in range(len(deg))])\n",
    "    x = np.array([v[0] for v in vals])[15:]\n",
    "    y = np.array([v[1] for v in vals])[15:]\n",
    "\n",
    "    popt = curve_fit(scale, x, y)\n",
    "    print(popt)\n",
    "    popt = popt[0]\n",
    "\n",
    "    plt.xscale('log')\n",
    "    plt.yscale('log')\n",
    "    plt.plot(deg, per, 'x')\n",
    "    xx = np.linspace(10, max(x), 100)\n",
    "    yy = [scale(x, *popt) for x in xx]\n",
    "    plt.plot(xx, yy, lw=5)\n",
    "\n",
    "    plt.savefig('deg_plots/' + str(idx) + '.png')\n",
    "    plt.cla()\n",
    "    plt.clf()\n",
    "    # plt.show()\n",
    "    \n",
    "    y_fit = scale(x, *popt)\n",
    "\n",
    "    ss_res = np.sum((y - y_fit) ** 2)\n",
    "\n",
    "    # total sum of squares\n",
    "    ss_tot = np.sum((y - np.mean(y)) ** 2)\n",
    "\n",
    "    # r-squared\n",
    "    r2 = 1 - (ss_res / ss_tot)\n",
    "    r2s.append(r2)\n",
    "    print(r2)\n",
    "\n",
    "\n",
    "print(np.average(r2s))"
   ]
  },
  {
   "cell_type": "code",
   "execution_count": 218,
   "metadata": {
    "ExecuteTime": {
     "end_time": "2019-08-11T16:29:54.938066Z",
     "start_time": "2019-08-11T16:29:54.531108Z"
    }
   },
   "outputs": [
    {
     "name": "stdout",
     "output_type": "stream",
     "text": [
      "[1.2530342  0.70328266]\n"
     ]
    },
    {
     "data": {
      "text/plain": [
       "<Figure size 432x288 with 0 Axes>"
      ]
     },
     "metadata": {},
     "output_type": "display_data"
    }
   ],
   "source": [
    "def scale(lb, db, a):\n",
    "    return  a * lb**-db\n",
    "\n",
    "G = nx.read_edgelist('real_graphs/facebook_combined.txt')\n",
    "# G = nx.read_graphml('0.graphml')\n",
    "# G = nx.read_graphml('time_graphs/' + str(0) + '/4990.graphml')\n",
    "degree_sequence = [d for (n, d) in G.degree()]\n",
    "degreeCount = collections.Counter(degree_sequence)\n",
    "deg, cnt = zip(*degreeCount.items())\n",
    "\n",
    "tot = sum(cnt)\n",
    "per = [c / tot for c in cnt]\n",
    "\n",
    "vals = sorted([(deg[i], per[i]) for i in range(len(deg))])\n",
    "x = np.array([v[0] for v in vals])[15:]\n",
    "y = np.array([v[1] for v in vals])[15:]\n",
    "\n",
    "popt = curve_fit(scale, x, y)[0]\n",
    "print(popt)\n",
    "\n",
    "plt.xscale('log')\n",
    "plt.yscale('log')\n",
    "plt.plot(deg, per, 'x')\n",
    "xx = np.linspace(10, max(x) * 0.6, 100)\n",
    "yy = [scale(x, *popt) for x in xx]\n",
    "plt.plot(xx, yy, lw=5)\n",
    "\n",
    "plt.savefig('deg_plots/' + 'facebook' + '.png')\n",
    "plt.cla()\n",
    "plt.clf()\n",
    "# plt.show()"
   ]
  },
  {
   "cell_type": "code",
   "execution_count": 221,
   "metadata": {
    "ExecuteTime": {
     "end_time": "2019-08-11T16:30:54.087330Z",
     "start_time": "2019-08-11T16:30:53.864520Z"
    }
   },
   "outputs": [
    {
     "name": "stdout",
     "output_type": "stream",
     "text": [
      "generated model\n",
      "[ 2.73962012 25.23877724]\n"
     ]
    },
    {
     "data": {
      "text/plain": [
       "<Figure size 432x288 with 0 Axes>"
      ]
     },
     "metadata": {},
     "output_type": "display_data"
    }
   ],
   "source": [
    "def scale(lb, db, a):\n",
    "    return  a * lb**-db\n",
    "\n",
    "# G = nx.read_edgelist('real_graphs/facebook_combined.txt')\n",
    "G = nx.barabasi_albert_graph(2500, 5)\n",
    "# G = nx.read_graphml('0.graphml')\n",
    "\n",
    "print('generated model')\n",
    "degree_sequence = [d for (n, d) in G.degree()]\n",
    "degreeCount = collections.Counter(degree_sequence)\n",
    "deg, cnt = zip(*degreeCount.items())\n",
    "\n",
    "tot = sum(cnt)\n",
    "per = [c / tot for c in cnt]\n",
    "\n",
    "vals = sorted([(deg[i], per[i]) for i in range(len(deg))])\n",
    "x = np.array([v[0] for v in vals])[15:]\n",
    "y = np.array([v[1] for v in vals])[15:]\n",
    "\n",
    "popt = curve_fit(scale, x, y)[0]\n",
    "print(popt)\n",
    "\n",
    "plt.xscale('log')\n",
    "plt.yscale('log')\n",
    "plt.plot(deg, per, 'x')\n",
    "xx = np.linspace(min(deg), 10**1.7, 100)\n",
    "yy = [scale(x, *popt) for x in xx]\n",
    "plt.plot(xx, yy, lw=5)\n",
    "\n",
    "plt.savefig('deg_plots/' + 'ba' + '.png')\n",
    "plt.cla()\n",
    "plt.clf()"
   ]
  },
  {
   "cell_type": "code",
   "execution_count": 213,
   "metadata": {
    "ExecuteTime": {
     "end_time": "2019-08-11T15:29:24.254150Z",
     "start_time": "2019-08-11T15:29:24.245174Z"
    }
   },
   "outputs": [
    {
     "name": "stdout",
     "output_type": "stream",
     "text": [
      "3569\n",
      "1784.0\n"
     ]
    },
    {
     "data": {
      "text/plain": [
       "2.069163590049465"
      ]
     },
     "execution_count": 213,
     "metadata": {},
     "output_type": "execute_result"
    }
   ],
   "source": [
    "def lesk(x, a=1.25):\n",
    "    t1 = 4 * (x**(a-1)) - 1\n",
    "    t2 = 2 * (x**(a-1)) - 1\n",
    "    \n",
    "    return t1/t2\n",
    "\n",
    "print(len(Gs[0]))\n",
    "print(np.average(list(range(len(Gs[0])))))\n",
    "lesk(3569)"
   ]
  },
  {
   "cell_type": "code",
   "execution_count": 3,
   "metadata": {
    "ExecuteTime": {
     "end_time": "2019-08-12T17:33:09.883508Z",
     "start_time": "2019-08-12T17:32:14.720463Z"
    }
   },
   "outputs": [
    {
     "data": {
      "application/vnd.jupyter.widget-view+json": {
       "model_id": "72b13cfd86e24262b04f9a72f5899bfd",
       "version_major": 2,
       "version_minor": 0
      },
      "text/plain": [
       "HBox(children=(IntProgress(value=1, bar_style='info', max=1), HTML(value='')))"
      ]
     },
     "metadata": {},
     "output_type": "display_data"
    },
    {
     "name": "stdout",
     "output_type": "stream",
     "text": [
      "\n",
      "0.7412424033092034 3525.2 27409.8\n"
     ]
    }
   ],
   "source": [
    "mods = []\n",
    "nodes = []\n",
    "edges = []\n",
    "Gs = [nx.read_graphml('time_graphs/' + str(i) + '/4990.graphml') for i in range(5)]\n",
    "# Gs = [nx.read_graphml('0.graphml')]\n",
    "for idx, G in tqdm_notebook(enumerate(Gs)):\n",
    "    for _ in range(5):\n",
    "        coms = cm.best_partition(G)\n",
    "        mod = cm.modularity(coms, G)\n",
    "        mods.append(mod)\n",
    "    nodes.append(G.number_of_nodes())\n",
    "    edges.append(G.number_of_edges())\n",
    "    \n",
    "print(np.average(mods), np.average(nodes), np.average(edges))"
   ]
  },
  {
   "cell_type": "code",
   "execution_count": 4,
   "metadata": {
    "ExecuteTime": {
     "end_time": "2019-08-12T17:33:58.206536Z",
     "start_time": "2019-08-12T17:33:09.884495Z"
    }
   },
   "outputs": [
    {
     "data": {
      "application/vnd.jupyter.widget-view+json": {
       "model_id": "9fcc44f583814a2791019fd65bf536e0",
       "version_major": 2,
       "version_minor": 0
      },
      "text/plain": [
       "HBox(children=(IntProgress(value=0, max=5), HTML(value='')))"
      ]
     },
     "metadata": {},
     "output_type": "display_data"
    },
    {
     "name": "stdout",
     "output_type": "stream",
     "text": [
      "\n",
      "0.7920036678571428 3500.0 28000.0\n"
     ]
    }
   ],
   "source": [
    "mods = []\n",
    "nodes = []\n",
    "edges = []\n",
    "for _ in tqdm_notebook(range(5)):\n",
    "    r = nx.connected_watts_strogatz_graph(3500, 17, 0.15)\n",
    "    for _ in range(5):\n",
    "        coms = cm.best_partition(r)\n",
    "        mod = cm.modularity(coms, r)\n",
    "        mods.append(mod)\n",
    "    edges.append(r.number_of_edges())\n",
    "    nodes.append(r.number_of_nodes())\n",
    "    \n",
    "print(np.average(mods), np.average(nodes), np.average(edges))"
   ]
  },
  {
   "cell_type": "code",
   "execution_count": 5,
   "metadata": {
    "ExecuteTime": {
     "end_time": "2019-08-12T17:38:22.030547Z",
     "start_time": "2019-08-12T17:33:58.208530Z"
    }
   },
   "outputs": [
    {
     "data": {
      "application/vnd.jupyter.widget-view+json": {
       "model_id": "e42cbea0956f466aa40a74f95fa08ac8",
       "version_major": 2,
       "version_minor": 0
      },
      "text/plain": [
       "HBox(children=(IntProgress(value=0, max=5), HTML(value='')))"
      ]
     },
     "metadata": {},
     "output_type": "display_data"
    },
    {
     "name": "stdout",
     "output_type": "stream",
     "text": [
      "\n",
      "0.22395862606543576 3500.0 24503.0\n"
     ]
    }
   ],
   "source": [
    "mods = []\n",
    "nodes = []\n",
    "edges = []\n",
    "for _ in tqdm_notebook(range(5)):\n",
    "    r = nx.erdos_renyi_graph(3500, 0.004)\n",
    "    for _ in range(5):\n",
    "        coms = cm.best_partition(r)\n",
    "        mod = cm.modularity(coms, r)\n",
    "        mods.append(mod)\n",
    "    edges.append(r.number_of_edges())\n",
    "    nodes.append(r.number_of_nodes())\n",
    "    \n",
    "print(np.average(mods), np.average(nodes), np.average(edges))"
   ]
  },
  {
   "cell_type": "code",
   "execution_count": 13,
   "metadata": {
    "ExecuteTime": {
     "end_time": "2019-08-12T17:45:32.065157Z",
     "start_time": "2019-08-12T17:45:16.303011Z"
    }
   },
   "outputs": [
    {
     "data": {
      "application/vnd.jupyter.widget-view+json": {
       "model_id": "f3b8646798d344f59d32fe89eea11e24",
       "version_major": 2,
       "version_minor": 0
      },
      "text/plain": [
       "HBox(children=(IntProgress(value=0, max=5), HTML(value='')))"
      ]
     },
     "metadata": {},
     "output_type": "display_data"
    },
    {
     "name": "stdout",
     "output_type": "stream",
     "text": [
      "\n",
      "0.9259720611572265 3512.0 4096.0\n"
     ]
    }
   ],
   "source": [
    "mods = []\n",
    "nodes = []\n",
    "edges = []\n",
    "for _ in tqdm_notebook(range(5)):\n",
    "    r = fractal_model(4,3,2,0)\n",
    "    for _ in range(5):\n",
    "        coms = cm.best_partition(r)\n",
    "        mod = cm.modularity(coms, r)\n",
    "        mods.append(mod)\n",
    "    edges.append(r.number_of_edges())\n",
    "    nodes.append(r.number_of_nodes())\n",
    "    \n",
    "print(np.average(mods), np.average(nodes), np.average(edges))"
   ]
  },
  {
   "cell_type": "code",
   "execution_count": 7,
   "metadata": {
    "ExecuteTime": {
     "end_time": "2019-08-12T17:39:27.394637Z",
     "start_time": "2019-08-12T17:39:21.444169Z"
    }
   },
   "outputs": [
    {
     "name": "stdout",
     "output_type": "stream",
     "text": [
      "0.8128593979226375 2708 5278\n"
     ]
    }
   ],
   "source": [
    "r = nx.read_graphml('cora.graphml')\n",
    "r = nx.Graph(r)\n",
    "mods = []\n",
    "\n",
    "for _ in range(5):\n",
    "        coms = cm.best_partition(r)\n",
    "        mod = cm.modularity(coms, r)\n",
    "        mods.append(mod)\n",
    "    \n",
    "print(np.average(mods), r.number_of_nodes(), r.number_of_edges())"
   ]
  },
  {
   "cell_type": "code",
   "execution_count": 8,
   "metadata": {
    "ExecuteTime": {
     "end_time": "2019-08-12T17:39:31.954250Z",
     "start_time": "2019-08-12T17:39:27.398624Z"
    }
   },
   "outputs": [
    {
     "name": "stdout",
     "output_type": "stream",
     "text": [
      "0.6527208387367345 3015 5539\n"
     ]
    }
   ],
   "source": [
    "r = nx.read_graphml('0.graphml')\n",
    "mods = []\n",
    "\n",
    "for _ in range(5):\n",
    "        coms = cm.best_partition(r)\n",
    "        mod = cm.modularity(coms, r)\n",
    "        mods.append(mod)\n",
    "    \n",
    "print(np.average(mods), r.number_of_nodes(), r.number_of_edges())"
   ]
  },
  {
   "cell_type": "code",
   "execution_count": 9,
   "metadata": {
    "ExecuteTime": {
     "end_time": "2019-08-12T17:39:35.230404Z",
     "start_time": "2019-08-12T17:39:31.956245Z"
    }
   },
   "outputs": [
    {
     "name": "stdout",
     "output_type": "stream",
     "text": [
      "0.569809563917796 1133 5452\n"
     ]
    }
   ],
   "source": [
    "r = nx.read_edgelist('real_graphs/email.txt', data=False)\n",
    "mods = []\n",
    "\n",
    "for _ in range(5):\n",
    "        coms = cm.best_partition(r)\n",
    "        mod = cm.modularity(coms, r)\n",
    "        mods.append(mod)\n",
    "    \n",
    "print(np.average(mods), r.number_of_nodes(), r.number_of_edges())"
   ]
  },
  {
   "cell_type": "code",
   "execution_count": null,
   "metadata": {},
   "outputs": [],
   "source": []
  }
 ],
 "metadata": {
  "kernelspec": {
   "display_name": "Python 3",
   "language": "python",
   "name": "python3"
  },
  "language_info": {
   "codemirror_mode": {
    "name": "ipython",
    "version": 3
   },
   "file_extension": ".py",
   "mimetype": "text/x-python",
   "name": "python",
   "nbconvert_exporter": "python",
   "pygments_lexer": "ipython3",
   "version": "3.7.0"
  }
 },
 "nbformat": 4,
 "nbformat_minor": 2
}

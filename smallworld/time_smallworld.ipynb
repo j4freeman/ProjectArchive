{
 "cells": [
  {
   "cell_type": "code",
   "execution_count": 1,
   "metadata": {
    "ExecuteTime": {
     "end_time": "2019-08-12T17:05:45.289878Z",
     "start_time": "2019-08-12T17:05:44.270411Z"
    }
   },
   "outputs": [],
   "source": [
    "%matplotlib inline\n",
    "\n",
    "import pickle\n",
    "import networkx as nx\n",
    "import matplotlib.pyplot as plt\n",
    "from tqdm import tqdm_notebook\n",
    "from p_tqdm import p_map\n",
    "import os\n",
    "from natsort import natsorted\n",
    "import numpy as np\n",
    "from multiprocessing import Pool\n",
    "import community as cm\n",
    "from scipy.optimize import curve_fit\n",
    "from sympy.solvers import solve\n",
    "from sympy import Symbol"
   ]
  },
  {
   "cell_type": "code",
   "execution_count": 2,
   "metadata": {
    "ExecuteTime": {
     "end_time": "2019-08-11T14:37:17.868336Z",
     "start_time": "2019-08-11T14:37:17.864334Z"
    }
   },
   "outputs": [],
   "source": [
    "def smooth_diam(graph):\n",
    "    import networkx as nx\n",
    "    import numpy as np\n",
    "    paths =  [l for u in graph for l in nx.single_source_shortest_path_length(graph, u).values()]\n",
    "    return np.percentile(paths, 90)"
   ]
  },
  {
   "cell_type": "code",
   "execution_count": 3,
   "metadata": {
    "ExecuteTime": {
     "end_time": "2019-08-11T12:59:43.007262Z",
     "start_time": "2019-08-11T12:11:29.725499Z"
    }
   },
   "outputs": [
    {
     "data": {
      "application/vnd.jupyter.widget-view+json": {
       "model_id": "25351a4d584f4088913ca7a673cdd93f",
       "version_major": 2,
       "version_minor": 0
      },
      "text/plain": [
       "HBox(children=(IntProgress(value=0, max=5), HTML(value='')))"
      ]
     },
     "metadata": {},
     "output_type": "display_data"
    },
    {
     "data": {
      "application/vnd.jupyter.widget-view+json": {
       "model_id": "35004e37905b47fda5ac943df60a19fb",
       "version_major": 2,
       "version_minor": 0
      },
      "text/plain": [
       "HBox(children=(IntProgress(value=0, max=500), HTML(value='')))"
      ]
     },
     "metadata": {},
     "output_type": "display_data"
    },
    {
     "name": "stderr",
     "output_type": "stream",
     "text": [
      "100%|████████████████████████████████████████████████████████████████████████████████| 100/100 [08:49<00:00, 10.98s/it]\n"
     ]
    },
    {
     "data": {
      "application/vnd.jupyter.widget-view+json": {
       "model_id": "6269022908744258ba9967ab2df0950f",
       "version_major": 2,
       "version_minor": 0
      },
      "text/plain": [
       "HBox(children=(IntProgress(value=0, max=500), HTML(value='')))"
      ]
     },
     "metadata": {},
     "output_type": "display_data"
    },
    {
     "name": "stderr",
     "output_type": "stream",
     "text": [
      "100%|████████████████████████████████████████████████████████████████████████████████| 100/100 [08:31<00:00,  9.42s/it]\n"
     ]
    },
    {
     "data": {
      "application/vnd.jupyter.widget-view+json": {
       "model_id": "479581f031b940ddbf648804c84c0e17",
       "version_major": 2,
       "version_minor": 0
      },
      "text/plain": [
       "HBox(children=(IntProgress(value=0, max=500), HTML(value='')))"
      ]
     },
     "metadata": {},
     "output_type": "display_data"
    },
    {
     "name": "stderr",
     "output_type": "stream",
     "text": [
      "100%|████████████████████████████████████████████████████████████████████████████████| 100/100 [08:29<00:00, 10.42s/it]\n"
     ]
    },
    {
     "data": {
      "application/vnd.jupyter.widget-view+json": {
       "model_id": "000168ec4a9c4525846793da967d64b1",
       "version_major": 2,
       "version_minor": 0
      },
      "text/plain": [
       "HBox(children=(IntProgress(value=0, max=500), HTML(value='')))"
      ]
     },
     "metadata": {},
     "output_type": "display_data"
    },
    {
     "name": "stderr",
     "output_type": "stream",
     "text": [
      "100%|████████████████████████████████████████████████████████████████████████████████| 100/100 [10:52<00:00, 11.77s/it]\n"
     ]
    },
    {
     "data": {
      "application/vnd.jupyter.widget-view+json": {
       "model_id": "107926de069043c3b0ecb252746d1a98",
       "version_major": 2,
       "version_minor": 0
      },
      "text/plain": [
       "HBox(children=(IntProgress(value=0, max=500), HTML(value='')))"
      ]
     },
     "metadata": {},
     "output_type": "display_data"
    },
    {
     "name": "stderr",
     "output_type": "stream",
     "text": [
      "100%|████████████████████████████████████████████████████████████████████████████████| 100/100 [09:20<00:00,  9.78s/it]\n"
     ]
    },
    {
     "name": "stdout",
     "output_type": "stream",
     "text": [
      "\n"
     ]
    },
    {
     "data": {
      "text/plain": [
       "100"
      ]
     },
     "execution_count": 3,
     "metadata": {},
     "output_type": "execute_result"
    }
   ],
   "source": [
    "true_lens = []\n",
    "true_clusts = []\n",
    "true_dims = []\n",
    "true_diameters = []\n",
    "\n",
    "for j in tqdm_notebook(range(5)):\n",
    "    refs = []\n",
    "    counter = 0\n",
    "    for f in tqdm_notebook(natsorted(os.listdir('time_graphs/' + str(j) + '/'))):\n",
    "        counter += 1\n",
    "        if counter%5 == 0:\n",
    "            refs.append(nx.read_graphml('time_graphs/' + str(j) + '/' + f))\n",
    "        \n",
    "        \n",
    "    lens = []\n",
    "    clusts = []\n",
    "#     p = Pool(12)\n",
    "#     dims = p.map(get_ds, refs)\n",
    "#     dims = []\n",
    "#     spects = p_map(nx.linalg.spectrum.laplacian_spectrum, refs)\n",
    "#     for s in tqdm_notebook(spects):\n",
    "#         dims.append(get_ds(s))\n",
    "#     true_dims.append(dims)\n",
    "    diameters = p_map(smooth_diam, refs, num_cpus=8)\n",
    "    true_diameters.append(diameters)\n",
    "    \n",
    "#     lens = p_map(nx.average_shortest_path_length, refs)\n",
    "#     clusts = p_map(nx.average_clustering, refs)\n",
    "\n",
    "#     true_lens.append(lens)\n",
    "#     true_clusts.append(clusts)\n",
    "        \n",
    "        \n",
    "len(diameters)"
   ]
  },
  {
   "cell_type": "code",
   "execution_count": 15,
   "metadata": {
    "ExecuteTime": {
     "end_time": "2019-08-11T15:32:32.395764Z",
     "start_time": "2019-08-11T15:32:32.174791Z"
    }
   },
   "outputs": [
    {
     "data": {
      "image/png": "[encoded data removed]",
      "text/plain": [
       "<Figure size 432x288 with 1 Axes>"
      ]
     },
     "metadata": {
      "needs_background": "light"
     },
     "output_type": "display_data"
    },
    {
     "data": {
      "image/png": "[encoded data removed]",
      "text/plain": [
       "<Figure size 432x288 with 1 Axes>"
      ]
     },
     "metadata": {
      "needs_background": "light"
     },
     "output_type": "display_data"
    }
   ],
   "source": [
    "true_diameters = pickle.load(open('time_diams', 'rb'))\n",
    "\n",
    "for d in true_diameters:\n",
    "    plt.plot([x*25 for x in range(100)], d)\n",
    "    \n",
    "plt.xlabel('|V|')\n",
    "plt.ylabel('Effective Diameter')\n",
    "plt.savefig('diameters.png')\n",
    "plt.show()\n",
    "\n",
    "avgs = np.array(true_diameters)\n",
    "avgs = np.mean(avgs, axis=0)\n",
    "\n",
    "plt.plot([x*25 for x in range(100)], avgs)\n",
    "plt.show()\n",
    "\n",
    "pickle.dump(true_diameters, open('time_diams', 'wb'))"
   ]
  },
  {
   "cell_type": "code",
   "execution_count": 16,
   "metadata": {
    "ExecuteTime": {
     "end_time": "2019-08-11T15:33:35.405762Z",
     "start_time": "2019-08-11T15:33:35.151270Z"
    }
   },
   "outputs": [
    {
     "data": {
      "image/png": "[encoded data removed]",
      "text/plain": [
       "<Figure size 432x288 with 1 Axes>"
      ]
     },
     "metadata": {
      "needs_background": "light"
     },
     "output_type": "display_data"
    },
    {
     "data": {
      "image/png": "[encoded data removed]",
      "text/plain": [
       "<Figure size 432x288 with 1 Axes>"
      ]
     },
     "metadata": {
      "needs_background": "light"
     },
     "output_type": "display_data"
    }
   ],
   "source": [
    "(true_lens, true_clusts) = pickle.load(open('time_stats', 'rb'))\n",
    "\n",
    "xs = [x * 5 for x in range(500)]\n",
    "\n",
    "for l in true_lens:\n",
    "    plt.plot(xs, l)\n",
    "   \n",
    "plt.xlabel('|V|')\n",
    "plt.ylabel('Average Shortest Path Length')\n",
    "plt.savefig('lens.png')\n",
    "plt.show()\n",
    "\n",
    "avgs = np.array(true_lens)\n",
    "avgs = np.mean(avgs, axis=0)\n",
    "\n",
    "plt.plot(xs, avgs)\n",
    "plt.show()"
   ]
  },
  {
   "cell_type": "code",
   "execution_count": 17,
   "metadata": {
    "ExecuteTime": {
     "end_time": "2019-08-11T15:33:35.643726Z",
     "start_time": "2019-08-11T15:33:35.421750Z"
    }
   },
   "outputs": [
    {
     "data": {
      "image/png": "[encoded data removed]",
      "text/plain": [
       "<Figure size 432x288 with 1 Axes>"
      ]
     },
     "metadata": {
      "needs_background": "light"
     },
     "output_type": "display_data"
    },
    {
     "data": {
      "image/png": "[encoded data removed]",
      "text/plain": [
       "<Figure size 432x288 with 1 Axes>"
      ]
     },
     "metadata": {
      "needs_background": "light"
     },
     "output_type": "display_data"
    }
   ],
   "source": [
    "for l in true_clusts:\n",
    "    plt.plot(xs, l)\n",
    "    \n",
    "plt.xlabel('|V|')\n",
    "plt.ylabel('Average Clustering Coefficient')\n",
    "plt.savefig('clusts.png')\n",
    "plt.show()\n",
    "\n",
    "avgs = np.array(true_clusts)\n",
    "avgs = np.mean(avgs, axis=0)\n",
    "\n",
    "plt.plot(xs, avgs)\n",
    "plt.show()"
   ]
  },
  {
   "cell_type": "code",
   "execution_count": null,
   "metadata": {
    "ExecuteTime": {
     "start_time": "2019-07-29T10:53:22.718Z"
    }
   },
   "outputs": [],
   "source": [
    "# pickle.dump((true_lens, true_clusts), open('time_stats', 'wb'))"
   ]
  },
  {
   "cell_type": "code",
   "execution_count": 2,
   "metadata": {
    "ExecuteTime": {
     "end_time": "2019-08-11T13:29:14.009751Z",
     "start_time": "2019-08-11T13:23:22.444989Z"
    }
   },
   "outputs": [
    {
     "data": {
      "application/vnd.jupyter.widget-view+json": {
       "model_id": "4757291eb0c84ced9fa657504aece62d",
       "version_major": 2,
       "version_minor": 0
      },
      "text/plain": [
       "HBox(children=(IntProgress(value=0, max=5), HTML(value='')))"
      ]
     },
     "metadata": {},
     "output_type": "display_data"
    },
    {
     "name": "stdout",
     "output_type": "stream",
     "text": [
      "3569 28096 3.8953301473701667 0.16850541932019192\n",
      "3519 26988 3.9232701031240946 0.17065796318918078\n",
      "3476 26779 3.9103600433807153 0.17675804982318338\n",
      "3527 27864 3.8691142199201973 0.16982622094326683\n",
      "3535 27322 3.896700390388299 0.17007183803145445\n",
      "\n"
     ]
    }
   ],
   "source": [
    "refs = [nx.read_graphml('time_graphs/' + str(i) + '/4990.graphml') for i in range(5)]\n",
    "\n",
    "for r in tqdm_notebook(refs):\n",
    "    print(r.number_of_nodes(), r.number_of_edges(), nx.average_shortest_path_length(r), nx.average_clustering(r))"
   ]
  },
  {
   "cell_type": "code",
   "execution_count": 2,
   "metadata": {
    "ExecuteTime": {
     "end_time": "2019-08-11T13:35:56.605801Z",
     "start_time": "2019-08-11T13:30:57.418869Z"
    }
   },
   "outputs": [
    {
     "data": {
      "application/vnd.jupyter.widget-view+json": {
       "model_id": "57052b70c95c4c2fbbf8e4332525194c",
       "version_major": 2,
       "version_minor": 0
      },
      "text/plain": [
       "HBox(children=(IntProgress(value=0, max=5), HTML(value='')))"
      ]
     },
     "metadata": {},
     "output_type": "display_data"
    },
    {
     "name": "stdout",
     "output_type": "stream",
     "text": [
      "3500 30705 3.128971052953905 0.0051866812952603295\n",
      "3500 30296 3.1443759441473076 0.005045378901493841\n",
      "3500 30567 3.1340092271261177 0.004800154501976329\n",
      "3500 30429 3.1381994855673048 0.004758341976596405\n",
      "3500 30727 3.128139305107582 0.005153512874352859\n",
      "\n"
     ]
    }
   ],
   "source": [
    "for _ in tqdm_notebook(range(5)):\n",
    "    r = nx.erdos_renyi_graph(3500, 0.005)\n",
    "    print(r.number_of_nodes(), r.number_of_edges(), nx.average_shortest_path_length(r), nx.average_clustering(r))"
   ]
  },
  {
   "cell_type": "code",
   "execution_count": 7,
   "metadata": {
    "ExecuteTime": {
     "end_time": "2019-08-11T13:43:10.963035Z",
     "start_time": "2019-08-11T13:38:34.200222Z"
    }
   },
   "outputs": [
    {
     "data": {
      "application/vnd.jupyter.widget-view+json": {
       "model_id": "221ec373af8a425db22180e914fae45c",
       "version_major": 2,
       "version_minor": 0
      },
      "text/plain": [
       "HBox(children=(IntProgress(value=0, max=5), HTML(value='')))"
      ]
     },
     "metadata": {},
     "output_type": "display_data"
    },
    {
     "name": "stdout",
     "output_type": "stream",
     "text": [
      "3500 28000 3.9474966725186786 0.43312638042207074\n",
      "3500 28000 3.9232255746539826 0.42471130264153273\n",
      "3500 28000 3.945772588086392 0.43199011260988424\n",
      "3500 28000 3.9443122524803007 0.43185117055532785\n",
      "3500 28000 3.955349528436696 0.4351737782513323\n",
      "\n"
     ]
    }
   ],
   "source": [
    "for _ in tqdm_notebook(range(5)):\n",
    "    r = nx.connected_watts_strogatz_graph(3500, 17, 0.15)\n",
    "    print(r.number_of_nodes(), r.number_of_edges(), nx.average_shortest_path_length(r), nx.average_clustering(r))"
   ]
  },
  {
   "cell_type": "code",
   "execution_count": 20,
   "metadata": {
    "ExecuteTime": {
     "end_time": "2019-08-11T14:04:51.184506Z",
     "start_time": "2019-08-11T13:59:25.294022Z"
    }
   },
   "outputs": [
    {
     "data": {
      "application/vnd.jupyter.widget-view+json": {
       "model_id": "04e2e804406e47ff9ed07d2f00915bb1",
       "version_major": 2,
       "version_minor": 0
      },
      "text/plain": [
       "HBox(children=(IntProgress(value=0, max=5), HTML(value='')))"
      ]
     },
     "metadata": {},
     "output_type": "display_data"
    },
    {
     "name": "stdout",
     "output_type": "stream",
     "text": [
      "5.0\n",
      "5.0\n",
      "5.0\n",
      "5.0\n",
      "5.0\n",
      "\n"
     ]
    }
   ],
   "source": [
    "for r in tqdm_notebook(refs):\n",
    "    print(smooth_diam(r))"
   ]
  },
  {
   "cell_type": "code",
   "execution_count": 3,
   "metadata": {
    "ExecuteTime": {
     "end_time": "2019-08-11T14:29:19.727976Z",
     "start_time": "2019-08-11T14:11:00.634205Z"
    }
   },
   "outputs": [
    {
     "data": {
      "application/vnd.jupyter.widget-view+json": {
       "model_id": "9253b29f6d8e4896ba63e4043d4cd243",
       "version_major": 2,
       "version_minor": 0
      },
      "text/plain": [
       "HBox(children=(IntProgress(value=0, max=500), HTML(value='')))"
      ]
     },
     "metadata": {},
     "output_type": "display_data"
    },
    {
     "name": "stdout",
     "output_type": "stream",
     "text": [
      "\n"
     ]
    },
    {
     "name": "stderr",
     "output_type": "stream",
     "text": [
      "100%|██████████████████████████████████████████████████████████████████████████████████| 80/80 [08:52<00:00, 11.10s/it]\n",
      "100%|██████████████████████████████████████████████████████████████████████████████████| 80/80 [09:03<00:00, 11.25s/it]\n"
     ]
    }
   ],
   "source": [
    "j = 4\n",
    "\n",
    "refs = []\n",
    "watts = []\n",
    "\n",
    "counter = 0\n",
    "for f in tqdm_notebook(natsorted(os.listdir('time_graphs/' + str(j) + '/'))):\n",
    "    counter += 1\n",
    "    if counter%5 == 0 and counter > 100:\n",
    "        refs.append(nx.read_graphml('time_graphs/' + str(j) + '/' + f))\n",
    "        watts.append(nx.connected_watts_strogatz_graph(refs[-1].number_of_nodes(), 17, 0.15))\n",
    "\n",
    "\n",
    "diams1 = p_map(smooth_diam, refs, num_cpus=9)\n",
    "diams2 = p_map(smooth_diam, watts, num_cpus=9)\n"
   ]
  },
  {
   "cell_type": "code",
   "execution_count": 4,
   "metadata": {
    "ExecuteTime": {
     "end_time": "2019-08-11T14:29:19.838429Z",
     "start_time": "2019-08-11T14:29:19.729970Z"
    }
   },
   "outputs": [
    {
     "data": {
      "image/png": "[encoded data removed]",
      "text/plain": [
       "<Figure size 432x288 with 1 Axes>"
      ]
     },
     "metadata": {
      "needs_background": "light"
     },
     "output_type": "display_data"
    }
   ],
   "source": [
    "plt.plot([r.number_of_nodes() for r in refs], diams1)\n",
    "plt.plot([r.number_of_nodes() for r in refs], diams2)\n",
    "\n",
    "plt.show()"
   ]
  },
  {
   "cell_type": "code",
   "execution_count": 25,
   "metadata": {
    "ExecuteTime": {
     "end_time": "2019-08-12T08:58:00.007361Z",
     "start_time": "2019-08-12T08:56:56.797505Z"
    }
   },
   "outputs": [
    {
     "data": {
      "application/vnd.jupyter.widget-view+json": {
       "model_id": "883555510c144657a54bd2fe7a4c79b8",
       "version_major": 2,
       "version_minor": 0
      },
      "text/plain": [
       "HBox(children=(IntProgress(value=0, max=1), HTML(value='')))"
      ]
     },
     "metadata": {},
     "output_type": "display_data"
    },
    {
     "data": {
      "application/vnd.jupyter.widget-view+json": {
       "model_id": "9410ba32ae24481eb43aef61f605af5c",
       "version_major": 2,
       "version_minor": 0
      },
      "text/plain": [
       "HBox(children=(IntProgress(value=0, max=500), HTML(value='')))"
      ]
     },
     "metadata": {},
     "output_type": "display_data"
    },
    {
     "name": "stdout",
     "output_type": "stream",
     "text": [
      "\n"
     ]
    }
   ],
   "source": [
    "nodes = []\n",
    "edges = []\n",
    "\n",
    "for j in tqdm_notebook(range(1)):\n",
    "    t_nodes = []\n",
    "    t_edges = []\n",
    "\n",
    "    for f in tqdm_notebook(natsorted(os.listdir('time_graphs/' + str(j) + '/'))):\n",
    "        r = nx.read_graphml('time_graphs/' + str(j) + '/' + f)\n",
    "        t_nodes.append(r.number_of_nodes())\n",
    "        t_edges.append(r.number_of_edges())\n",
    "        \n",
    "    nodes.append(t_nodes)\n",
    "    edges.append(t_edges)\n"
   ]
  },
  {
   "cell_type": "code",
   "execution_count": 29,
   "metadata": {
    "ExecuteTime": {
     "end_time": "2019-08-12T09:04:49.223580Z",
     "start_time": "2019-08-12T08:59:02.339235Z"
    }
   },
   "outputs": [
    {
     "data": {
      "application/vnd.jupyter.widget-view+json": {
       "model_id": "30a27977926746578651989328edd66f",
       "version_major": 2,
       "version_minor": 0
      },
      "text/plain": [
       "HBox(children=(IntProgress(value=0, max=2501), HTML(value='')))"
      ]
     },
     "metadata": {},
     "output_type": "display_data"
    },
    {
     "name": "stdout",
     "output_type": "stream",
     "text": [
      "\n"
     ]
    }
   ],
   "source": [
    "nodes = []\n",
    "edges = []\n",
    "\n",
    "for idx, f in tqdm_notebook(enumerate(natsorted(os.listdir('old_synthetic/')))):\n",
    "    if i%10 == 0:\n",
    "        r = nx.read_graphml('old_synthetic/' + f)\n",
    "        nodes.append(r.number_of_nodes())\n",
    "        edges.append(r.number_of_edges())\n",
    "\n",
    "nodes = [nodes]\n",
    "edges = [edges]"
   ]
  },
  {
   "cell_type": "code",
   "execution_count": 30,
   "metadata": {
    "ExecuteTime": {
     "end_time": "2019-08-12T09:04:49.447165Z",
     "start_time": "2019-08-12T09:04:49.224541Z"
    }
   },
   "outputs": [
    {
     "data": {
      "image/png": "[encoded data removed]",
      "text/plain": [
       "<Figure size 432x288 with 1 Axes>"
      ]
     },
     "metadata": {
      "needs_background": "light"
     },
     "output_type": "display_data"
    },
    {
     "data": {
      "image/png": "[encoded data removed]",
      "text/plain": [
       "<Figure size 432x288 with 1 Axes>"
      ]
     },
     "metadata": {
      "needs_background": "light"
     },
     "output_type": "display_data"
    }
   ],
   "source": [
    "xs = list(range(len(nodes[0])))\n",
    "\n",
    "for l in nodes:\n",
    "    plt.plot(xs, l)\n",
    "    \n",
    "for l in edges:\n",
    "    plt.plot(xs, l)\n",
    "    \n",
    "plt.show()\n",
    "\n",
    "avgs = np.array(nodes)\n",
    "avgs = np.mean(avgs, axis=0)\n",
    "\n",
    "plt.plot(xs, avgs)\n",
    "plt.show()"
   ]
  },
  {
   "cell_type": "code",
   "execution_count": 31,
   "metadata": {
    "ExecuteTime": {
     "end_time": "2019-08-12T09:04:49.971184Z",
     "start_time": "2019-08-12T09:04:49.448196Z"
    }
   },
   "outputs": [
    {
     "data": {
      "image/png": "[encoded data removed]",
      "text/plain": [
       "<Figure size 432x288 with 1 Axes>"
      ]
     },
     "metadata": {
      "needs_background": "light"
     },
     "output_type": "display_data"
    },
    {
     "data": {
      "image/png": "[encoded data removed]",
      "text/plain": [
       "<Figure size 432x288 with 1 Axes>"
      ]
     },
     "metadata": {
      "needs_background": "light"
     },
     "output_type": "display_data"
    }
   ],
   "source": [
    "plt.xscale('log')\n",
    "plt.yscale('log')\n",
    "\n",
    "for l in edges:\n",
    "    plt.plot(xs, l)\n",
    "    \n",
    "plt.show()\n",
    "\n",
    "avgs = np.array(edges)\n",
    "avgs = np.mean(avgs, axis=0)\n",
    "plt.plot(xs, avgs)\n",
    "plt.show()"
   ]
  },
  {
   "cell_type": "code",
   "execution_count": 32,
   "metadata": {
    "ExecuteTime": {
     "end_time": "2019-08-12T09:04:50.120785Z",
     "start_time": "2019-08-12T09:04:49.972181Z"
    }
   },
   "outputs": [
    {
     "name": "stdout",
     "output_type": "stream",
     "text": [
      "[1.25600442]\n"
     ]
    },
    {
     "data": {
      "image/png": "[encoded data removed]",
      "text/plain": [
       "<Figure size 432x288 with 1 Axes>"
      ]
     },
     "metadata": {
      "needs_background": "light"
     },
     "output_type": "display_data"
    },
    {
     "name": "stdout",
     "output_type": "stream",
     "text": [
      "0.9998335679626057\n"
     ]
    }
   ],
   "source": [
    "def deg_curve(lb, gamma):\n",
    "    return lb**gamma\n",
    "\n",
    "x = nodes[0]\n",
    "y = edges[0]\n",
    "\n",
    "popt = curve_fit(deg_curve, x, y)[0]\n",
    "print(popt)\n",
    "dk = popt[0]\n",
    "\n",
    "# plt.xscale('log')\n",
    "# plt.yscale('log')\n",
    "plt.xlabel('|V|')\n",
    "plt.ylabel('|E|')\n",
    "plt.plot(x, y, 'x')\n",
    "xx = np.linspace(x[0], x[-1], 100)\n",
    "yy = [deg_curve(x, popt) for x in xx]\n",
    "plt.plot(xx, yy, lw=5)\n",
    "plt.savefig('densification.png')\n",
    "plt.show()\n",
    "\n",
    "residuals = y- deg_curve(x, popt)\n",
    "ss_res = np.sum(residuals**2)\n",
    "\n",
    "ss_tot = np.sum((y-np.mean(y))**2)\n",
    "\n",
    "r_squared = 1 - (ss_res / ss_tot)\n",
    "\n",
    "print(r_squared)"
   ]
  },
  {
   "cell_type": "code",
   "execution_count": 3,
   "metadata": {
    "ExecuteTime": {
     "end_time": "2019-08-12T17:07:31.762773Z",
     "start_time": "2019-08-12T17:07:17.097659Z"
    }
   },
   "outputs": [
    {
     "name": "stdout",
     "output_type": "stream",
     "text": [
      "0.7371400391162128 3569 3569 28096\n",
      "0.7357387815968315 3519 3519 26988\n",
      "0.7481452493046369 3476 3476 26779\n",
      "0.736975030281201 3527 3527 27864\n",
      "0.7417795849149742 3535 3535 27322\n"
     ]
    }
   ],
   "source": [
    "for i in range(5):\n",
    "    r = nx.read_graphml('time_graphs/' + str(i) + '/4990.graphml')\n",
    "    coms = cm.best_partition(r)\n",
    "    print(cm.modularity(coms, r), len(coms), r.number_of_nodes(), r.number_of_edges())"
   ]
  },
  {
   "cell_type": "code",
   "execution_count": 10,
   "metadata": {
    "ExecuteTime": {
     "end_time": "2019-08-12T17:18:20.410944Z",
     "start_time": "2019-08-12T17:15:50.998217Z"
    }
   },
   "outputs": [
    {
     "name": "stdout",
     "output_type": "stream",
     "text": [
      "0.07369661570963444 3500 3500 244854\n",
      "0.07125136982399863 3500 3500 245360\n",
      "0.07072112707085107 3500 3500 245303\n",
      "0.07170384378761033 3500 3500 244456\n",
      "0.06996622083236542 3500 3500 244330\n"
     ]
    }
   ],
   "source": [
    "for i in range(5):\n",
    "    r = nx.erdos_renyi_graph(3500, 0.04)\n",
    "    coms = cm.best_partition(r)\n",
    "    print(cm.modularity(coms, r), len(coms), r.number_of_nodes(), r.number_of_edges())"
   ]
  },
  {
   "cell_type": "code",
   "execution_count": 9,
   "metadata": {
    "ExecuteTime": {
     "end_time": "2019-08-12T17:15:50.997219Z",
     "start_time": "2019-08-12T17:15:40.507412Z"
    }
   },
   "outputs": [
    {
     "name": "stdout",
     "output_type": "stream",
     "text": [
      "0.7910096530612246 3500 3500 28000\n",
      "0.7914522991071429 3500 3500 28000\n",
      "0.7910078609693877 3500 3500 28000\n",
      "0.7917965446428571 3500 3500 28000\n",
      "0.7926692480867347 3500 3500 28000\n"
     ]
    }
   ],
   "source": [
    "for i in range(5):\n",
    "    r = nx.connected_watts_strogatz_graph(3500, 17, 0.15)\n",
    "    coms = cm.best_partition(r)\n",
    "    print(cm.modularity(coms, r), len(coms), r.number_of_nodes(), r.number_of_edges())"
   ]
  },
  {
   "cell_type": "code",
   "execution_count": 12,
   "metadata": {
    "ExecuteTime": {
     "end_time": "2019-08-12T17:18:55.291148Z",
     "start_time": "2019-08-12T17:18:54.470069Z"
    }
   },
   "outputs": [
    {
     "name": "stdout",
     "output_type": "stream",
     "text": [
      "0.5734601725241405 1133 1133 5452\n"
     ]
    }
   ],
   "source": [
    "r = nx.read_edgelist('real_graphs/email.txt', data=False)\n",
    "coms = cm.best_partition(r)\n",
    "print(cm.modularity(coms, r), len(coms), r.number_of_nodes(), r.number_of_edges())"
   ]
  },
  {
   "cell_type": "code",
   "execution_count": 14,
   "metadata": {
    "ExecuteTime": {
     "end_time": "2019-08-12T17:19:34.625375Z",
     "start_time": "2019-08-12T17:19:33.655179Z"
    }
   },
   "outputs": [
    {
     "name": "stdout",
     "output_type": "stream",
     "text": [
      "0.6529854561465889 3015 3015 5539\n"
     ]
    }
   ],
   "source": [
    "r = nx.read_graphml('0.graphml')\n",
    "coms = cm.best_partition(r)\n",
    "print(cm.modularity(coms, r), len(coms), r.number_of_nodes(), r.number_of_edges())"
   ]
  },
  {
   "cell_type": "code",
   "execution_count": null,
   "metadata": {},
   "outputs": [],
   "source": []
  }
 ],
 "metadata": {
  "kernelspec": {
   "display_name": "Python 3",
   "language": "python",
   "name": "python3"
  },
  "language_info": {
   "codemirror_mode": {
    "name": "ipython",
    "version": 3
   },
   "file_extension": ".py",
   "mimetype": "text/x-python",
   "name": "python",
   "nbconvert_exporter": "python",
   "pygments_lexer": "ipython3",
   "version": "3.7.0"
  }
 },
 "nbformat": 4,
 "nbformat_minor": 2
}

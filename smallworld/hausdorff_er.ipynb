{
 "cells": [
  {
   "cell_type": "code",
   "execution_count": 1,
   "metadata": {
    "ExecuteTime": {
     "end_time": "2019-08-12T14:42:10.167731Z",
     "start_time": "2019-08-12T14:42:08.536803Z"
    }
   },
   "outputs": [],
   "source": [
    "from math import *\n",
    "from networkx import *\n",
    "import random\n",
    "from copy import deepcopy\n",
    "import os, sys\n",
    "import time\n",
    "from sympy.solvers import solve\n",
    "from sympy import Symbol\n",
    "from scipy.optimize import curve_fit\n",
    "import pickle\n",
    "import matplotlib.pyplot as plt\n",
    "from tqdm import tqdm_notebook\n",
    "from p_tqdm import p_map\n",
    "from natsort import natsorted\n",
    "import numpy as np\n",
    "from multiprocessing import Pool\n",
    "import collections\n",
    "import powerlaw\n",
    "import community as cm"
   ]
  },
  {
   "cell_type": "code",
   "execution_count": 2,
   "metadata": {
    "ExecuteTime": {
     "end_time": "2019-08-12T14:42:10.218756Z",
     "start_time": "2019-08-12T14:42:10.202834Z"
    }
   },
   "outputs": [],
   "source": [
    "def MEMB(G,rb,cycle=0):\n",
    "\t\"\"\"\n",
    "\tIt returns a dictionary with {box_id:subgraph_generated_by_the_nodes_in_this_box}\n",
    "\tThe box_id is the center of the box.\n",
    "\tcycle: Ignore this parameter. Use the default cycle=0.\n",
    "\t\"\"\"\n",
    "\tadj = G.adj\n",
    "\tnumber_of_nodes = G.number_of_nodes()\n",
    "\tcovered_nodes = set()\n",
    "\tcenter_nodes = set()\n",
    "\tnon_center_nodes = G.nodes()\n",
    "\tcenter_node_found = 0\n",
    "\tboxes={} #this will be \"box_id:[nodes in box]\"\n",
    "\tcentral_distance_of_node = {} #\"node:central_distance\"\n",
    "\tnode_box_id = {} #\"node:box_id\"\n",
    "\tnodes_sorted_by_central_distance={} #Dict with {central_distance:[nodes]}\n",
    "\texcluded_mass_of_non_centers_rb = {} #This contains [(node:excluded_mass)] for rb\n",
    "\texcluded_mass_of_non_centers_rb2 = {} #This contains [(node:excluded_mass)] for rb+1\n",
    "\trb2 = rb + 1\n",
    "\tfor node in non_center_nodes:\n",
    "\t\t#if node in [5000,10000,20000,30000]: print \"node\", node\n",
    "\t\tlevel=0                  # the current level\n",
    "\t\tnextlevel={node:1}       # list of nodes to check at next level\n",
    "\t\tpaths_rb=None\n",
    "\t\tpaths_rb2={node:[node]} # paths dictionary  (paths to key from source)\n",
    "\t\twhile nextlevel:\n",
    "\t\t\tpaths_rb = deepcopy(paths_rb2)\n",
    "\t\t\tthislevel=nextlevel\n",
    "\t\t\tnextlevel={}\n",
    "\t\t\tfor v in thislevel:\n",
    "\t\t\t\tfor w in G.neighbors(v):\n",
    "\t\t\t\t\tif not w in paths_rb2:\n",
    "\t\t\t\t\t\tpaths_rb2[w]=paths_rb2[v]+[w]\n",
    "\t\t\t\t\t\tnextlevel[w]=1\n",
    "\t\t\tlevel=level+1\n",
    "\t\t\tif (rb2 <= level):  break\n",
    "\t\texcluded_mass_of_node = len(paths_rb2)\n",
    "\t\ttry:\n",
    "\t\t\texcluded_mass_of_non_centers_rb2[excluded_mass_of_node].append(node)\n",
    "\t\texcept KeyError:\n",
    "\t\t\texcluded_mass_of_non_centers_rb2[excluded_mass_of_node] = [node]\n",
    "\t\texcluded_mass_of_node = len(paths_rb)\n",
    "\t\ttry:\n",
    "\t\t\texcluded_mass_of_non_centers_rb[excluded_mass_of_node].append(node)\n",
    "\t\texcept KeyError:\n",
    "\t\t\texcluded_mass_of_non_centers_rb[excluded_mass_of_node] = [node]\n",
    "\tmaximum_excluded_mass = 0\n",
    "\tnodes_with_maximum_excluded_mass=[]\n",
    "\tnew_covered_nodes = {}\n",
    "\tcenter_node_and_mass = []\n",
    "\tcycle_index = 0\n",
    "\twhile len(covered_nodes) < number_of_nodes:\n",
    "\t\t#print len(covered_nodes),number_of_nodes\n",
    "\t\tcycle_index += 1\n",
    "\t\tif cycle_index == cycle:\n",
    "\t\t\trb2 = rb+1\n",
    "\t\t\tcycle_index = 0\n",
    "\t\telse:\n",
    "\t\t\trb2 = rb\n",
    "\t\twhile 1:\n",
    "\t\t\tif rb2 == rb+1:\n",
    "\t\t\t\t#t1=time.time()\n",
    "\t\t\t\twhile 1:\n",
    "\t\t\t\t\tmaximum_key = max(excluded_mass_of_non_centers_rb2.keys())\n",
    "\t\t\t\t\tnode = random.choice(excluded_mass_of_non_centers_rb2[maximum_key])\n",
    "\t\t\t\t\tif node in center_nodes:\n",
    "\t\t\t\t\t\texcluded_mass_of_non_centers_rb2[maximum_key].remove(node)\n",
    "\t\t\t\t\t\tif not excluded_mass_of_non_centers_rb2[maximum_key]: del excluded_mass_of_non_centers_rb2[maximum_key]\n",
    "\t\t\t\t\telse:\n",
    "\t\t\t\t\t\tbreak\n",
    "\t\t\t\tnodes_visited = {}\n",
    "\t\t\t\tbfs = single_source_shortest_path(G,node,cutoff=rb2)\n",
    "\t\t\t\tfor i in bfs:\n",
    "\t\t\t\t\tnodes_visited[i] = len(bfs[i])-1\n",
    "\t\t\t\texcluded_mass_of_node = len(set(nodes_visited.keys()).difference(covered_nodes))\n",
    "\t\t\t\tif excluded_mass_of_node == maximum_key:\n",
    "\t\t\t\t\tcenter_node_and_mass = (node,maximum_key)\n",
    "\t\t\t\t\texcluded_mass_of_non_centers_rb2[maximum_key].remove(node)\n",
    "\t\t\t\t\tif not excluded_mass_of_non_centers_rb2[maximum_key]: del excluded_mass_of_non_centers_rb2[maximum_key]\n",
    "\t\t\t\t\tnew_covered_nodes = nodes_visited\n",
    "\t\t\t\t\tbreak\n",
    "\t\t\t\telse:\n",
    "\t\t\t\t\texcluded_mass_of_non_centers_rb2[maximum_key].remove(node)\n",
    "\t\t\t\t\tif not excluded_mass_of_non_centers_rb2[maximum_key]: del excluded_mass_of_non_centers_rb2[maximum_key]\n",
    "\t\t\t\t\ttry:\n",
    "\t\t\t\t\t\texcluded_mass_of_non_centers_rb2[excluded_mass_of_node].append(node)\n",
    "\t\t\t\t\texcept KeyError:\n",
    "\t\t\t\t\t\texcluded_mass_of_non_centers_rb2[excluded_mass_of_node] = [node]\n",
    "\t\t\t\t#print \"time\", time.time()-t1\n",
    "\t\t\telse:\n",
    "\t\t\t\t#t1=time.time()\n",
    "\t\t\t\twhile 1:\n",
    "\t\t\t\t\tmaximum_key = max(excluded_mass_of_non_centers_rb.keys())\n",
    "\t\t\t\t\tnode = random.choice(excluded_mass_of_non_centers_rb[maximum_key])\n",
    "\t\t\t\t\tif node in center_nodes:\n",
    "\t\t\t\t\t\texcluded_mass_of_non_centers_rb[maximum_key].remove(node)\n",
    "\t\t\t\t\t\tif not excluded_mass_of_non_centers_rb[maximum_key]: del excluded_mass_of_non_centers_rb[maximum_key]\n",
    "\t\t\t\t\telse:\n",
    "\t\t\t\t\t\tbreak\n",
    "\t\t\t\tnodes_visited = {}\n",
    "\t\t\t\tbfs = single_source_shortest_path(G,node,cutoff=rb)\n",
    "\t\t\t\tfor i in bfs:\n",
    "\t\t\t\t\tnodes_visited[i] = len(bfs[i])-1\n",
    "\t\t\t\texcluded_mass_of_node = len(set(nodes_visited.keys()).difference(covered_nodes))\n",
    "\t\t\t\tif excluded_mass_of_node == maximum_key:\n",
    "\t\t\t\t\tcenter_node_and_mass = (node,maximum_key)\n",
    "\t\t\t\t\texcluded_mass_of_non_centers_rb[maximum_key].remove(node)\n",
    "\t\t\t\t\tif not excluded_mass_of_non_centers_rb[maximum_key]: del excluded_mass_of_non_centers_rb[maximum_key]\n",
    "\t\t\t\t\tnew_covered_nodes = nodes_visited\n",
    "\t\t\t\t\tbreak\n",
    "\t\t\t\telse:\n",
    "\t\t\t\t\texcluded_mass_of_non_centers_rb[maximum_key].remove(node)\n",
    "\t\t\t\t\tif not excluded_mass_of_non_centers_rb[maximum_key]: del excluded_mass_of_non_centers_rb[maximum_key]\n",
    "\t\t\t\t\ttry:\n",
    "\t\t\t\t\t\texcluded_mass_of_non_centers_rb[excluded_mass_of_node].append(node)\n",
    "\t\t\t\t\texcept KeyError:\n",
    "\t\t\t\t\t\texcluded_mass_of_non_centers_rb[excluded_mass_of_node] = [node]\n",
    "\t\t\t\t#print \"time\", time.time()-t1\n",
    "\n",
    "\t\tcenter_node_found = center_node_and_mass[0]\n",
    "\t\tboxes[center_node_found] = [center_node_found]\n",
    "\t\tnode_box_id[center_node_found] = center_node_found\n",
    "\t\tnon_center_nodes = list(non_center_nodes)\n",
    "\t\tnon_center_nodes.remove(center_node_found)\n",
    "\t\tcenter_nodes.add(center_node_found)\n",
    "\n",
    "\t\tcovered_nodes = covered_nodes.union(set(new_covered_nodes.keys()))\n",
    "\t\t#print len(covered_nodes)\n",
    "\t\tfor i in new_covered_nodes:\n",
    "\n",
    "\t\t\ttry:\n",
    "\t\t\t\tif central_distance_of_node[i] > new_covered_nodes[i]:\n",
    "\t\t\t\t\tnodes_sorted_by_central_distance[central_distance_of_node[i]].remove(i)\n",
    "\t\t\t\t\tif not nodes_sorted_by_central_distance[central_distance_of_node[i]]:\n",
    "\t\t\t\t\t\tdel nodes_sorted_by_central_distance[central_distance_of_node[i]]\n",
    "\t\t\t\t\ttry:\n",
    "\t\t\t\t\t\tnodes_sorted_by_central_distance[new_covered_nodes[i]].append(i)\n",
    "\t\t\t\t\texcept KeyError:\n",
    "\t\t\t\t\t\tnodes_sorted_by_central_distance[new_covered_nodes[i]] = [i]\n",
    "\t\t\t\t\tcentral_distance_of_node[i] = new_covered_nodes[i]\n",
    "\t\t\texcept KeyError:\n",
    "\t\t\t\tcentral_distance_of_node[i] = new_covered_nodes[i]\n",
    "\t\t\t\ttry:\n",
    "\t\t\t\t\tnodes_sorted_by_central_distance[new_covered_nodes[i]].append(i)\n",
    "\t\t\t\texcept:\n",
    "\t\t\t\t\tnodes_sorted_by_central_distance[new_covered_nodes[i]] = [i]\n",
    "\n",
    "\tmax_distance = max(nodes_sorted_by_central_distance.keys())\n",
    "\tfor i in range(1,max_distance+1):\n",
    "\t\tfor j in nodes_sorted_by_central_distance[i]:\n",
    "\t\t\ttargets = list(set(list(adj[j])).intersection(set(nodes_sorted_by_central_distance[i-1])))\n",
    "\t\t\tnode_box_id[j] = node_box_id[random.choice(targets)]\n",
    "\t\t\tboxes[node_box_id[j]].append(j)\n",
    "\tboxes_subgraphs={}\n",
    "\tfor i in boxes:\n",
    "\t\tboxes_subgraphs[i] = subgraph(G,boxes[i])\n",
    "\n",
    "\treturn boxes_subgraphs"
   ]
  },
  {
   "cell_type": "code",
   "execution_count": 22,
   "metadata": {
    "ExecuteTime": {
     "end_time": "2019-08-12T14:44:32.962914Z",
     "start_time": "2019-08-12T14:44:32.925963Z"
    }
   },
   "outputs": [
    {
     "name": "stdout",
     "output_type": "stream",
     "text": [
      "1\n",
      "1500 8964\n"
     ]
    }
   ],
   "source": [
    "# g = nx.read_gml('power.gml', label='id')\n",
    "# g = nx.read_graphml('time_graphs/0/2000.graphml')\n",
    "# g = nx.read_graphml('0.graphml')\n",
    "# g = nx.read_edgelist('real_graphs/facebook_combined.txt')\n",
    "# g = fractal_model(3,5,2,0)\n",
    "# g = nx.erdos_renyi_graph(1000, 0.05)\n",
    "g = nx.barabasi_albert_graph(1500, 6)\n",
    "print(len(list(nx.connected_components(g))))\n",
    "print(g.number_of_nodes(), g.number_of_edges())"
   ]
  },
  {
   "cell_type": "code",
   "execution_count": 23,
   "metadata": {
    "ExecuteTime": {
     "end_time": "2019-08-12T14:44:42.526276Z",
     "start_time": "2019-08-12T14:44:34.223532Z"
    }
   },
   "outputs": [
    {
     "name": "stdout",
     "output_type": "stream",
     "text": [
      "5\n"
     ]
    }
   ],
   "source": [
    "print(nx.diameter(g))"
   ]
  },
  {
   "cell_type": "code",
   "execution_count": 26,
   "metadata": {
    "ExecuteTime": {
     "end_time": "2019-08-12T14:45:23.671186Z",
     "start_time": "2019-08-12T14:45:23.668193Z"
    }
   },
   "outputs": [],
   "source": [
    "max_l = 4"
   ]
  },
  {
   "cell_type": "code",
   "execution_count": 27,
   "metadata": {
    "ExecuteTime": {
     "end_time": "2019-08-12T14:45:37.414413Z",
     "start_time": "2019-08-12T14:45:24.051168Z"
    }
   },
   "outputs": [
    {
     "data": {
      "application/vnd.jupyter.widget-view+json": {
       "model_id": "8520957aba8d4b4a825629ead9e6928b",
       "version_major": 2,
       "version_minor": 0
      },
      "text/plain": [
       "HBox(children=(IntProgress(value=0, max=4), HTML(value='')))"
      ]
     },
     "metadata": {},
     "output_type": "display_data"
    },
    {
     "name": "stdout",
     "output_type": "stream",
     "text": [
      "0 1500 1.0\n",
      "1 122 12.295081967213115\n",
      "2 7 214.28571428571428\n",
      "3 1 1500.0\n",
      "\n"
     ]
    }
   ],
   "source": [
    "avgs = []\n",
    "subgraphs = []\n",
    "\n",
    "for l in tqdm_notebook(range(max_l)):\n",
    "    boxes_subgraphs = MEMB(g,l)\n",
    "    print(l, len(boxes_subgraphs), sum([g.number_of_nodes() for g in boxes_subgraphs.values()]) / len(boxes_subgraphs))\n",
    "    avgs.append(len(boxes_subgraphs))\n",
    "    subgraphs.append(boxes_subgraphs)"
   ]
  },
  {
   "cell_type": "code",
   "execution_count": 36,
   "metadata": {
    "ExecuteTime": {
     "end_time": "2019-08-12T16:19:10.426176Z",
     "start_time": "2019-08-12T16:19:10.054963Z"
    }
   },
   "outputs": [
    {
     "name": "stdout",
     "output_type": "stream",
     "text": [
      "[1.00000000e+00 8.13333333e-02 4.66666667e-03 6.66666667e-04]\n",
      "[3.71329446]\n"
     ]
    },
    {
     "data": {
      "text/plain": [
       "[<matplotlib.lines.Line2D at 0x2a0bb86aa90>]"
      ]
     },
     "execution_count": 36,
     "metadata": {},
     "output_type": "execute_result"
    },
    {
     "data": {
      "image/png": "[encoded data removed]",
      "text/plain": [
       "<Figure size 432x288 with 1 Axes>"
      ]
     },
     "metadata": {
      "needs_background": "light"
     },
     "output_type": "display_data"
    }
   ],
   "source": [
    "# fig = plt.figure()\n",
    "# ax = plt.gca()\n",
    "# ax.set_yscale('log')\n",
    "# ax.scatter([1, 2, 3, 4, 5], [x / ref.number_of_nodes() for x in avgs])\n",
    "# # ax.set_yscale('log')\n",
    "\n",
    "def hausdorff(lb, db):\n",
    "    return lb**-db\n",
    "\n",
    "x = np.arange(1, max_l + 1)\n",
    "# y = np.array(avgs)\n",
    "y = np.array([x / g.number_of_nodes() for x in avgs])\n",
    "# y = np.array([ref.number_of_nodes() / x for x in avgs])\n",
    "print(y)\n",
    "\n",
    "popt = curve_fit(hausdorff, x, y)[0]\n",
    "print(popt)\n",
    "db = popt[0]\n",
    "\n",
    "plt.xlabel('$l_B$')\n",
    "plt.ylabel('$N_B$')\n",
    "plt.xscale('log')\n",
    "plt.yscale('log')\n",
    "xx = np.linspace(1, max_l + 1, 100)\n",
    "yy = [hausdorff(x, popt) for x in xx]\n",
    "plt.plot(x, y, 'x')\n",
    "plt.plot(xx, yy, lw=5)"
   ]
  },
  {
   "cell_type": "code",
   "execution_count": 29,
   "metadata": {
    "ExecuteTime": {
     "end_time": "2019-08-12T14:45:38.055698Z",
     "start_time": "2019-08-12T14:45:37.760487Z"
    }
   },
   "outputs": [
    {
     "name": "stdout",
     "output_type": "stream",
     "text": [
      "72\n",
      "[ 2.71531476 32.39976503]\n"
     ]
    },
    {
     "data": {
      "image/png": "[encoded data removed]",
      "text/plain": [
       "<Figure size 432x288 with 1 Axes>"
      ]
     },
     "metadata": {
      "needs_background": "light"
     },
     "output_type": "display_data"
    }
   ],
   "source": [
    "degree_sequence = [d for (n, d) in g.degree()]\n",
    "degreeCount = collections.Counter(degree_sequence)\n",
    "deg, cnt = zip(*degreeCount.items())\n",
    "tot = sum(cnt)\n",
    "per = [c / tot for c in cnt]\n",
    "\n",
    "ts = sorted([(deg[i], per[i]) for i in range(len(per))])\n",
    "deg = [t[0] for t in ts]\n",
    "per = [t[1] for t in ts]\n",
    "\n",
    "def deg_curve(lb, gamma, a):\n",
    "    return a * lb**-gamma\n",
    "\n",
    "x = deg[6:]\n",
    "x = deg\n",
    "y = per[6:]\n",
    "y = per\n",
    "\n",
    "print(len(x))\n",
    "\n",
    "popt = curve_fit(deg_curve, x, y)[0]\n",
    "print(popt)\n",
    "gamma = popt[0]\n",
    "\n",
    "plt.xscale('log')\n",
    "plt.yscale('log')\n",
    "plt.plot(deg, per, 'x')\n",
    "xx = np.linspace(min(deg), max(deg), 100)\n",
    "yy = [deg_curve(x, *popt) for x in xx]\n",
    "plt.plot(xx, yy, lw=5)\n",
    "plt.plot(x, y, '.', c='black')\n",
    "plt.show()\n"
   ]
  },
  {
   "cell_type": "code",
   "execution_count": 30,
   "metadata": {
    "ExecuteTime": {
     "end_time": "2019-08-12T14:45:38.060683Z",
     "start_time": "2019-08-12T14:45:38.056713Z"
    }
   },
   "outputs": [],
   "source": [
    "def deg_plot(G):\n",
    "\n",
    "    degree_sequence = [d for (n, d) in G.degree()]\n",
    "    degreeCount = collections.Counter(degree_sequence)\n",
    "    deg, cnt = zip(*degreeCount.items())\n",
    "\n",
    "    tot = sum(cnt)\n",
    "    per = [c / tot for c in cnt]\n",
    "\n",
    "    plt.xscale('log')\n",
    "    plt.yscale('log')\n",
    "    plt.scatter(deg, per)\n",
    "    plt.show()"
   ]
  },
  {
   "cell_type": "code",
   "execution_count": 31,
   "metadata": {
    "ExecuteTime": {
     "end_time": "2019-08-12T14:45:38.329963Z",
     "start_time": "2019-08-12T14:45:38.061681Z"
    }
   },
   "outputs": [
    {
     "data": {
      "application/vnd.jupyter.widget-view+json": {
       "model_id": "b546576aaa4f4f8d8fc1da1f59209aba",
       "version_major": 2,
       "version_minor": 0
      },
      "text/plain": [
       "HBox(children=(IntProgress(value=0, max=2), HTML(value='')))"
      ]
     },
     "metadata": {},
     "output_type": "display_data"
    },
    {
     "name": "stdout",
     "output_type": "stream",
     "text": [
      "length scale:  1 num nodes:  1500 num edges:  8964\n",
      "======== [1.54006169] ========\n"
     ]
    },
    {
     "data": {
      "image/png": "[encoded data removed]",
      "text/plain": [
       "<Figure size 432x288 with 1 Axes>"
      ]
     },
     "metadata": {
      "needs_background": "light"
     },
     "output_type": "display_data"
    },
    {
     "name": "stdout",
     "output_type": "stream",
     "text": [
      "length scale:  2 num nodes:  1500 num edges:  8964\n",
      "======== [0.00805295] ========\n"
     ]
    },
    {
     "data": {
      "image/png": "[encoded data removed]",
      "text/plain": [
       "<Figure size 432x288 with 1 Axes>"
      ]
     },
     "metadata": {
      "needs_background": "light"
     },
     "output_type": "display_data"
    },
    {
     "name": "stdout",
     "output_type": "stream",
     "text": [
      "\n"
     ]
    }
   ],
   "source": [
    "# ref = fractal_model(5,2,2,0)\n",
    "ref = g\n",
    "sbs = []\n",
    "\n",
    "def scaler(x, y):\n",
    "    return y * x\n",
    "\n",
    "for l in tqdm_notebook(np.arange(1, max_l - 1)):\n",
    "#     g = nx.read_graphml('time_graphs/0/4990.graphml')\n",
    "    ref = g\n",
    "    print(\"length scale: \", l, \"num nodes: \", ref.number_of_nodes(), \"num edges: \", ref.number_of_edges())\n",
    "    boxes_subgraphs = list(subgraphs[l].values())\n",
    "#     ks = [sorted(box.degree, key=lambda x: x[1], reverse=True)[0][1] for box in boxes_subgraphs]\n",
    "    ks = [box.number_of_edges() / 0.5 for box in boxes_subgraphs]\n",
    "    node_dict = {}\n",
    "    for idx, box in enumerate(boxes_subgraphs):\n",
    "        for node in box.nodes:\n",
    "            node_dict[node] = str(idx)\n",
    "    edges = []\n",
    "    for edge in ref.edges:\n",
    "        edges.append(tuple(sorted([node_dict[edge[0]], node_dict[edge[1]]])))\n",
    "\n",
    "    edges = list(set(edges))\n",
    "    ref = nx.Graph()\n",
    "    ref.add_edges_from(edges)\n",
    "    k_primes = ref.degree()\n",
    "    k_primes = [k[1] for k in k_primes]\n",
    "\n",
    "    vals = [(ks[i], k_primes[i]) for i in range(len(ks))]\n",
    "    vals = sorted(vals)\n",
    "    ks = [v[0] for v in vals]\n",
    "    k_primes = [v[1] for v in vals]\n",
    "    \n",
    "    popt = curve_fit(scaler, ks, k_primes)[0]\n",
    "    print(\"========\", popt, \"========\")\n",
    "    sbs.append(popt)\n",
    "\n",
    "    plt.plot(ks, k_primes, 'x')\n",
    "    xx = np.linspace(ks[0], ks[-1], 100)\n",
    "    yy = [scaler(x, popt) for x in xx]\n",
    "    plt.plot(xx, yy, lw=5)\n",
    "    \n",
    "    plt.show()"
   ]
  },
  {
   "cell_type": "code",
   "execution_count": 32,
   "metadata": {
    "ExecuteTime": {
     "end_time": "2019-08-12T14:45:38.600282Z",
     "start_time": "2019-08-12T14:45:38.330960Z"
    }
   },
   "outputs": [
    {
     "name": "stdout",
     "output_type": "stream",
     "text": [
      "[6.95626629]\n"
     ]
    },
    {
     "data": {
      "image/png": "[encoded data removed]",
      "text/plain": [
       "<Figure size 432x288 with 1 Axes>"
      ]
     },
     "metadata": {
      "needs_background": "light"
     },
     "output_type": "display_data"
    }
   ],
   "source": [
    "def deg_curve(lb, gamma):\n",
    "    return lb**-gamma\n",
    "\n",
    "x = np.arange(1, len(sbs) + 1)\n",
    "y = [s[0] for s in sbs]\n",
    "\n",
    "popt = curve_fit(deg_curve, x, y)[0]\n",
    "print(popt)\n",
    "dk = popt[0]\n",
    "\n",
    "plt.xscale('log')\n",
    "plt.yscale('log')\n",
    "plt.plot(x, y, 'x')\n",
    "xx = np.linspace(x[0], x[-1], 100)\n",
    "yy = [deg_curve(x, popt) for x in xx]\n",
    "plt.plot(xx, yy, lw=5)\n",
    "plt.show()"
   ]
  },
  {
   "cell_type": "code",
   "execution_count": 33,
   "metadata": {
    "ExecuteTime": {
     "end_time": "2019-08-12T14:45:38.605237Z",
     "start_time": "2019-08-12T14:45:38.601278Z"
    }
   },
   "outputs": [
    {
     "data": {
      "text/plain": [
       "1.5338056803535278"
      ]
     },
     "execution_count": 33,
     "metadata": {},
     "output_type": "execute_result"
    }
   ],
   "source": [
    "1 + db / dk"
   ]
  },
  {
   "cell_type": "code",
   "execution_count": 34,
   "metadata": {
    "ExecuteTime": {
     "end_time": "2019-08-12T14:45:38.622219Z",
     "start_time": "2019-08-12T14:45:38.606224Z"
    }
   },
   "outputs": [
    {
     "data": {
      "text/plain": [
       "2.715314761093118"
      ]
     },
     "execution_count": 34,
     "metadata": {},
     "output_type": "execute_result"
    }
   ],
   "source": [
    "gamma"
   ]
  },
  {
   "cell_type": "code",
   "execution_count": null,
   "metadata": {},
   "outputs": [],
   "source": []
  }
 ],
 "metadata": {
  "kernelspec": {
   "display_name": "Python 3",
   "language": "python",
   "name": "python3"
  },
  "language_info": {
   "codemirror_mode": {
    "name": "ipython",
    "version": 3
   },
   "file_extension": ".py",
   "mimetype": "text/x-python",
   "name": "python",
   "nbconvert_exporter": "python",
   "pygments_lexer": "ipython3",
   "version": "3.7.0"
  }
 },
 "nbformat": 4,
 "nbformat_minor": 2
}

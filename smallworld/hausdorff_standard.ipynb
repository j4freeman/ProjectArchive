{
 "cells": [
  {
   "cell_type": "code",
   "execution_count": 10,
   "metadata": {
    "ExecuteTime": {
     "end_time": "2019-08-11T16:14:17.973648Z",
     "start_time": "2019-08-11T16:14:17.969698Z"
    }
   },
   "outputs": [],
   "source": [
    "from math import *\n",
    "from networkx import *\n",
    "import random\n",
    "from copy import deepcopy\n",
    "import os, sys\n",
    "import time\n",
    "from sympy.solvers import solve\n",
    "from sympy import Symbol\n",
    "from scipy.optimize import curve_fit\n",
    "import pickle\n",
    "import matplotlib.pyplot as plt\n",
    "from tqdm import tqdm_notebook\n",
    "from p_tqdm import p_map\n",
    "from natsort import natsorted\n",
    "import numpy as np\n",
    "from multiprocessing import Pool\n",
    "import collections\n",
    "import powerlaw\n",
    "import community as cm"
   ]
  },
  {
   "cell_type": "code",
   "execution_count": 11,
   "metadata": {
    "ExecuteTime": {
     "end_time": "2019-08-11T16:14:18.167126Z",
     "start_time": "2019-08-11T16:14:18.160129Z"
    }
   },
   "outputs": [],
   "source": [
    "def fractal_model(generation,m,x,e):\n",
    "\t\"\"\"\n",
    "\tReturns the fractal model introduced by\n",
    "\tSong, Havlin, Makse in Nature Physics 2, 275.\n",
    "\tgeneration = number of generations\n",
    "\tm = number of offspring per node\n",
    "\tx = number of connections between offsprings\n",
    "\te = probability that hubs stay connected\n",
    "\t1-e = probability that x offsprings connect.\n",
    "\tIf e=1 we are in MODE 1 (pure small-world).\n",
    "\tIf e=0 we are in MODE 2 (pure fractal).\n",
    "\t\"\"\"\n",
    "\tG=Graph()\n",
    "\tG.add_edge(0,1) #This is the seed for the network (generation 0)\n",
    "\tnode_index = 2\n",
    "\tfor n in range(1,generation+1):\n",
    "\t\tall_links = list(G.edges())\n",
    "\t\twhile all_links:\n",
    "\t\t\tlink = all_links.pop()\n",
    "\t\t\tnew_nodes_a = range(node_index,node_index + m)\n",
    "\t\t\t#random.shuffle(new_nodes_a)\n",
    "\t\t\tnode_index += m\n",
    "\t\t\tnew_nodes_b = range(node_index,node_index + m)\n",
    "\t\t\t#random.shuffle(new_nodes_b)\n",
    "\t\t\tnode_index += m\n",
    "\t\t\tG.add_edges_from([(link[0],node) for node in new_nodes_a])\n",
    "\t\t\tG.add_edges_from([(link[1],node) for node in new_nodes_b])\n",
    "\t\t\trepulsive_links = list(zip(new_nodes_a,new_nodes_b))\n",
    "\t\t\tG.add_edges_from([repulsive_links.pop() for i in range(x-1)])\n",
    "\t\t\tif random.random() > e:\n",
    "\t\t\t\tG.remove_edge(link[0], link[1])\n",
    "\t\t\t\tnew_edge = repulsive_links.pop()\n",
    "\t\t\t\tG.add_edge(new_edge[0], new_edge[1])\n",
    "\treturn G"
   ]
  },
  {
   "cell_type": "code",
   "execution_count": 12,
   "metadata": {
    "ExecuteTime": {
     "end_time": "2019-08-11T16:14:18.367347Z",
     "start_time": "2019-08-11T16:14:18.349396Z"
    }
   },
   "outputs": [],
   "source": [
    "def MEMB(G,rb,cycle=0):\n",
    "\t\"\"\"\n",
    "\tIt returns a dictionary with {box_id:subgraph_generated_by_the_nodes_in_this_box}\n",
    "\tThe box_id is the center of the box.\n",
    "\tcycle: Ignore this parameter. Use the default cycle=0.\n",
    "\t\"\"\"\n",
    "\tadj = G.adj\n",
    "\tnumber_of_nodes = G.number_of_nodes()\n",
    "\tcovered_nodes = set()\n",
    "\tcenter_nodes = set()\n",
    "\tnon_center_nodes = G.nodes()\n",
    "\tcenter_node_found = 0\n",
    "\tboxes={} #this will be \"box_id:[nodes in box]\"\n",
    "\tcentral_distance_of_node = {} #\"node:central_distance\"\n",
    "\tnode_box_id = {} #\"node:box_id\"\n",
    "\tnodes_sorted_by_central_distance={} #Dict with {central_distance:[nodes]}\n",
    "\texcluded_mass_of_non_centers_rb = {} #This contains [(node:excluded_mass)] for rb\n",
    "\texcluded_mass_of_non_centers_rb2 = {} #This contains [(node:excluded_mass)] for rb+1\n",
    "\trb2 = rb + 1\n",
    "\tfor node in non_center_nodes:\n",
    "\t\t#if node in [5000,10000,20000,30000]: print \"node\", node\n",
    "\t\tlevel=0                  # the current level\n",
    "\t\tnextlevel={node:1}       # list of nodes to check at next level\n",
    "\t\tpaths_rb=None\n",
    "\t\tpaths_rb2={node:[node]} # paths dictionary  (paths to key from source)\n",
    "\t\twhile nextlevel:\n",
    "\t\t\tpaths_rb = deepcopy(paths_rb2)\n",
    "\t\t\tthislevel=nextlevel\n",
    "\t\t\tnextlevel={}\n",
    "\t\t\tfor v in thislevel:\n",
    "\t\t\t\tfor w in G.neighbors(v):\n",
    "\t\t\t\t\tif not w in paths_rb2:\n",
    "\t\t\t\t\t\tpaths_rb2[w]=paths_rb2[v]+[w]\n",
    "\t\t\t\t\t\tnextlevel[w]=1\n",
    "\t\t\tlevel=level+1\n",
    "\t\t\tif (rb2 <= level):  break\n",
    "\t\texcluded_mass_of_node = len(paths_rb2)\n",
    "\t\ttry:\n",
    "\t\t\texcluded_mass_of_non_centers_rb2[excluded_mass_of_node].append(node)\n",
    "\t\texcept KeyError:\n",
    "\t\t\texcluded_mass_of_non_centers_rb2[excluded_mass_of_node] = [node]\n",
    "\t\texcluded_mass_of_node = len(paths_rb)\n",
    "\t\ttry:\n",
    "\t\t\texcluded_mass_of_non_centers_rb[excluded_mass_of_node].append(node)\n",
    "\t\texcept KeyError:\n",
    "\t\t\texcluded_mass_of_non_centers_rb[excluded_mass_of_node] = [node]\n",
    "\tmaximum_excluded_mass = 0\n",
    "\tnodes_with_maximum_excluded_mass=[]\n",
    "\tnew_covered_nodes = {}\n",
    "\tcenter_node_and_mass = []\n",
    "\tcycle_index = 0\n",
    "\twhile len(covered_nodes) < number_of_nodes:\n",
    "\t\t#print len(covered_nodes),number_of_nodes\n",
    "\t\tcycle_index += 1\n",
    "\t\tif cycle_index == cycle:\n",
    "\t\t\trb2 = rb+1\n",
    "\t\t\tcycle_index = 0\n",
    "\t\telse:\n",
    "\t\t\trb2 = rb\n",
    "\t\twhile 1:\n",
    "\t\t\tif rb2 == rb+1:\n",
    "\t\t\t\t#t1=time.time()\n",
    "\t\t\t\twhile 1:\n",
    "\t\t\t\t\tmaximum_key = max(excluded_mass_of_non_centers_rb2.keys())\n",
    "\t\t\t\t\tnode = random.choice(excluded_mass_of_non_centers_rb2[maximum_key])\n",
    "\t\t\t\t\tif node in center_nodes:\n",
    "\t\t\t\t\t\texcluded_mass_of_non_centers_rb2[maximum_key].remove(node)\n",
    "\t\t\t\t\t\tif not excluded_mass_of_non_centers_rb2[maximum_key]: del excluded_mass_of_non_centers_rb2[maximum_key]\n",
    "\t\t\t\t\telse:\n",
    "\t\t\t\t\t\tbreak\n",
    "\t\t\t\tnodes_visited = {}\n",
    "\t\t\t\tbfs = single_source_shortest_path(G,node,cutoff=rb2)\n",
    "\t\t\t\tfor i in bfs:\n",
    "\t\t\t\t\tnodes_visited[i] = len(bfs[i])-1\n",
    "\t\t\t\texcluded_mass_of_node = len(set(nodes_visited.keys()).difference(covered_nodes))\n",
    "\t\t\t\tif excluded_mass_of_node == maximum_key:\n",
    "\t\t\t\t\tcenter_node_and_mass = (node,maximum_key)\n",
    "\t\t\t\t\texcluded_mass_of_non_centers_rb2[maximum_key].remove(node)\n",
    "\t\t\t\t\tif not excluded_mass_of_non_centers_rb2[maximum_key]: del excluded_mass_of_non_centers_rb2[maximum_key]\n",
    "\t\t\t\t\tnew_covered_nodes = nodes_visited\n",
    "\t\t\t\t\tbreak\n",
    "\t\t\t\telse:\n",
    "\t\t\t\t\texcluded_mass_of_non_centers_rb2[maximum_key].remove(node)\n",
    "\t\t\t\t\tif not excluded_mass_of_non_centers_rb2[maximum_key]: del excluded_mass_of_non_centers_rb2[maximum_key]\n",
    "\t\t\t\t\ttry:\n",
    "\t\t\t\t\t\texcluded_mass_of_non_centers_rb2[excluded_mass_of_node].append(node)\n",
    "\t\t\t\t\texcept KeyError:\n",
    "\t\t\t\t\t\texcluded_mass_of_non_centers_rb2[excluded_mass_of_node] = [node]\n",
    "\t\t\t\t#print \"time\", time.time()-t1\n",
    "\t\t\telse:\n",
    "\t\t\t\t#t1=time.time()\n",
    "\t\t\t\twhile 1:\n",
    "\t\t\t\t\tmaximum_key = max(excluded_mass_of_non_centers_rb.keys())\n",
    "\t\t\t\t\tnode = random.choice(excluded_mass_of_non_centers_rb[maximum_key])\n",
    "\t\t\t\t\tif node in center_nodes:\n",
    "\t\t\t\t\t\texcluded_mass_of_non_centers_rb[maximum_key].remove(node)\n",
    "\t\t\t\t\t\tif not excluded_mass_of_non_centers_rb[maximum_key]: del excluded_mass_of_non_centers_rb[maximum_key]\n",
    "\t\t\t\t\telse:\n",
    "\t\t\t\t\t\tbreak\n",
    "\t\t\t\tnodes_visited = {}\n",
    "\t\t\t\tbfs = single_source_shortest_path(G,node,cutoff=rb)\n",
    "\t\t\t\tfor i in bfs:\n",
    "\t\t\t\t\tnodes_visited[i] = len(bfs[i])-1\n",
    "\t\t\t\texcluded_mass_of_node = len(set(nodes_visited.keys()).difference(covered_nodes))\n",
    "\t\t\t\tif excluded_mass_of_node == maximum_key:\n",
    "\t\t\t\t\tcenter_node_and_mass = (node,maximum_key)\n",
    "\t\t\t\t\texcluded_mass_of_non_centers_rb[maximum_key].remove(node)\n",
    "\t\t\t\t\tif not excluded_mass_of_non_centers_rb[maximum_key]: del excluded_mass_of_non_centers_rb[maximum_key]\n",
    "\t\t\t\t\tnew_covered_nodes = nodes_visited\n",
    "\t\t\t\t\tbreak\n",
    "\t\t\t\telse:\n",
    "\t\t\t\t\texcluded_mass_of_non_centers_rb[maximum_key].remove(node)\n",
    "\t\t\t\t\tif not excluded_mass_of_non_centers_rb[maximum_key]: del excluded_mass_of_non_centers_rb[maximum_key]\n",
    "\t\t\t\t\ttry:\n",
    "\t\t\t\t\t\texcluded_mass_of_non_centers_rb[excluded_mass_of_node].append(node)\n",
    "\t\t\t\t\texcept KeyError:\n",
    "\t\t\t\t\t\texcluded_mass_of_non_centers_rb[excluded_mass_of_node] = [node]\n",
    "\t\t\t\t#print \"time\", time.time()-t1\n",
    "\n",
    "\t\tcenter_node_found = center_node_and_mass[0]\n",
    "\t\tboxes[center_node_found] = [center_node_found]\n",
    "\t\tnode_box_id[center_node_found] = center_node_found\n",
    "\t\tnon_center_nodes = list(non_center_nodes)\n",
    "\t\tnon_center_nodes.remove(center_node_found)\n",
    "\t\tcenter_nodes.add(center_node_found)\n",
    "\n",
    "\t\tcovered_nodes = covered_nodes.union(set(new_covered_nodes.keys()))\n",
    "\t\t#print len(covered_nodes)\n",
    "\t\tfor i in new_covered_nodes:\n",
    "\n",
    "\t\t\ttry:\n",
    "\t\t\t\tif central_distance_of_node[i] > new_covered_nodes[i]:\n",
    "\t\t\t\t\tnodes_sorted_by_central_distance[central_distance_of_node[i]].remove(i)\n",
    "\t\t\t\t\tif not nodes_sorted_by_central_distance[central_distance_of_node[i]]:\n",
    "\t\t\t\t\t\tdel nodes_sorted_by_central_distance[central_distance_of_node[i]]\n",
    "\t\t\t\t\ttry:\n",
    "\t\t\t\t\t\tnodes_sorted_by_central_distance[new_covered_nodes[i]].append(i)\n",
    "\t\t\t\t\texcept KeyError:\n",
    "\t\t\t\t\t\tnodes_sorted_by_central_distance[new_covered_nodes[i]] = [i]\n",
    "\t\t\t\t\tcentral_distance_of_node[i] = new_covered_nodes[i]\n",
    "\t\t\texcept KeyError:\n",
    "\t\t\t\tcentral_distance_of_node[i] = new_covered_nodes[i]\n",
    "\t\t\t\ttry:\n",
    "\t\t\t\t\tnodes_sorted_by_central_distance[new_covered_nodes[i]].append(i)\n",
    "\t\t\t\texcept:\n",
    "\t\t\t\t\tnodes_sorted_by_central_distance[new_covered_nodes[i]] = [i]\n",
    "\n",
    "\tmax_distance = max(nodes_sorted_by_central_distance.keys())\n",
    "\tfor i in range(1,max_distance+1):\n",
    "\t\tfor j in nodes_sorted_by_central_distance[i]:\n",
    "\t\t\ttargets = list(set(list(adj[j])).intersection(set(nodes_sorted_by_central_distance[i-1])))\n",
    "\t\t\tnode_box_id[j] = node_box_id[random.choice(targets)]\n",
    "\t\t\tboxes[node_box_id[j]].append(j)\n",
    "\tboxes_subgraphs={}\n",
    "\tfor i in boxes:\n",
    "\t\tboxes_subgraphs[i] = subgraph(G,boxes[i])\n",
    "\n",
    "\treturn boxes_subgraphs"
   ]
  },
  {
   "cell_type": "code",
   "execution_count": 69,
   "metadata": {
    "ExecuteTime": {
     "end_time": "2019-08-12T15:26:33.804265Z",
     "start_time": "2019-08-12T15:26:33.525961Z"
    }
   },
   "outputs": [
    {
     "name": "stdout",
     "output_type": "stream",
     "text": [
      "1\n",
      "18852 20736\n"
     ]
    }
   ],
   "source": [
    "# g = nx.read_gml('power.gml', label='id')\n",
    "# g = nx.read_graphml('time_graphs/0/2000.graphml')\n",
    "# g = nx.read_graphml('0.graphml')\n",
    "# g = nx.read_edgelist('real_graphs/facebook_combined.txt')\n",
    "g = fractal_model(4,5,2,0)\n",
    "print(len(list(nx.connected_components(g))))\n",
    "print(g.number_of_nodes(), g.number_of_edges())"
   ]
  },
  {
   "cell_type": "code",
   "execution_count": 40,
   "metadata": {
    "ExecuteTime": {
     "end_time": "2019-08-12T13:43:26.336764Z",
     "start_time": "2019-08-12T13:43:21.794823Z"
    }
   },
   "outputs": [
    {
     "name": "stdout",
     "output_type": "stream",
     "text": [
      "53\n"
     ]
    }
   ],
   "source": [
    "print(nx.diameter(g))"
   ]
  },
  {
   "cell_type": "code",
   "execution_count": 41,
   "metadata": {
    "ExecuteTime": {
     "end_time": "2019-08-12T13:43:36.395124Z",
     "start_time": "2019-08-12T13:43:36.392065Z"
    }
   },
   "outputs": [],
   "source": [
    "max_l = 16"
   ]
  },
  {
   "cell_type": "code",
   "execution_count": 42,
   "metadata": {
    "ExecuteTime": {
     "end_time": "2019-08-12T13:49:41.118470Z",
     "start_time": "2019-08-12T13:43:37.719112Z"
    }
   },
   "outputs": [
    {
     "data": {
      "application/vnd.jupyter.widget-view+json": {
       "model_id": "e7709277b21643398478b588c5cba2e5",
       "version_major": 2,
       "version_minor": 0
      },
      "text/plain": [
       "HBox(children=(IntProgress(value=0, max=20), HTML(value='')))"
      ]
     },
     "metadata": {},
     "output_type": "display_data"
    },
    {
     "name": "stdout",
     "output_type": "stream",
     "text": [
      "0 1572 1.0\n",
      "1 132 11.909090909090908\n",
      "2 132 11.909090909090908\n",
      "3 108 14.555555555555555\n",
      "4 12 131.0\n",
      "5 12 131.0\n",
      "6 14 112.28571428571429\n",
      "7 12 131.0\n",
      "8 12 131.0\n",
      "9 10 157.2\n",
      "10 10 157.2\n",
      "11 10 157.2\n",
      "12 9 174.66666666666666\n",
      "13 2 786.0\n",
      "14 2 786.0\n",
      "15 2 786.0\n",
      "16 2 786.0\n",
      "17 2 786.0\n",
      "18 3 524.0\n",
      "19 3 524.0\n",
      "\n"
     ]
    }
   ],
   "source": [
    "avgs = []\n",
    "subgraphs = []\n",
    "\n",
    "for l in tqdm_notebook(range(max_l)):\n",
    "    boxes_subgraphs = MEMB(g,l)\n",
    "    print(l, len(boxes_subgraphs), sum([g.number_of_nodes() for g in boxes_subgraphs.values()]) / len(boxes_subgraphs))\n",
    "    avgs.append(len(boxes_subgraphs))\n",
    "    subgraphs.append(boxes_subgraphs)"
   ]
  },
  {
   "cell_type": "code",
   "execution_count": 78,
   "metadata": {
    "ExecuteTime": {
     "end_time": "2019-08-12T16:18:51.505114Z",
     "start_time": "2019-08-12T16:18:46.879573Z"
    }
   },
   "outputs": [
    {
     "name": "stdout",
     "output_type": "stream",
     "text": [
      "[0.08338638 0.00700191 0.00700191 0.00572884 0.00063654 0.00063654\n",
      " 0.00074263 0.00063654 0.00063654 0.00053045 0.00053045 0.00053045\n",
      " 0.0004774  0.00010609 0.00010609 0.00010609 0.00010609 0.00010609\n",
      " 0.00015913 0.00015913]\n",
      "[3.04186833 0.08322498]\n"
     ]
    },
    {
     "data": {
      "image/png": "[encoded data removed]",
      "text/plain": [
       "<Figure size 432x288 with 1 Axes>"
      ]
     },
     "metadata": {
      "needs_background": "light"
     },
     "output_type": "display_data"
    }
   ],
   "source": [
    "# fig = plt.figure()\n",
    "# ax = plt.gca()\n",
    "# ax.set_yscale('log')\n",
    "# ax.scatter([1, 2, 3, 4, 5], [x / ref.number_of_nodes() for x in avgs])\n",
    "# # ax.set_yscale('log')\n",
    "\n",
    "def hausdorff(lb, db, a):\n",
    "    return a * lb**-db\n",
    "\n",
    "x = np.arange(1, max_l + 1)\n",
    "# y = np.array(avgs)\n",
    "y = np.array([x / g.number_of_nodes() for x in avgs])\n",
    "# y = np.array([ref.number_of_nodes() / x for x in avgs])\n",
    "print(y)\n",
    "\n",
    "popt = curve_fit(hausdorff, x, y)[0]\n",
    "print(popt)\n",
    "db = popt[0]\n",
    "\n",
    "\n",
    "plt.xscale('log')\n",
    "plt.yscale('log')\n",
    "\n",
    "plt.xlabel('$l_B$')\n",
    "plt.ylabel('$N_B$')\n",
    "\n",
    "plt.plot(x, y, 'x')\n",
    "xx = np.linspace(1, max_l + 1, 100)\n",
    "yy = [hausdorff(x, *popt) for x in xx]\n",
    "plt.plot(xx, yy, lw=5)\n",
    "plt.show()"
   ]
  },
  {
   "cell_type": "code",
   "execution_count": 52,
   "metadata": {
    "ExecuteTime": {
     "end_time": "2019-08-12T13:53:48.524105Z",
     "start_time": "2019-08-12T13:53:48.226037Z"
    }
   },
   "outputs": [
    {
     "name": "stdout",
     "output_type": "stream",
     "text": [
      "7\n",
      "[1.02133513 0.57485995]\n"
     ]
    },
    {
     "data": {
      "image/png": "[encoded data removed]",
      "text/plain": [
       "<Figure size 432x288 with 1 Axes>"
      ]
     },
     "metadata": {
      "needs_background": "light"
     },
     "output_type": "display_data"
    }
   ],
   "source": [
    "degree_sequence = [d for (n, d) in g.degree()]\n",
    "degreeCount = collections.Counter(degree_sequence)\n",
    "deg, cnt = zip(*degreeCount.items())\n",
    "tot = sum(cnt)\n",
    "per = [c / tot for c in cnt]\n",
    "\n",
    "ts = sorted([(deg[i], per[i]) for i in range(len(per))])\n",
    "deg = [t[0] for t in ts]\n",
    "per = [t[1] for t in ts]\n",
    "\n",
    "def deg_curve(lb, gamma, a):\n",
    "    return a * lb**-gamma\n",
    "\n",
    "x = deg[6:]\n",
    "x = deg\n",
    "y = per[6:]\n",
    "y = per\n",
    "\n",
    "print(len(x))\n",
    "\n",
    "popt = curve_fit(deg_curve, x, y)[0]\n",
    "print(popt)\n",
    "gamma = popt[0]\n",
    "\n",
    "plt.xscale('log')\n",
    "plt.yscale('log')\n",
    "plt.plot(deg, per, 'x')\n",
    "xx = np.linspace(min(deg), max(deg), 100)\n",
    "yy = [deg_curve(x, *popt) for x in xx]\n",
    "plt.plot(xx, yy, lw=5)\n",
    "plt.plot(x, y, '.', c='black')\n",
    "plt.show()\n"
   ]
  },
  {
   "cell_type": "code",
   "execution_count": 53,
   "metadata": {
    "ExecuteTime": {
     "end_time": "2019-08-12T13:53:49.018398Z",
     "start_time": "2019-08-12T13:53:49.014449Z"
    }
   },
   "outputs": [],
   "source": [
    "def deg_plot(G):\n",
    "\n",
    "    degree_sequence = [d for (n, d) in G.degree()]\n",
    "    degreeCount = collections.Counter(degree_sequence)\n",
    "    deg, cnt = zip(*degreeCount.items())\n",
    "\n",
    "    tot = sum(cnt)\n",
    "    per = [c / tot for c in cnt]\n",
    "\n",
    "    plt.xscale('log')\n",
    "    plt.yscale('log')\n",
    "    plt.scatter(deg, per)\n",
    "    plt.show()"
   ]
  },
  {
   "cell_type": "code",
   "execution_count": 71,
   "metadata": {
    "ExecuteTime": {
     "end_time": "2019-08-12T15:31:35.954166Z",
     "start_time": "2019-08-12T15:31:35.886345Z"
    }
   },
   "outputs": [
    {
     "data": {
      "application/vnd.jupyter.widget-view+json": {
       "model_id": "821fedd928df48f890a4bbdd12416946",
       "version_major": 2,
       "version_minor": 0
      },
      "text/plain": [
       "HBox(children=(IntProgress(value=0, max=18), HTML(value='')))"
      ]
     },
     "metadata": {},
     "output_type": "display_data"
    },
    {
     "name": "stdout",
     "output_type": "stream",
     "text": [
      "length scale:  1 num nodes:  18852 num edges:  20736\n",
      "\n"
     ]
    },
    {
     "ename": "KeyError",
     "evalue": "17602",
     "output_type": "error",
     "traceback": [
      "\u001b[1;31m---------------------------------------------------------------------------\u001b[0m",
      "\u001b[1;31mKeyError\u001b[0m                                  Traceback (most recent call last)",
      "\u001b[1;32m<ipython-input-71-97404e3c651e>\u001b[0m in \u001b[0;36m<module>\u001b[1;34m()\u001b[0m\n\u001b[0;32m     19\u001b[0m     \u001b[0medges\u001b[0m \u001b[1;33m=\u001b[0m \u001b[1;33m[\u001b[0m\u001b[1;33m]\u001b[0m\u001b[1;33m\u001b[0m\u001b[0m\n\u001b[0;32m     20\u001b[0m     \u001b[1;32mfor\u001b[0m \u001b[0medge\u001b[0m \u001b[1;32min\u001b[0m \u001b[0mref\u001b[0m\u001b[1;33m.\u001b[0m\u001b[0medges\u001b[0m\u001b[1;33m:\u001b[0m\u001b[1;33m\u001b[0m\u001b[0m\n\u001b[1;32m---> 21\u001b[1;33m         \u001b[0medges\u001b[0m\u001b[1;33m.\u001b[0m\u001b[0mappend\u001b[0m\u001b[1;33m(\u001b[0m\u001b[0mtuple\u001b[0m\u001b[1;33m(\u001b[0m\u001b[0msorted\u001b[0m\u001b[1;33m(\u001b[0m\u001b[1;33m[\u001b[0m\u001b[0mnode_dict\u001b[0m\u001b[1;33m[\u001b[0m\u001b[0medge\u001b[0m\u001b[1;33m[\u001b[0m\u001b[1;36m0\u001b[0m\u001b[1;33m]\u001b[0m\u001b[1;33m]\u001b[0m\u001b[1;33m,\u001b[0m \u001b[0mnode_dict\u001b[0m\u001b[1;33m[\u001b[0m\u001b[0medge\u001b[0m\u001b[1;33m[\u001b[0m\u001b[1;36m1\u001b[0m\u001b[1;33m]\u001b[0m\u001b[1;33m]\u001b[0m\u001b[1;33m]\u001b[0m\u001b[1;33m)\u001b[0m\u001b[1;33m)\u001b[0m\u001b[1;33m)\u001b[0m\u001b[1;33m\u001b[0m\u001b[0m\n\u001b[0m\u001b[0;32m     22\u001b[0m \u001b[1;33m\u001b[0m\u001b[0m\n\u001b[0;32m     23\u001b[0m     \u001b[0medges\u001b[0m \u001b[1;33m=\u001b[0m \u001b[0mlist\u001b[0m\u001b[1;33m(\u001b[0m\u001b[0mset\u001b[0m\u001b[1;33m(\u001b[0m\u001b[0medges\u001b[0m\u001b[1;33m)\u001b[0m\u001b[1;33m)\u001b[0m\u001b[1;33m\u001b[0m\u001b[0m\n",
      "\u001b[1;31mKeyError\u001b[0m: 17602"
     ]
    }
   ],
   "source": [
    "# ref = fractal_model(5,2,2,0)\n",
    "ref = g\n",
    "sbs = []\n",
    "\n",
    "def scaler(x, y):\n",
    "    return y * x\n",
    "\n",
    "for l in tqdm_notebook(np.arange(1, max_l - 1)):\n",
    "#     g = nx.read_graphml('time_graphs/0/4990.graphml')\n",
    "    ref = g\n",
    "    print(\"length scale: \", l, \"num nodes: \", ref.number_of_nodes(), \"num edges: \", ref.number_of_edges())\n",
    "    boxes_subgraphs = list(subgraphs[l].values())\n",
    "#     ks = [sorted(box.degree, key=lambda x: x[1], reverse=True)[0][1] for box in boxes_subgraphs]\n",
    "    ks = [box.number_of_edges() / 0.5 for box in boxes_subgraphs]\n",
    "    node_dict = {}\n",
    "    for idx, box in enumerate(boxes_subgraphs):\n",
    "        for node in box.nodes:\n",
    "            node_dict[node] = str(idx)\n",
    "    edges = []\n",
    "    for edge in ref.edges:\n",
    "        edges.append(tuple(sorted([node_dict[edge[0]], node_dict[edge[1]]])))\n",
    "\n",
    "    edges = list(set(edges))\n",
    "    ref = nx.Graph()\n",
    "    ref.add_edges_from(edges)\n",
    "    k_primes = ref.degree()\n",
    "    k_primes = [k[1] for k in k_primes]\n",
    "\n",
    "    vals = [(ks[i], k_primes[i]) for i in range(len(ks))]\n",
    "    vals = sorted(vals)\n",
    "    ks = [v[0] for v in vals]\n",
    "    k_primes = [v[1] for v in vals]\n",
    "    \n",
    "    popt = curve_fit(scaler, ks, k_primes)[0]\n",
    "    print(\"========\", popt, \"========\")\n",
    "    sbs.append(popt)\n",
    "\n",
    "    plt.plot(ks, k_primes, 'x')\n",
    "    xx = np.linspace(ks[0], ks[-1], 100)\n",
    "    yy = [scaler(x, popt) for x in xx]\n",
    "    plt.plot(xx, yy, lw=5)\n",
    "    \n",
    "    plt.show()"
   ]
  },
  {
   "cell_type": "code",
   "execution_count": 70,
   "metadata": {
    "ExecuteTime": {
     "end_time": "2019-08-12T15:26:57.210998Z",
     "start_time": "2019-08-12T15:26:44.528130Z"
    }
   },
   "outputs": [
    {
     "name": "stdout",
     "output_type": "stream",
     "text": [
      "length scale:  2 num nodes:  18852 num edges:  20736\n",
      "714 127\n",
      "length scale:  2 num nodes:  1572 num edges:  3300\n",
      "295 27\n",
      "length scale:  2 num nodes:  132 num edges:  276\n",
      "59 7\n",
      "length scale:  2 num nodes:  12 num edges:  24\n",
      "13 3\n",
      "length scale:  2 num nodes:  2 num edges:  3\n",
      "3 2\n",
      "======== [0.00552225] ========\n"
     ]
    },
    {
     "data": {
      "image/png": "[encoded data removed]",
      "text/plain": [
       "<Figure size 432x288 with 1 Axes>"
      ]
     },
     "metadata": {
      "needs_background": "light"
     },
     "output_type": "display_data"
    }
   ],
   "source": [
    "# ref = fractal_model(5,2,2,0)\n",
    "ref = g\n",
    "ks = []\n",
    "kprimes = []\n",
    "\n",
    "def scaler(x, y):\n",
    "    return y * x\n",
    "\n",
    "l = 2\n",
    "for _ in range(5):\n",
    "#     g = nx.read_graphml('time_graphs/0/4990.graphml')\n",
    "\n",
    "    print(\"length scale: \", l, \"num nodes: \", ref.number_of_nodes(), \"num edges: \", ref.number_of_edges())\n",
    "    boxes_subgraphs = list(subgraphs[l].values())\n",
    "    boxes_subgraphs = MEMB(ref,l).values()\n",
    "#     ks = [sorted(box.degree, key=lambda x: x[1], reverse=True)[0][1] for box in boxes_subgraphs]\n",
    "    k = max([box.number_of_edges() for box in boxes_subgraphs])\n",
    "    ks.append(k)\n",
    "    node_dict = {}\n",
    "    for idx, box in enumerate(boxes_subgraphs):\n",
    "        for node in box.nodes:\n",
    "            node_dict[node] = str(idx)\n",
    "    edges = []\n",
    "    for edge in ref.edges:\n",
    "        edges.append(tuple(sorted([node_dict[edge[0]], node_dict[edge[1]]])))\n",
    "\n",
    "    edges = list(set(edges))\n",
    "    ref = nx.Graph()\n",
    "    ref.add_edges_from(edges)\n",
    "    k_prime = ref.degree()\n",
    "    k_prime = [k[1] for k in k_prime]\n",
    "    k_prime = max(k_prime)\n",
    "    k_primes.append(k_prime)\n",
    "    print(k, k_prime)\n",
    "\n",
    "vals = [(ks[i], k_primes[i]) for i in range(len(ks))]\n",
    "vals = sorted(vals)\n",
    "ks = [v[0] for v in vals]\n",
    "k_primes = [v[1] for v in vals]\n",
    "\n",
    "popt = curve_fit(scaler, ks, k_primes)[0]\n",
    "print(\"========\", popt, \"========\")\n",
    "sbs.append(popt)\n",
    "\n",
    "plt.plot(ks, k_primes, 'x')\n",
    "xx = np.linspace(ks[0], ks[-1], 100)\n",
    "yy = [scaler(x, popt) for x in xx]\n",
    "plt.plot(xx, yy, lw=5)\n",
    "\n",
    "plt.show()"
   ]
  },
  {
   "cell_type": "code",
   "execution_count": 55,
   "metadata": {
    "ExecuteTime": {
     "end_time": "2019-08-12T13:53:52.113641Z",
     "start_time": "2019-08-12T13:53:51.752879Z"
    }
   },
   "outputs": [
    {
     "name": "stdout",
     "output_type": "stream",
     "text": [
      "[3.46485396]\n"
     ]
    },
    {
     "data": {
      "image/png": "[encoded data removed]",
      "text/plain": [
       "<Figure size 432x288 with 1 Axes>"
      ]
     },
     "metadata": {
      "needs_background": "light"
     },
     "output_type": "display_data"
    }
   ],
   "source": [
    "def deg_curve(lb, gamma):\n",
    "    return lb**-gamma\n",
    "\n",
    "x = np.arange(1, len(sbs) + 1)\n",
    "y = [s[0] for s in sbs]\n",
    "\n",
    "popt = curve_fit(deg_curve, x, y)[0]\n",
    "print(popt)\n",
    "dk = popt[0]\n",
    "\n",
    "plt.xscale('log')\n",
    "plt.yscale('log')\n",
    "plt.plot(x, y, 'x')\n",
    "xx = np.linspace(x[0], x[-1], 100)\n",
    "yy = [deg_curve(x, popt) for x in xx]\n",
    "plt.plot(xx, yy, lw=5)\n",
    "plt.show()"
   ]
  },
  {
   "cell_type": "code",
   "execution_count": 56,
   "metadata": {
    "ExecuteTime": {
     "end_time": "2019-08-12T13:53:52.119576Z",
     "start_time": "2019-08-12T13:53:52.114590Z"
    }
   },
   "outputs": [
    {
     "data": {
      "text/plain": [
       "1.8788136895572412"
      ]
     },
     "execution_count": 56,
     "metadata": {},
     "output_type": "execute_result"
    }
   ],
   "source": [
    "1 + db / dk"
   ]
  },
  {
   "cell_type": "code",
   "execution_count": 57,
   "metadata": {
    "ExecuteTime": {
     "end_time": "2019-08-12T13:53:52.631067Z",
     "start_time": "2019-08-12T13:53:52.627078Z"
    }
   },
   "outputs": [
    {
     "data": {
      "text/plain": [
       "1.0213351270518727"
      ]
     },
     "execution_count": 57,
     "metadata": {},
     "output_type": "execute_result"
    }
   ],
   "source": [
    "gamma"
   ]
  },
  {
   "cell_type": "code",
   "execution_count": 32,
   "metadata": {
    "ExecuteTime": {
     "end_time": "2019-08-11T16:19:43.215519Z",
     "start_time": "2019-08-11T16:19:42.794542Z"
    }
   },
   "outputs": [
    {
     "name": "stdout",
     "output_type": "stream",
     "text": [
      "(array([ 2.58096879, 37.48177743]), array([[1.78691089e-02, 1.99120086e+00],\n",
      "       [1.99120086e+00, 2.23051891e+02]]))\n"
     ]
    },
    {
     "data": {
      "image/png": "[encoded data removed]",
      "text/plain": [
       "<Figure size 432x288 with 1 Axes>"
      ]
     },
     "metadata": {
      "needs_background": "light"
     },
     "output_type": "display_data"
    },
    {
     "name": "stdout",
     "output_type": "stream",
     "text": [
      "0.9465556387090662\n"
     ]
    }
   ],
   "source": [
    "# def scale(lb, a, b):\n",
    "#     return  b * lb**-a\n",
    "\n",
    "# G = nx.read_graphml('time_graphs/0/2000.graphml')\n",
    "# g = G\n",
    "\n",
    "# degree_sequence = [d for (n, d) in G.degree()]\n",
    "# degreeCount = collections.Counter(degree_sequence)\n",
    "# deg, cnt = zip(*degreeCount.items())\n",
    "\n",
    "# tot = sum(cnt)\n",
    "# per = [c / tot for c in cnt]\n",
    "\n",
    "# vals = sorted([(deg[i], per[i]) for i in range(len(deg))])\n",
    "# x = np.array([v[0] for v in vals])[15:]\n",
    "# y = np.array([v[1] for v in vals])[15:]\n",
    "\n",
    "# popt = curve_fit(scale, x, y)\n",
    "# print(popt)\n",
    "# popt = popt[0]\n",
    "\n",
    "# plt.xscale('log')\n",
    "# plt.yscale('log')\n",
    "# plt.plot(deg, per, 'x')\n",
    "# xx = np.linspace(10, max(x), 100)\n",
    "# yy = [scale(x, *popt) for x in xx]\n",
    "# plt.plot(xx, yy, lw=5)\n",
    "# plt.show()\n",
    "\n",
    "# y_fit = scale(x, *popt)\n",
    "\n",
    "# ss_res = np.sum((y - y_fit) ** 2)\n",
    "\n",
    "# # total sum of squares\n",
    "# ss_tot = np.sum((y - np.mean(y)) ** 2)\n",
    "\n",
    "# # r-squared\n",
    "# r2 = 1 - (ss_res / ss_tot)\n",
    "\n",
    "# print(r2)"
   ]
  },
  {
   "cell_type": "code",
   "execution_count": 38,
   "metadata": {
    "ExecuteTime": {
     "end_time": "2019-08-11T16:22:37.499564Z",
     "start_time": "2019-08-11T16:22:36.057139Z"
    }
   },
   "outputs": [
    {
     "data": {
      "application/vnd.jupyter.widget-view+json": {
       "model_id": "dbb0c983744246d7911d21d979bfefd7",
       "version_major": 2,
       "version_minor": 0
      },
      "text/plain": [
       "HBox(children=(IntProgress(value=0, max=5), HTML(value='')))"
      ]
     },
     "metadata": {},
     "output_type": "display_data"
    },
    {
     "name": "stdout",
     "output_type": "stream",
     "text": [
      "old:  1441 9125\n",
      "length scale:  1 num nodes:  1441 num edges:  9125\n",
      "new:  195 2039\n",
      "(array([0.54594408, 0.10439503]), array([[0.018084  , 0.00555277],\n",
      "       [0.00555277, 0.00176615]]))\n"
     ]
    },
    {
     "data": {
      "image/png": "[encoded data removed]",
      "text/plain": [
       "<Figure size 432x288 with 1 Axes>"
      ]
     },
     "metadata": {
      "needs_background": "light"
     },
     "output_type": "display_data"
    },
    {
     "name": "stdout",
     "output_type": "stream",
     "text": [
      "0.2788312683613554\n",
      "old:  1441 9125\n",
      "length scale:  2 num nodes:  1441 num edges:  9125\n",
      "new:  50 484\n",
      "(array([-0.13493342,  0.02717387]), array([[0.08770249, 0.00734684],\n",
      "       [0.00734684, 0.0006255 ]]))\n"
     ]
    },
    {
     "data": {
      "image/png": "[encoded data removed]",
      "text/plain": [
       "<Figure size 432x288 with 1 Axes>"
      ]
     },
     "metadata": {
      "needs_background": "light"
     },
     "output_type": "display_data"
    },
    {
     "name": "stdout",
     "output_type": "stream",
     "text": [
      "0.013580435037106708\n",
      "old:  1441 9125\n",
      "length scale:  3 num nodes:  1441 num edges:  9125\n",
      "new:  19 124\n",
      "(array([-1.24570892,  0.00444418]), array([[1.42254029e+00, 1.71972565e-02],\n",
      "       [1.71972565e-02, 2.08766460e-04]]))\n"
     ]
    },
    {
     "data": {
      "image/png": "[encoded data removed]",
      "text/plain": [
       "<Figure size 432x288 with 1 Axes>"
      ]
     },
     "metadata": {
      "needs_background": "light"
     },
     "output_type": "display_data"
    },
    {
     "name": "stdout",
     "output_type": "stream",
     "text": [
      "0.24379409421207843\n",
      "old:  1441 9125\n",
      "length scale:  4 num nodes:  1441 num edges:  9125\n",
      "new:  8 21\n",
      "(array([0.7910205, 0.9408603]), array([[0.32172502, 0.44329376],\n",
      "       [0.44329376, 0.65971754]]))\n"
     ]
    },
    {
     "data": {
      "image/png": "[encoded data removed]",
      "text/plain": [
       "<Figure size 432x288 with 1 Axes>"
      ]
     },
     "metadata": {
      "needs_background": "light"
     },
     "output_type": "display_data"
    },
    {
     "name": "stdout",
     "output_type": "stream",
     "text": [
      "0.5024804053019355\n",
      "old:  1441 9125\n",
      "length scale:  5 num nodes:  1441 num edges:  9125\n",
      "new:  4 10\n",
      "\n"
     ]
    },
    {
     "ename": "TypeError",
     "evalue": "Improper input: N=2 must not exceed M=1",
     "output_type": "error",
     "traceback": [
      "\u001b[1;31m---------------------------------------------------------------------------\u001b[0m",
      "\u001b[1;31mTypeError\u001b[0m                                 Traceback (most recent call last)",
      "\u001b[1;32m<ipython-input-38-97e2fee3f03b>\u001b[0m in \u001b[0;36m<module>\u001b[1;34m()\u001b[0m\n\u001b[0;32m     31\u001b[0m     \u001b[0my\u001b[0m \u001b[1;33m=\u001b[0m \u001b[0mnp\u001b[0m\u001b[1;33m.\u001b[0m\u001b[0marray\u001b[0m\u001b[1;33m(\u001b[0m\u001b[1;33m[\u001b[0m\u001b[0mv\u001b[0m\u001b[1;33m[\u001b[0m\u001b[1;36m1\u001b[0m\u001b[1;33m]\u001b[0m \u001b[1;32mfor\u001b[0m \u001b[0mv\u001b[0m \u001b[1;32min\u001b[0m \u001b[0mvals\u001b[0m\u001b[1;33m]\u001b[0m\u001b[1;33m)\u001b[0m\u001b[1;33m[\u001b[0m\u001b[0mint\u001b[0m\u001b[1;33m(\u001b[0m\u001b[0mlen\u001b[0m\u001b[1;33m(\u001b[0m\u001b[0mvals\u001b[0m\u001b[1;33m)\u001b[0m \u001b[1;33m*\u001b[0m \u001b[1;36m.15\u001b[0m\u001b[1;33m)\u001b[0m\u001b[1;33m:\u001b[0m\u001b[1;33m]\u001b[0m\u001b[1;33m\u001b[0m\u001b[0m\n\u001b[0;32m     32\u001b[0m \u001b[1;33m\u001b[0m\u001b[0m\n\u001b[1;32m---> 33\u001b[1;33m     \u001b[0mpopt\u001b[0m \u001b[1;33m=\u001b[0m \u001b[0mcurve_fit\u001b[0m\u001b[1;33m(\u001b[0m\u001b[0mscale\u001b[0m\u001b[1;33m,\u001b[0m \u001b[0mx\u001b[0m\u001b[1;33m,\u001b[0m \u001b[0my\u001b[0m\u001b[1;33m)\u001b[0m\u001b[1;33m\u001b[0m\u001b[0m\n\u001b[0m\u001b[0;32m     34\u001b[0m     \u001b[0mprint\u001b[0m\u001b[1;33m(\u001b[0m\u001b[0mpopt\u001b[0m\u001b[1;33m)\u001b[0m\u001b[1;33m\u001b[0m\u001b[0m\n\u001b[0;32m     35\u001b[0m     \u001b[0mpopt\u001b[0m \u001b[1;33m=\u001b[0m \u001b[0mpopt\u001b[0m\u001b[1;33m[\u001b[0m\u001b[1;36m0\u001b[0m\u001b[1;33m]\u001b[0m\u001b[1;33m\u001b[0m\u001b[0m\n",
      "\u001b[1;32m~\\Anaconda3\\lib\\site-packages\\scipy\\optimize\\minpack.py\u001b[0m in \u001b[0;36mcurve_fit\u001b[1;34m(f, xdata, ydata, p0, sigma, absolute_sigma, check_finite, bounds, method, jac, **kwargs)\u001b[0m\n\u001b[0;32m    749\u001b[0m         \u001b[1;31m# Remove full_output from kwargs, otherwise we're passing it in twice.\u001b[0m\u001b[1;33m\u001b[0m\u001b[1;33m\u001b[0m\u001b[0m\n\u001b[0;32m    750\u001b[0m         \u001b[0mreturn_full\u001b[0m \u001b[1;33m=\u001b[0m \u001b[0mkwargs\u001b[0m\u001b[1;33m.\u001b[0m\u001b[0mpop\u001b[0m\u001b[1;33m(\u001b[0m\u001b[1;34m'full_output'\u001b[0m\u001b[1;33m,\u001b[0m \u001b[1;32mFalse\u001b[0m\u001b[1;33m)\u001b[0m\u001b[1;33m\u001b[0m\u001b[0m\n\u001b[1;32m--> 751\u001b[1;33m         \u001b[0mres\u001b[0m \u001b[1;33m=\u001b[0m \u001b[0mleastsq\u001b[0m\u001b[1;33m(\u001b[0m\u001b[0mfunc\u001b[0m\u001b[1;33m,\u001b[0m \u001b[0mp0\u001b[0m\u001b[1;33m,\u001b[0m \u001b[0mDfun\u001b[0m\u001b[1;33m=\u001b[0m\u001b[0mjac\u001b[0m\u001b[1;33m,\u001b[0m \u001b[0mfull_output\u001b[0m\u001b[1;33m=\u001b[0m\u001b[1;36m1\u001b[0m\u001b[1;33m,\u001b[0m \u001b[1;33m**\u001b[0m\u001b[0mkwargs\u001b[0m\u001b[1;33m)\u001b[0m\u001b[1;33m\u001b[0m\u001b[0m\n\u001b[0m\u001b[0;32m    752\u001b[0m         \u001b[0mpopt\u001b[0m\u001b[1;33m,\u001b[0m \u001b[0mpcov\u001b[0m\u001b[1;33m,\u001b[0m \u001b[0minfodict\u001b[0m\u001b[1;33m,\u001b[0m \u001b[0merrmsg\u001b[0m\u001b[1;33m,\u001b[0m \u001b[0mier\u001b[0m \u001b[1;33m=\u001b[0m \u001b[0mres\u001b[0m\u001b[1;33m\u001b[0m\u001b[0m\n\u001b[0;32m    753\u001b[0m         \u001b[0mcost\u001b[0m \u001b[1;33m=\u001b[0m \u001b[0mnp\u001b[0m\u001b[1;33m.\u001b[0m\u001b[0msum\u001b[0m\u001b[1;33m(\u001b[0m\u001b[0minfodict\u001b[0m\u001b[1;33m[\u001b[0m\u001b[1;34m'fvec'\u001b[0m\u001b[1;33m]\u001b[0m \u001b[1;33m**\u001b[0m \u001b[1;36m2\u001b[0m\u001b[1;33m)\u001b[0m\u001b[1;33m\u001b[0m\u001b[0m\n",
      "\u001b[1;32m~\\Anaconda3\\lib\\site-packages\\scipy\\optimize\\minpack.py\u001b[0m in \u001b[0;36mleastsq\u001b[1;34m(func, x0, args, Dfun, full_output, col_deriv, ftol, xtol, gtol, maxfev, epsfcn, factor, diag)\u001b[0m\n\u001b[0;32m    384\u001b[0m     \u001b[0mm\u001b[0m \u001b[1;33m=\u001b[0m \u001b[0mshape\u001b[0m\u001b[1;33m[\u001b[0m\u001b[1;36m0\u001b[0m\u001b[1;33m]\u001b[0m\u001b[1;33m\u001b[0m\u001b[0m\n\u001b[0;32m    385\u001b[0m     \u001b[1;32mif\u001b[0m \u001b[0mn\u001b[0m \u001b[1;33m>\u001b[0m \u001b[0mm\u001b[0m\u001b[1;33m:\u001b[0m\u001b[1;33m\u001b[0m\u001b[0m\n\u001b[1;32m--> 386\u001b[1;33m         \u001b[1;32mraise\u001b[0m \u001b[0mTypeError\u001b[0m\u001b[1;33m(\u001b[0m\u001b[1;34m'Improper input: N=%s must not exceed M=%s'\u001b[0m \u001b[1;33m%\u001b[0m \u001b[1;33m(\u001b[0m\u001b[0mn\u001b[0m\u001b[1;33m,\u001b[0m \u001b[0mm\u001b[0m\u001b[1;33m)\u001b[0m\u001b[1;33m)\u001b[0m\u001b[1;33m\u001b[0m\u001b[0m\n\u001b[0m\u001b[0;32m    387\u001b[0m     \u001b[1;32mif\u001b[0m \u001b[0mepsfcn\u001b[0m \u001b[1;32mis\u001b[0m \u001b[1;32mNone\u001b[0m\u001b[1;33m:\u001b[0m\u001b[1;33m\u001b[0m\u001b[0m\n\u001b[0;32m    388\u001b[0m         \u001b[0mepsfcn\u001b[0m \u001b[1;33m=\u001b[0m \u001b[0mfinfo\u001b[0m\u001b[1;33m(\u001b[0m\u001b[0mdtype\u001b[0m\u001b[1;33m)\u001b[0m\u001b[1;33m.\u001b[0m\u001b[0meps\u001b[0m\u001b[1;33m\u001b[0m\u001b[0m\n",
      "\u001b[1;31mTypeError\u001b[0m: Improper input: N=2 must not exceed M=1"
     ]
    }
   ],
   "source": [
    "# for l in tqdm_notebook(np.arange(1, 6)):\n",
    "#     ref = g\n",
    "#     print(\"old: \", ref.number_of_nodes(), ref.number_of_edges())\n",
    "#     print(\"length scale: \", l, \"num nodes: \", ref.number_of_nodes(), \"num edges: \", ref.number_of_edges())\n",
    "#     boxes_subgraphs = list(subgraphs[l].values())\n",
    "# #     ks = [sorted(box.degree, key=lambda x: x[1], reverse=True)[0][1] for box in boxes_subgraphs]\n",
    "#     ks = [box.number_of_edges() / 0.5 for box in boxes_subgraphs]\n",
    "#     node_dict = {}\n",
    "#     for idx, box in enumerate(boxes_subgraphs):\n",
    "#         for node in box.nodes:\n",
    "#             node_dict[node] = str(idx)\n",
    "#     edges = []\n",
    "#     for edge in ref.edges:\n",
    "#         edges.append(tuple(sorted([node_dict[edge[0]], node_dict[edge[1]]])))\n",
    "\n",
    "#     edges = list(set(edges))\n",
    "#     ref = nx.Graph()\n",
    "#     ref.add_edges_from(edges)\n",
    "#     G = ref\n",
    "#     print(\"new: \", ref.number_of_nodes(), ref.number_of_edges())\n",
    "\n",
    "#     degree_sequence = [d for (n, d) in G.degree()]\n",
    "#     degreeCount = collections.Counter(degree_sequence)\n",
    "#     deg, cnt = zip(*degreeCount.items())\n",
    "\n",
    "#     tot = sum(cnt)\n",
    "#     per = [c / tot for c in cnt]\n",
    "\n",
    "#     vals = sorted([(deg[i], per[i]) for i in range(len(deg))])\n",
    "#     x = np.array([v[0] for v in vals])[int(len(vals) * .15):]\n",
    "#     y = np.array([v[1] for v in vals])[int(len(vals) * .15):]\n",
    "\n",
    "#     popt = curve_fit(scale, x, y)\n",
    "#     print(popt)\n",
    "#     popt = popt[0]\n",
    "\n",
    "#     plt.xscale('log')\n",
    "#     plt.yscale('log')\n",
    "#     plt.plot(deg, per, 'x')\n",
    "#     xx = np.linspace(10, max(x), 100)\n",
    "#     yy = [scale(x, *popt) for x in xx]\n",
    "#     plt.plot(xx, yy, lw=5)\n",
    "\n",
    "#     plt.savefig('deg_plots/' + str(idx) + '.png')\n",
    "\n",
    "#     plt.show()\n",
    "    \n",
    "#     y_fit = scale(x, *popt)\n",
    "\n",
    "#     ss_res = np.sum((y - y_fit) ** 2)\n",
    "\n",
    "#     # total sum of squares\n",
    "#     ss_tot = np.sum((y - np.mean(y)) ** 2)\n",
    "\n",
    "#     # r-squared\n",
    "#     r2 = 1 - (ss_res / ss_tot)\n",
    "#     print(r2)"
   ]
  },
  {
   "cell_type": "code",
   "execution_count": null,
   "metadata": {},
   "outputs": [],
   "source": []
  }
 ],
 "metadata": {
  "kernelspec": {
   "display_name": "Python 3",
   "language": "python",
   "name": "python3"
  },
  "language_info": {
   "codemirror_mode": {
    "name": "ipython",
    "version": 3
   },
   "file_extension": ".py",
   "mimetype": "text/x-python",
   "name": "python",
   "nbconvert_exporter": "python",
   "pygments_lexer": "ipython3",
   "version": "3.7.0"
  }
 },
 "nbformat": 4,
 "nbformat_minor": 2
}

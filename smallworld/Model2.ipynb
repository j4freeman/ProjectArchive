{
 "cells": [
  {
   "cell_type": "code",
   "execution_count": 2,
   "metadata": {
    "ExecuteTime": {
     "end_time": "2019-08-12T16:45:24.090760Z",
     "start_time": "2019-08-12T16:45:21.640160Z"
    }
   },
   "outputs": [],
   "source": [
    "%matplotlib inline\n",
    "\n",
    "import networkx as nx\n",
    "from networkx.algorithms import community, bridges, smallworld\n",
    "import numpy as np\n",
    "import matplotlib.pyplot as plt\n",
    "\n",
    "import shutil\n",
    "\n",
    "import collections\n",
    "\n",
    "from scipy import stats, optimize\n",
    "\n",
    "import imageio\n",
    "\n",
    "from sympy.solvers import solve\n",
    "from sympy import Symbol\n",
    "\n",
    "import time\n",
    "\n",
    "import os\n",
    "\n",
    "from IPython.display import Image\n",
    "\n",
    "import copy\n",
    "\n",
    "from tqdm import tnrange, tqdm_notebook\n",
    "\n",
    "import community as cm"
   ]
  },
  {
   "cell_type": "code",
   "execution_count": 3,
   "metadata": {
    "ExecuteTime": {
     "end_time": "2019-08-12T16:45:24.172497Z",
     "start_time": "2019-08-12T16:45:24.091714Z"
    }
   },
   "outputs": [
    {
     "data": {
      "image/png": "[encoded data removed]",
      "text/plain": [
       "<Figure size 432x288 with 1 Axes>"
      ]
     },
     "metadata": {},
     "output_type": "display_data"
    }
   ],
   "source": [
    "lower = 0\n",
    "upper = 1\n",
    "mu = upper / 2\n",
    "sigma = np.sqrt(mu) / 2\n",
    "\n",
    "thresh = 0.95\n",
    "\n",
    "prob_adopted = 0.5\n",
    "\n",
    "neighbor_thresh = 5/100\n",
    "sim_thresh = 0.15\n",
    "\n",
    "product_adoption_jitter = sigma / 12\n",
    "\n",
    "make_gif = False\n",
    "\n",
    "calc_omega = False\n",
    "\n",
    "iters = 5000\n",
    "\n",
    "ims = []\n",
    "\n",
    "product_dist = stats.truncnorm((lower - mu)/sigma, (upper - mu)/sigma, loc=mu, scale=sigma)\n",
    "# schelling_dist = stats.truncnorm((0 - 0.5)/0.15, (1 - 0.5)/0.15, loc=0.5, scale=0.25)\n",
    "\n",
    "def random_product():\n",
    "    return np.random.choice([np.random.beta(0.75, 0.75)*upper, -1], p=[prob_adopted, 1 - prob_adopted])\n",
    "\n",
    "def gauss_random_product():\n",
    "    return np.random.choice([product_dist.rvs(), -1], p=[prob_adopted, 1 - prob_adopted])\n",
    "\n",
    "def random_schelling():\n",
    "    return np.random.rand() * 4/5\n",
    "\n",
    "init = 20\n",
    "\n",
    "G = nx.connected_watts_strogatz_graph(init, 3, np.random.rand())\n",
    "\n",
    "products = dict([(i, random_product()) for i in range(init)])\n",
    "thresholds = dict([(i, np.random.rand() * 2 / 3) for i in range(init)])\n",
    "schellings = dict([(i, random_schelling()) for i in range(init)])\n",
    "\n",
    "nx.set_node_attributes(G, products, 'apt_markakis')\n",
    "nx.set_node_attributes(G, thresholds, 'threshold')\n",
    "nx.set_node_attributes(G, schellings, 'schelling')\n",
    "\n",
    "attrs = [nx.get_node_attributes(G, 'apt_markakis')[i] for i in G]\n",
    "\n",
    "nx.draw_kamada_kawai(G, node_color=attrs, node_size=25)"
   ]
  },
  {
   "cell_type": "code",
   "execution_count": 4,
   "metadata": {
    "ExecuteTime": {
     "end_time": "2019-08-12T16:45:24.197642Z",
     "start_time": "2019-08-12T16:45:24.173495Z"
    }
   },
   "outputs": [],
   "source": [
    "def barabasi_step(graph):\n",
    "    for _ in range(np.random.choice(2, p=[0.3, 0.7])):\n",
    "        tot = graph.number_of_edges() * 2\n",
    "        probs = [val / tot for (_, val) in graph.degree()]\n",
    "        rands = np.random.uniform(size=len(probs))\n",
    "        check = [rands[i] <= probs[i] for i in range(len(probs))]\n",
    "        while not True in check:\n",
    "            rands = np.random.uniform(size=len(probs))\n",
    "            check = [rands[i] <= probs[i] for i in range(len(probs))]\n",
    "        new_prod = random_product()\n",
    "        graph.add_node(len(rands), apt_markakis = new_prod, schelling = random_schelling(), threshold=np.random.rand())\n",
    "        graph.add_edges_from([(len(rands), i) for i in range(len(rands)) if check[i]])\n",
    "    \n",
    "def threshold_met(graph, node):\n",
    "    neighbors = [graph.node[x]['apt_markakis'] for x in graph[node]]\n",
    "    if neighbors:\n",
    "        return (sum([1 for x in neighbors if x > -1]) / len(neighbors)) > graph.node[node]['threshold']\n",
    "    return False\n",
    "    \n",
    "def apt_markakis_step_med(graph):\n",
    "    unset = [x for x in graph.nodes if graph.node[x]['apt_markakis'] < 0]\n",
    "    candidates = [x for x in unset if threshold_met(graph, x)]\n",
    "    if candidates:\n",
    "        tar = np.random.choice(candidates)\n",
    "        neighbors = [graph.node[x]['apt_markakis'] for x in graph.nodes if graph.node[x]['apt_markakis'] > -1]\n",
    "        neighbor_med = np.median([graph.node[x]['apt_markakis'] for x in graph.nodes if graph.node[x]['apt_markakis'] > -1])\n",
    "        adopted = np.random.normal() * product_adoption_jitter + neighbor_med\n",
    "        while adopted < 0 or adopted > upper:\n",
    "            adopted = np.random.normal() * product_adoption_jitter + neighbor_med\n",
    "        graph.node[tar]['apt_markakis'] = adopted\n",
    "    \n",
    "def bucket(neighbor_list, n_buckets):\n",
    "    buckets = [0] * n_buckets\n",
    "    for n in neighbor_list:\n",
    "        idx = int(n * n_buckets)\n",
    "        buckets[idx] += 1\n",
    "        \n",
    "    buckets = [b / sum(buckets) for b in buckets]\n",
    "    \n",
    "    neighbor_med = np.random.choice(n_buckets, p=buckets) / n_buckets\n",
    "        \n",
    "    return neighbor_med\n",
    "    \n",
    "def bucket_markakis(graph):\n",
    "    unset = [x for x in graph.nodes if graph.node[x]['apt_markakis'] < 0]\n",
    "    candidates = [x for x in unset if threshold_met(graph, x)]\n",
    "    if not candidates:\n",
    "        return\n",
    "    tar = np.random.choice(candidates)\n",
    "    neighbor_list = [graph.node[x]['apt_markakis'] for x in graph.nodes if graph.node[x]['apt_markakis'] > -1]\n",
    "    \n",
    "    n_buckets = 100\n",
    "\n",
    "    buckets = [0] * n_buckets\n",
    "    for n in neighbor_list:\n",
    "        idx = int(n * n_buckets)\n",
    "        buckets[idx] += 1\n",
    "        \n",
    "    buckets = [b / sum(buckets) for b in buckets]\n",
    "    \n",
    "    neighbor_med = np.random.choice(n_buckets, p=buckets) / n_buckets\n",
    "\n",
    "    \n",
    "    adopted = np.random.normal() * product_adoption_jitter + neighbor_med\n",
    "    while adopted < 0 or adopted > upper:\n",
    "        adopted = np.random.normal() * product_adoption_jitter + neighbor_med\n",
    "\n",
    "    graph.node[tar]['apt_markakis'] = adopted\n",
    "    \n",
    "def apt_markakis_step_avg(graph):\n",
    "    unset = [x for x in graph.nodes if graph.node[x]['apt_markakis'] < 0]\n",
    "    candidates = [x for x in unset if threshold_met(graph, x)]\n",
    "    if candidates:\n",
    "        tar = np.random.choice(candidates)\n",
    "        neighbor_avg = np.average([graph.node[x]['apt_markakis'] for x in graph.nodes if graph.node[x]['apt_markakis'] > -1])\n",
    "        adopted = np.random.normal() * product_adoption_jitter + neighbor_avg\n",
    "        while adopted < 0:\n",
    "            adopted = np.random.normal() * product_adoption_jitter + neighbor_avg\n",
    "        graph.node[tar]['apt_markakis'] = adopted\n",
    "        \n",
    "def unhappy(graph, node):\n",
    "    neighbors = [graph.node[x]['apt_markakis'] for x in graph[node] if graph.node[x]['apt_markakis'] > -1]\n",
    "    if not neighbors:\n",
    "        return False\n",
    "    dif_neighbors = [x for x in neighbors if np.abs(graph.node[node]['apt_markakis'] - x) / graph.node[node]['apt_markakis'] > neighbor_thresh]\n",
    "    return len(dif_neighbors) / len(neighbors) > sim_thresh\n",
    "\n",
    "def similar(graph, node):\n",
    "    set_nodes = [x for x in graph.nodes() if graph.node[x]['apt_markakis'] > -1]\n",
    "    similars =  [x for x in set_nodes if np.abs(graph.node[node]['apt_markakis'] - graph.node[x]['apt_markakis']) / graph.node[node]['apt_markakis'] <= neighbor_thresh]\n",
    "    return [x for x in similars if not (graph.has_edge(x, node) or graph.has_edge(node, x)) ]\n",
    "    \n",
    "def dif_nodes(graph, node):\n",
    "    neighbors = [x for x in graph[node] if graph.node[x]['apt_markakis'] > -1]\n",
    "    difs =  [x for x in neighbors if np.abs(graph.node[node]['apt_markakis'] - graph.node[x]['apt_markakis']) / graph.node[node]['apt_markakis'] > neighbor_thresh]\n",
    "    return difs\n",
    "\n",
    "    \n",
    "def neighbor_dist_avg(graph, node):\n",
    "    neighbors = [graph.node[x]['apt_markakis'] for x in graph[node] if graph.node[x]['apt_markakis'] > -1]\n",
    "    if neighbors:\n",
    "        return np.sqrt(np.sum([(neighbor - graph.node[node]['apt_markakis'])**2 for neighbor in neighbors])) / len(neighbors)\n",
    "    return np.inf\n",
    "    \n",
    "def euclidian(graph, node, vec):\n",
    "    return np.sum([np.abs(graph.node[node]['apt_markakis'] - graph.node[n]['apt_markakis']) for n in vec]) / len(vec)\n",
    "#     return np.sqrt(np.sum([(graph.node[neighbor]['apt_markakis'] - graph.node[node]['apt_markakis'])**2 for neighbor in vec])) / len(vec)\n",
    "    \n",
    "def schelling_step_avg(graph):\n",
    "    adopted = [x for x in graph.nodes if graph.node[x]['apt_markakis'] > -1]\n",
    "    candidates = [x for x in adopted if unhappy(graph, x)]\n",
    "    add_ctr = 0\n",
    "    rem_ctr = 0\n",
    "    if candidates:\n",
    "        tar = np.random.choice(candidates)\n",
    "        \n",
    "        tot = sum([np.e**x for x in probs])\n",
    "        probs = [np.e**x / tot for x in probs]\n",
    "        friends = list(set([n for i in G[tar] for n in G[i]]))\n",
    "        friend_probs = [1 / (len(friends)) if x in friends else 0 for x in range(len(probs))]\n",
    "        probs = [0.4 * probs[i] + 0.6 * friend_probs[i] for i in range(len(probs))]\n",
    "        test_pts = np.random.choice(len(probs), p=probs, replace=False, size=len(probs))\n",
    "        test_pts = [test for test in test_pts if graph.node[test]['apt_markakis'] > -1]\n",
    "        bs = list(bridges(graph))\n",
    "        for test in test_pts:\n",
    "\n",
    "            neighbors = [x for x in graph[tar] if graph.node[x]['apt_markakis'] > -1]\n",
    "            neighbor_dist = euclidian(graph, tar, neighbors)\n",
    "            if graph.has_edge(test, tar) and (test, tar) not in bs and (tar, test) not in bs:\n",
    "                neighbor_test = copy.deepcopy(neighbors)\n",
    "                neighbor_test.remove(test)\n",
    "                if euclidian(graph, tar, neighbor_test) / neighbor_dist < thresh:\n",
    "                    graph.remove_edge(test, tar)\n",
    "                    bs = list(bridges(graph))\n",
    "                    rem_ctr += 1\n",
    "            elif euclidian(graph, tar, neighbors + [test]) / neighbor_dist < thresh:\n",
    "                graph.add_edge(test, tar)\n",
    "                add_ctr += 1\n",
    "            if not unhappy(graph, tar):\n",
    "                print(\"breaking\")\n",
    "                break\n",
    "            \n",
    "def improved_schelling(graph):\n",
    "    adopted = [x for x in graph.nodes if graph.node[x]['apt_markakis'] > -1]\n",
    "    candidates = [x for x in adopted if unhappy(graph, x)]\n",
    "    add_ctr = 0\n",
    "    rem_ctr = 0\n",
    "    if not candidates:\n",
    "        return\n",
    "    \n",
    "    tar = np.random.choice(candidates)\n",
    "    similars = similar(graph, tar)\n",
    "    sim_vals = [True for _ in similars]\n",
    "    difs = dif_nodes(graph, tar)\n",
    "    dif_vals = [False for _ in difs]\n",
    "    \n",
    "    test_pts = similars + difs\n",
    "    test_vals = sim_vals + dif_vals\n",
    "    \n",
    "    degrees = [graph.degree[x] for x in test_pts]\n",
    "    degrees = [degrees[i] / 4 if test_vals[i] else degrees[i] for i in range(len(degrees))]\n",
    "    degrees = [x/sum(degrees) for x in degrees]\n",
    "    \n",
    "    indices = np.random.choice(len(degrees), p=degrees, replace=False, size=len(degrees))\n",
    "    \n",
    "    bs = list(bridges(graph))\n",
    "    for idx in indices:\n",
    "        if test_vals[idx]:\n",
    "            graph.add_edge(tar, test_pts[idx])\n",
    "        else:\n",
    "            if not (test_pts[idx], tar) in bs and not (tar, test_pts[idx]) in bs:\n",
    "                graph.remove_edge(test_pts[idx], tar)\n",
    "                bs = list(bridges(graph))\n",
    "        if not unhappy(graph, tar):\n",
    "            break\n",
    "                \n",
    "def draw_attrs(graph):\n",
    "    communities = cm.best_partition(G)\n",
    "    attrs = [communities.get(node) for node in G.nodes()]\n",
    "\n",
    "#     attrs = [nx.get_node_attributes(G, 'apt_markakis')[i] for i in G.nodes]\n",
    "    nx.draw_kamada_kawai(G, node_color=attrs, node_size=25, cmap='tab20')"
   ]
  },
  {
   "cell_type": "code",
   "execution_count": 7,
   "metadata": {
    "ExecuteTime": {
     "end_time": "2019-08-12T16:47:11.665838Z",
     "start_time": "2019-08-12T16:45:56.510070Z"
    }
   },
   "outputs": [
    {
     "data": {
      "application/vnd.jupyter.widget-view+json": {
       "model_id": "f4eee614905e45979fcaac53127bceba",
       "version_major": 2,
       "version_minor": 0
      },
      "text/plain": [
       "HBox(children=(IntProgress(value=0, description='generating graphs', max=4, style=ProgressStyle(description_wi…"
      ]
     },
     "metadata": {},
     "output_type": "display_data"
    },
    {
     "data": {
      "application/vnd.jupyter.widget-view+json": {
       "model_id": "ee1cfc9eac8b457788801c0599e36c13",
       "version_major": 2,
       "version_minor": 0
      },
      "text/plain": [
       "HBox(children=(IntProgress(value=0, description='executing model', max=500, style=ProgressStyle(description_wi…"
      ]
     },
     "metadata": {},
     "output_type": "display_data"
    },
    {
     "data": {
      "application/vnd.jupyter.widget-view+json": {
       "model_id": "30b2eeae14f24b499b9eca6df2a5f5b2",
       "version_major": 2,
       "version_minor": 0
      },
      "text/plain": [
       "HBox(children=(IntProgress(value=0, description='executing model', max=500, style=ProgressStyle(description_wi…"
      ]
     },
     "metadata": {},
     "output_type": "display_data"
    },
    {
     "data": {
      "application/vnd.jupyter.widget-view+json": {
       "model_id": "fc05de80b17941938e6d1b66a4a7a65f",
       "version_major": 2,
       "version_minor": 0
      },
      "text/plain": [
       "HBox(children=(IntProgress(value=0, description='executing model', max=500, style=ProgressStyle(description_wi…"
      ]
     },
     "metadata": {},
     "output_type": "display_data"
    },
    {
     "data": {
      "application/vnd.jupyter.widget-view+json": {
       "model_id": "5cab9ffb20464468bf7b0f89c605c1fc",
       "version_major": 2,
       "version_minor": 0
      },
      "text/plain": [
       "HBox(children=(IntProgress(value=0, description='executing model', max=500, style=ProgressStyle(description_wi…"
      ]
     },
     "metadata": {},
     "output_type": "display_data"
    },
    {
     "name": "stdout",
     "output_type": "stream",
     "text": [
      "\n"
     ]
    },
    {
     "data": {
      "text/plain": [
       "<Figure size 432x288 with 0 Axes>"
      ]
     },
     "metadata": {},
     "output_type": "display_data"
    }
   ],
   "source": [
    "for j in tnrange(4, desc='generating graphs'):\n",
    "    \n",
    "    G = nx.connected_watts_strogatz_graph(init, 3, np.random.rand())\n",
    "\n",
    "    products = dict([(i, random_product()) for i in range(init)])\n",
    "    thresholds = dict([(i, np.random.rand() * 2 / 3) for i in range(init)])\n",
    "    schellings = dict([(i, random_schelling()) for i in range(init)])\n",
    "\n",
    "    nx.set_node_attributes(G, products, 'apt_markakis')\n",
    "    nx.set_node_attributes(G, thresholds, 'threshold')\n",
    "    nx.set_node_attributes(G, schellings, 'schelling')\n",
    "    \n",
    "    for i in tnrange(350, desc='executing model'):\n",
    "        barabasi_step(G)\n",
    "        bucket_markakis(G)\n",
    "        improved_schelling(G)\n",
    "        improved_schelling(G)\n",
    "    \n",
    "    for node in G.nodes:\n",
    "        if G.node[node]['apt_markakis'] < 0:\n",
    "            G.node[node]['apt_markakis'] = 0\n",
    "    attrs = [nx.get_node_attributes(G, 'apt_markakis')[i] for i in G.nodes]\n",
    "    nx.draw_kamada_kawai(G, node_color=attrs, node_size=25)\n",
    "    plt.savefig('visualizations/' + str(j) + '.png')\n",
    "    plt.cla()\n",
    "    plt.clf()"
   ]
  },
  {
   "cell_type": "code",
   "execution_count": null,
   "metadata": {},
   "outputs": [],
   "source": []
  }
 ],
 "metadata": {
  "kernelspec": {
   "display_name": "Python 3",
   "language": "python",
   "name": "python3"
  },
  "language_info": {
   "codemirror_mode": {
    "name": "ipython",
    "version": 3
   },
   "file_extension": ".py",
   "mimetype": "text/x-python",
   "name": "python",
   "nbconvert_exporter": "python",
   "pygments_lexer": "ipython3",
   "version": "3.7.0"
  }
 },
 "nbformat": 4,
 "nbformat_minor": 2
}

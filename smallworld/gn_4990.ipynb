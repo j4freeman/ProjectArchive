{
 "cells": [
  {
   "cell_type": "code",
   "execution_count": 1,
   "metadata": {
    "ExecuteTime": {
     "end_time": "2019-08-11T08:48:51.286364Z",
     "start_time": "2019-08-11T08:48:50.160375Z"
    }
   },
   "outputs": [],
   "source": [
    "%matplotlib inline\n",
    "\n",
    "import numpy as np\n",
    "import matplotlib.pyplot as plt\n",
    "from IPython.display import clear_output\n",
    "import scipy.ndimage as ndimage\n",
    "from tqdm import tqdm_notebook\n",
    "import community as cm\n",
    "import networkx as nx\n",
    "from collections import Counter\n",
    "import pickle\n",
    "from natsort import natsorted"
   ]
  },
  {
   "cell_type": "code",
   "execution_count": 2,
   "metadata": {
    "ExecuteTime": {
     "end_time": "2019-08-11T08:50:07.036681Z",
     "start_time": "2019-08-11T08:48:51.454912Z"
    }
   },
   "outputs": [
    {
     "name": "stdout",
     "output_type": "stream",
     "text": [
      "3569\n"
     ]
    }
   ],
   "source": [
    "g = nx.read_graphml('time_graphs/0/4990.graphml')\n",
    "layout = nx.spring_layout(g)\n",
    "\n",
    "communities = nx.algorithms.community.centrality.girvan_newman(g)\n",
    "print(g.number_of_nodes())"
   ]
  },
  {
   "cell_type": "code",
   "execution_count": null,
   "metadata": {
    "ExecuteTime": {
     "start_time": "2019-07-31T14:05:04.666Z"
    }
   },
   "outputs": [
    {
     "data": {
      "application/vnd.jupyter.widget-view+json": {
       "model_id": "9f2213c9160845a39bd71b428b23a519",
       "version_major": 2,
       "version_minor": 0
      },
      "text/plain": [
       "HBox(children=(IntProgress(value=1, bar_style='info', max=1), HTML(value='')))"
      ]
     },
     "metadata": {},
     "output_type": "display_data"
    }
   ],
   "source": [
    "levels = []\n",
    "for com in tqdm_notebook(communities):\n",
    "    levels.append(com)"
   ]
  },
  {
   "cell_type": "code",
   "execution_count": null,
   "metadata": {
    "ExecuteTime": {
     "start_time": "2019-07-31T18:32:19.446Z"
    }
   },
   "outputs": [],
   "source": [
    "pickle.dump(levels, open('4990_levels.pkl', 'wb'))\n",
    "\n",
    "cluster_nodes = []\n",
    "for i in \"abcdefghijklmnopqrstuvwxyz\":\n",
    "    for j in \"abcdefghijklmnopqrstuvwxyz\":\n",
    "        for k in \"abcdefghijklmnopqrstuvwxyz\":\n",
    "            cluster_nodes.append(i + j + k)\n",
    "            \n",
    "dendro = nx.Graph()\n",
    "dendro.add_node(tuple(g.nodes))"
   ]
  },
  {
   "cell_type": "code",
   "execution_count": null,
   "metadata": {
    "ExecuteTime": {
     "start_time": "2019-07-31T18:32:25.207Z"
    }
   },
   "outputs": [],
   "source": [
    "levels = [[tuple(x) for x in sub] for sub in levels]\n",
    "dendro.add_nodes_from(levels[0])\n",
    "dendro.add_edges_from([(tuple(g.nodes), l) for l in levels[0]])\n"
   ]
  },
  {
   "cell_type": "code",
   "execution_count": null,
   "metadata": {
    "ExecuteTime": {
     "start_time": "2019-07-31T18:32:44.956Z"
    }
   },
   "outputs": [],
   "source": [
    "for i in tqdm_notebook(range(len(levels) - 1)):\n",
    "    dendro.add_nodes_from(levels[i])\n",
    "    split = list(set(levels[i]) - set(levels[i]).intersection(set(levels[i+1])))\n",
    "    children = list(set(levels[i+1]) - set(levels[i]).intersection(set(levels[i+1])))\n",
    "    dendro.add_edges_from([(split[0], c) for c in children])\n"
   ]
  },
  {
   "cell_type": "code",
   "execution_count": null,
   "metadata": {
    "ExecuteTime": {
     "start_time": "2019-07-31T18:33:00.328Z"
    }
   },
   "outputs": [],
   "source": [
    "remap_dict = {}\n",
    "counter = 0\n",
    "draws = []\n",
    "print(dendro.number_of_nodes(), dendro.number_of_edges())\n",
    "for n in dendro.nodes:\n",
    "    if len(n) > 1:\n",
    "        remap_dict[n] = cluster_nodes[counter]\n",
    "        counter += 1\n",
    "    else:\n",
    "        remap_dict[n] = n[0]\n",
    "        draws.append(n[0])\n",
    "        \n",
    "remapped = nx.relabel_nodes(dendro, remap_dict)\n",
    "\n",
    "nx.draw_kamada_kawai(remapped, node_size=15, nodelist=draws)"
   ]
  },
  {
   "cell_type": "code",
   "execution_count": null,
   "metadata": {},
   "outputs": [],
   "source": []
  }
 ],
 "metadata": {
  "kernelspec": {
   "display_name": "Python 3",
   "language": "python",
   "name": "python3"
  },
  "language_info": {
   "codemirror_mode": {
    "name": "ipython",
    "version": 3
   },
   "file_extension": ".py",
   "mimetype": "text/x-python",
   "name": "python",
   "nbconvert_exporter": "python",
   "pygments_lexer": "ipython3",
   "version": "3.7.0"
  }
 },
 "nbformat": 4,
 "nbformat_minor": 2
}

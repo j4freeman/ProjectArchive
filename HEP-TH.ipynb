{
 "cells": [
  {
   "cell_type": "code",
   "execution_count": 1,
   "metadata": {
    "ExecuteTime": {
     "end_time": "2019-07-10T08:04:18.442015Z",
     "start_time": "2019-07-10T08:04:15.176434Z"
    }
   },
   "outputs": [],
   "source": [
    "import networkx as nx\n",
    "import numpy as np\n",
    "import datetime\n",
    "from dateutil import parser\n",
    "import matplotlib.pyplot as plt\n",
    "import pandas as pd\n",
    "from tqdm import tqdm_notebook"
   ]
  },
  {
   "cell_type": "code",
   "execution_count": 2,
   "metadata": {
    "ExecuteTime": {
     "end_time": "2019-07-10T08:04:18.447078Z",
     "start_time": "2019-07-10T08:04:18.443049Z"
    }
   },
   "outputs": [],
   "source": [
    "# with open(\"hepth/Cit-HepTh.txt\") as f:\n",
    "#     edges = [line.split() for line in f]\n",
    "    \n",
    "# for e in edges:\n",
    "#     e[0] = '0' * (7 - len(e[0])) + e[0]\n",
    "#     e[1] = '0' * (7 - len(e[1])) + e[1]\n",
    "    \n",
    "# with open(\"hepth/Cit-HepTh-dates.txt\") as f:\n",
    "#     dates = [(line.split()[0], parser.parse(line.split()[1])) for line in f]\n",
    "# #     dates = [(int(line.split()[0]), parser.parse(line.split()[1])) for line in f]\n",
    "    \n",
    "# dates = [d if d[0][:2] != '11' else (d[0][2:], d[1]) for d in dates]\n",
    "    \n",
    "# print(len(edges))\n",
    "# print(len(dates))\n",
    "    \n",
    "# edges = sorted(edges)\n",
    "# dates.sort(key=lambda x: x[1])"
   ]
  },
  {
   "cell_type": "code",
   "execution_count": 3,
   "metadata": {
    "ExecuteTime": {
     "end_time": "2019-07-10T08:04:20.162546Z",
     "start_time": "2019-07-10T08:04:18.448039Z"
    }
   },
   "outputs": [
    {
     "name": "stdout",
     "output_type": "stream",
     "text": [
      "352807\n",
      "29555\n"
     ]
    }
   ],
   "source": [
    "with open(\"hepth/hep-th-citations\") as f:\n",
    "    edges = [(int(line.split()[0]), int(line.split()[1])) for line in f]\n",
    "    \n",
    "with open(\"hepth/hep-th-slacdates\") as f:\n",
    "#     dates = [(line.split()[0], parser.parse(line.split()[1])) for line in f]\n",
    "    dates = [(int(line.split()[0]), parser.parse(line.split()[1])) for line in f]\n",
    "    \n",
    "# dates = [(int(d[0]), d[1]) if d[0][:2] != '11' else (int(d[0][2:]), d[1]) for d in dates]\n",
    "\n",
    "print(len(edges))\n",
    "print(len(dates))\n",
    "    \n",
    "edges = sorted(edges)\n",
    "# dates = sorted(dates)\n",
    "dates.sort(key=lambda x: x[1])"
   ]
  },
  {
   "cell_type": "code",
   "execution_count": 4,
   "metadata": {
    "ExecuteTime": {
     "end_time": "2019-07-10T08:04:20.174251Z",
     "start_time": "2019-07-10T08:04:20.163279Z"
    }
   },
   "outputs": [
    {
     "name": "stdout",
     "output_type": "stream",
     "text": [
      "29555\n"
     ]
    },
    {
     "data": {
      "text/plain": [
       "[(9705032, datetime.datetime(1976, 1, 1, 0, 0)),\n",
       " (1113, datetime.datetime(1982, 1, 1, 0, 0)),\n",
       " (9911050, datetime.datetime(1984, 10, 1, 0, 0)),\n",
       " (9910093, datetime.datetime(1985, 7, 1, 0, 0)),\n",
       " (9512041, datetime.datetime(1986, 10, 28, 0, 0))]"
      ]
     },
     "execution_count": 4,
     "metadata": {},
     "output_type": "execute_result"
    }
   ],
   "source": [
    "# cites = [x[0] for x in edges]\n",
    "\n",
    "# dates = [d for d in dates if d[0] in cites]\n",
    "# edges = [x for x in edges if x[1] in cites]\n",
    "\n",
    "print(len(dates))\n",
    "dates[:5]"
   ]
  },
  {
   "cell_type": "code",
   "execution_count": 5,
   "metadata": {
    "ExecuteTime": {
     "end_time": "2019-07-10T08:04:20.184263Z",
     "start_time": "2019-07-10T08:04:20.176245Z"
    },
    "scrolled": true
   },
   "outputs": [
    {
     "name": "stdout",
     "output_type": "stream",
     "text": [
      "352807\n"
     ]
    },
    {
     "data": {
      "text/plain": [
       "[(1001, 9304045),\n",
       " (1001, 9308122),\n",
       " (1001, 9309097),\n",
       " (1001, 9311042),\n",
       " (1001, 9401139)]"
      ]
     },
     "execution_count": 5,
     "metadata": {},
     "output_type": "execute_result"
    }
   ],
   "source": [
    "print(len(edges))\n",
    "edges[:5]"
   ]
  },
  {
   "cell_type": "code",
   "execution_count": 19,
   "metadata": {
    "ExecuteTime": {
     "end_time": "2019-07-10T08:08:25.391325Z",
     "start_time": "2019-07-10T08:08:25.350435Z"
    }
   },
   "outputs": [
    {
     "data": {
      "text/plain": [
       "[((9910093, 9810028), datetime.datetime(1985, 7, 1, 0, 0)),\n",
       " ((9910093, 9906064), datetime.datetime(1985, 7, 1, 0, 0)),\n",
       " ((9910093, 9908186), datetime.datetime(1985, 7, 1, 0, 0)),\n",
       " ((9910093, 9910093), datetime.datetime(1985, 7, 1, 0, 0)),\n",
       " ((9201015, 9207016), datetime.datetime(1992, 1, 6, 0, 0))]"
      ]
     },
     "execution_count": 19,
     "metadata": {},
     "output_type": "execute_result"
    }
   ],
   "source": [
    "times = dict(dates)\n",
    "\n",
    "# valids = [x[0] for x in dates]\n",
    "    \n",
    "# timed_edges = [(x, max(times[x[0]], times[x[1]])) for x in edges if x[0] in valids and x[1] in valids]\n",
    "# timed_edges = [(x, max(times[x[0]], times[x[1]])) for x in edges]\n",
    "timed_edges = [(x, times[x[0]]) for x in edges]\n",
    "timed_edges.sort(key=lambda x: x[1])\n",
    "timed_edges[:5]"
   ]
  },
  {
   "cell_type": "code",
   "execution_count": 12,
   "metadata": {
    "ExecuteTime": {
     "end_time": "2019-07-10T08:05:39.021216Z",
     "start_time": "2019-07-10T08:05:39.013232Z"
    }
   },
   "outputs": [
    {
     "name": "stdout",
     "output_type": "stream",
     "text": [
      "10\n"
     ]
    },
    {
     "data": {
      "text/plain": [
       "[Timestamp('1993-01-01 00:00:00', freq='MS'),\n",
       " Timestamp('1993-02-01 00:00:00', freq='MS'),\n",
       " Timestamp('1993-03-01 00:00:00', freq='MS'),\n",
       " Timestamp('1993-04-01 00:00:00', freq='MS'),\n",
       " Timestamp('1993-05-01 00:00:00', freq='MS')]"
      ]
     },
     "execution_count": 12,
     "metadata": {},
     "output_type": "execute_result"
    }
   ],
   "source": [
    "cut_pts = pd.date_range('1993-1-1', '1994-1-1', freq='MS')\n",
    "cut_pts = list(cut_pts)[:10]\n",
    "\n",
    "print(len(cut_pts))\n",
    "cut_pts[:5]"
   ]
  },
  {
   "cell_type": "code",
   "execution_count": 31,
   "metadata": {
    "ExecuteTime": {
     "end_time": "2019-07-10T08:16:57.671316Z",
     "start_time": "2019-07-10T08:16:56.840470Z"
    }
   },
   "outputs": [
    {
     "data": {
      "application/vnd.jupyter.widget-view+json": {
       "model_id": "8da5fa6efa5a4b3bb37b6ddf6a31cbf6",
       "version_major": 2,
       "version_minor": 0
      },
      "text/plain": [
       "HBox(children=(IntProgress(value=0, max=10), HTML(value='')))"
      ]
     },
     "metadata": {},
     "output_type": "display_data"
    },
    {
     "name": "stdout",
     "output_type": "stream",
     "text": [
      "1993-01-01 00:00:00\n",
      "491\n",
      "585\n",
      "============\n",
      "1993-02-01 00:00:00\n",
      "567\n",
      "717\n",
      "============\n",
      "1993-03-01 00:00:00\n",
      "666\n",
      "885\n",
      "============\n",
      "1993-04-01 00:00:00\n",
      "812\n",
      "1139\n",
      "============\n",
      "1993-05-01 00:00:00\n",
      "948\n",
      "1424\n",
      "============\n",
      "1993-06-01 00:00:00\n",
      "1074\n",
      "1734\n",
      "============\n",
      "1993-07-01 00:00:00\n",
      "1224\n",
      "2103\n",
      "============\n",
      "1993-08-01 00:00:00\n",
      "1365\n",
      "2459\n",
      "============\n",
      "1993-09-01 00:00:00\n",
      "1510\n",
      "2863\n",
      "============\n",
      "1993-10-01 00:00:00\n",
      "1638\n",
      "3222\n",
      "============\n",
      "\n"
     ]
    }
   ],
   "source": [
    "graphs = []\n",
    "\n",
    "for cut in tqdm_notebook(cut_pts):\n",
    "#     cut = all_dates[cut - 1]\n",
    "    nodes = [x[0] for x in dates if x[1] < cut]\n",
    "#     adds = [x[0] for x in timed_edges if x[1] < cut]\n",
    "    adds = [x for x in edges if x[0] in nodes and x[1] in nodes]\n",
    "    g = nx.DiGraph()\n",
    "#     g.add_nodes_from(nodes)\n",
    "    g.add_edges_from(adds)\n",
    "    \n",
    "#     g = max(nx.connected_component_subgraphs(nx.Graph(g)), key=len)\n",
    "#     g = max(nx.strongly_connected_component_subgraphs(g), key=len)\n",
    "    \n",
    "    graphs.append(g)\n",
    "    print(cut)\n",
    "    print(graphs[-1].number_of_nodes())\n",
    "    print(graphs[-1].number_of_edges())\n",
    "    print(\"============\")\n"
   ]
  },
  {
   "cell_type": "code",
   "execution_count": 29,
   "metadata": {
    "ExecuteTime": {
     "end_time": "2019-07-10T08:15:47.876158Z",
     "start_time": "2019-07-10T08:15:47.762420Z"
    }
   },
   "outputs": [
    {
     "name": "stdout",
     "output_type": "stream",
     "text": [
      "new nodes:  505\n",
      "new nodes:  78\n",
      "new nodes:  102\n",
      "new nodes:  146\n",
      "new nodes:  137\n",
      "new nodes:  141\n",
      "new nodes:  146\n",
      "new nodes:  140\n",
      "new nodes:  141\n",
      "new nodes:  127\n"
     ]
    }
   ],
   "source": [
    "node_dict = {}\n",
    "cur = 0\n",
    "\n",
    "for g in graphs:\n",
    "    old_cur = cur\n",
    "    for node in g.nodes:\n",
    "        if not node in node_dict:\n",
    "            node_dict[node] = cur\n",
    "            cur += 1\n",
    "            \n",
    "    print(\"new nodes: \", cur - old_cur)\n",
    "            \n",
    "for i in range(len(graphs)):\n",
    "    graphs[i] = nx.relabel_nodes(graphs[i], node_dict)"
   ]
  },
  {
   "cell_type": "code",
   "execution_count": 15,
   "metadata": {
    "ExecuteTime": {
     "end_time": "2019-07-10T08:06:42.958209Z",
     "start_time": "2019-07-10T08:06:42.757050Z"
    }
   },
   "outputs": [],
   "source": [
    "for i in range(len(graphs)):\n",
    "    nx.write_graphml(graphs[i], 'hepth/graphs/' + str(i) + '.graphml')"
   ]
  },
  {
   "cell_type": "code",
   "execution_count": 32,
   "metadata": {
    "ExecuteTime": {
     "end_time": "2019-07-10T08:17:01.277979Z",
     "start_time": "2019-07-10T08:17:01.244104Z"
    }
   },
   "outputs": [
    {
     "name": "stdout",
     "output_type": "stream",
     "text": [
      "0.06277883044435466\n",
      "0.08351501067683696\n"
     ]
    }
   ],
   "source": [
    "print(nx.algorithms.cluster.average_clustering(graphs[0]))\n",
    "print(nx.algorithms.cluster.average_clustering(graphs[-1]))"
   ]
  },
  {
   "cell_type": "code",
   "execution_count": null,
   "metadata": {},
   "outputs": [],
   "source": []
  }
 ],
 "metadata": {
  "kernelspec": {
   "display_name": "Python 3",
   "language": "python",
   "name": "python3"
  },
  "language_info": {
   "codemirror_mode": {
    "name": "ipython",
    "version": 3
   },
   "file_extension": ".py",
   "mimetype": "text/x-python",
   "name": "python",
   "nbconvert_exporter": "python",
   "pygments_lexer": "ipython3",
   "version": "3.7.0"
  }
 },
 "nbformat": 4,
 "nbformat_minor": 2
}
